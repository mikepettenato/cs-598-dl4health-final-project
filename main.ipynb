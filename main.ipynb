{
 "cells": [
  {
   "cell_type": "code",
   "execution_count": 2,
   "outputs": [],
   "source": [
    "import datetime\n",
    "import gensim\n",
    "import numpy as np\n",
    "import os.path\n",
    "import pandas as pd\n",
    "import torch, stanza\n",
    "from torch import nn\n",
    "import torch.nn.functional as F\n",
    "import threading\n"
   ],
   "metadata": {
    "collapsed": false,
    "ExecuteTime": {
     "start_time": "2023-04-08T00:35:01.824854Z",
     "end_time": "2023-04-08T00:35:02.331708Z"
    }
   }
  },
  {
   "cell_type": "markdown",
   "source": [
    "# Data Processing\n",
    "\n",
    "This section can have stuff related to data prep.\n",
    "\n",
    "\n",
    "Should the MSPC Dataset be a part of this section? - Adam"
   ],
   "metadata": {
    "collapsed": false
   }
  },
  {
   "cell_type": "code",
   "execution_count": 3,
   "outputs": [],
   "source": [
    "def read_file(file_name):\n",
    "    # Note: Unable to use pd.read_csv... the function complained about an issue with the formatting of the tsv file\n",
    "    # train = pd.read_csv('data/msr_paraphrase_train.txt', sep='\\t', encoding='latin1')\n",
    "    # train\n",
    "\n",
    "    # opting to read file in and split columns manually to create a pandas dataframe\n",
    "    list = []\n",
    "    with open(file_name, encoding=\"utf8\") as f:\n",
    "        lines = f.readlines()\n",
    "        for i, line in enumerate(lines):\n",
    "            fields = line.split('\\t')\n",
    "            list.append(fields)\n",
    "\n",
    "    df = pd.DataFrame(list[1:], columns=['Quality', 'ID1', 'ID2', 'String1', 'String2'])\n",
    "    return df\n"
   ],
   "metadata": {
    "collapsed": false,
    "ExecuteTime": {
     "start_time": "2023-04-08T00:35:01.868489Z",
     "end_time": "2023-04-08T00:35:02.351344Z"
    }
   }
  },
  {
   "cell_type": "markdown",
   "source": [
    "# Model Definition\n",
    "\n",
    "![Model Overview](./images/overview.png)"
   ],
   "metadata": {
    "collapsed": false
   }
  },
  {
   "cell_type": "markdown",
   "source": [
    "\n",
    "## Input Layer\n",
    "\n",
    "In the input layer is made up of a Stanford Parser to provide a syntactic tree so that the model can extract significant words (mainly, subject, predicate, object) in the input corpus. Word2Vec is then used to map the words into vectors"
   ],
   "metadata": {
    "collapsed": false
   }
  },
  {
   "cell_type": "code",
   "execution_count": 4,
   "outputs": [
    {
     "name": "stderr",
     "output_type": "stream",
     "text": [
      "2023-04-12 12:04:43 INFO: Loading these models for language: en (English):\n",
      "===========================\n",
      "| Processor    | Package  |\n",
      "---------------------------\n",
      "| tokenize     | combined |\n",
      "| pos          | combined |\n",
      "| constituency | wsj      |\n",
      "===========================\n",
      "\n",
      "2023-04-12 12:04:43 INFO: Using device: cpu\n",
      "2023-04-12 12:04:43 INFO: Loading: tokenize\n",
      "2023-04-12 12:04:43 INFO: Loading: pos\n",
      "2023-04-12 12:04:44 INFO: Loading: constituency\n",
      "2023-04-12 12:04:44 INFO: Done loading processors!\n"
     ]
    }
   ],
   "source": [
    "# set 'download_method = None' to not download the resources over and over\n",
    "nlp = stanza.Pipeline(lang='en', processors='tokenize,pos,constituency', download_method=None, use_gpu=False)\n",
    "\n",
    "def trunk_construction(str, parent_label = None):\n",
    "    doc = nlp(str)\n",
    "    tree = doc.sentences[0].constituency\n",
    "\n",
    "    words = construct_sentence(tree, parent_label)\n",
    "    return ' '.join(words)\n",
    "\n",
    "def construct_sentence(tree, parent_label = None, leave_pos=False):\n",
    "\n",
    "    sentences = []\n",
    "    if 'NN' in tree.label:\n",
    "        if parent_label == 'NP':\n",
    "            # sentences.append(tree)\n",
    "            sentences = sentences + tree.leaf_labels()\n",
    "    if 'VB' in tree.label:\n",
    "        if parent_label == 'VP':\n",
    "            #sentences.append(tree)\n",
    "            sentences = sentences + tree.leaf_labels()\n",
    "    for child in tree.children:\n",
    "        sentences = sentences + construct_sentence(child, tree.label)\n",
    "\n",
    "    return sentences\n",
    "\n",
    "def find_branches(tree, label, not_in_label=None, ancestors=[]):\n",
    "    branches = []\n",
    "    # print(\"-------------\")\n",
    "    # print(ancestors)\n",
    "    # print(f\"{tree.label} == {label}\")\n",
    "    if tree.label == label and not_in_label not in ancestors:\n",
    "        # print(f\"adding {tree}\")\n",
    "        branches.append(tree)\n",
    "    for child in tree.children:\n",
    "        branches = branches + find_branches(child, label, not_in_label, ancestors + [tree.label])\n",
    "\n",
    "    return branches\n",
    "\n",
    "#\n",
    "# # According to the paper the subject is the first NN child of NP\n",
    "def find_subject(noun_phrase_for_subject):\n",
    "    subject = []\n",
    "    for child in noun_phrase_for_subject.children:\n",
    "        if 'NN' in child.label:\n",
    "            subject = subject + child.leaf_labels()\n",
    "\n",
    "    #print(f\"subject = {subject}\")\n",
    "    #if len(subject) > 0:\n",
    "    #    return ' '.join(subject)\n",
    "    return subject\n",
    "\n",
    "    return None\n",
    "\n",
    "def find_predicate(verb_phrase_for_predicate):\n",
    "    predicate = []\n",
    "    for child in verb_phrase_for_predicate.children:\n",
    "        if child.label.startswith('VB'):\n",
    "            predicate = predicate + child.leaf_labels()\n",
    "\n",
    "    if len(predicate) > 0:\n",
    "        return ' '.join(predicate)\n",
    "\n",
    "    return None\n",
    "\n",
    "def find_object(verb_phase_for_object, parent='VP'):\n",
    "    objects = []\n",
    "    for child in verb_phase_for_object.children:\n",
    "        if child.label == 'VP':\n",
    "            continue\n",
    "        if 'NN' in child.label and parent in ['NP', 'PP', 'ADJP']:\n",
    "            #objects = objects + child.leaf_labels()\n",
    "            new_objects = child.leaf_labels()\n",
    "            for new_object in new_objects:\n",
    "                if new_object not in objects:\n",
    "                    objects.append(new_object)\n",
    "        else:\n",
    "            new_objects = find_object(child, child.label)\n",
    "            #if new_objects not in objects and new_objects is not None:\n",
    "            for new_object in new_objects:\n",
    "                if new_object not in objects:\n",
    "                    objects.append(new_object)\n",
    "                #objects = objects + new_objects\n",
    "\n",
    "    return objects\n",
    "    # if len(objects) > 0:\n",
    "    #     #return ' '.join(objects)\n",
    "    #     return objects\n",
    "    # else:\n",
    "    #     return None\n",
    "\n",
    "def find_spo(tree):\n",
    "    noun_phrases_for_subject = find_branches(tree, label='NP', not_in_label='VP', ancestors=[])\n",
    "    subject_list = []\n",
    "    for noun_phrase_for_subject in noun_phrases_for_subject:\n",
    "        subject = find_subject(noun_phrase_for_subject)\n",
    "        #if subject is not None:\n",
    "        #   subject_list.append(subject)\n",
    "        subject_list = subject_list + subject\n",
    "\n",
    "    verb_phrases = find_branches(tree, label='VP')\n",
    "    predicate_list = []\n",
    "    object_list = []\n",
    "    for verb_phrase in verb_phrases:\n",
    "        predicate = find_predicate(verb_phrase)\n",
    "        if predicate is not None:\n",
    "            predicate_list.append(predicate)\n",
    "        object = find_object(verb_phrase)\n",
    "        object_list = object_list + object\n",
    "        #if object is not None:\n",
    "        #    object_list.append(object)\n",
    "\n",
    "    # dedupe list\n",
    "    subject_list = list(dict.fromkeys(subject_list))\n",
    "    predicate_list = list(dict.fromkeys(predicate_list))\n",
    "    object_list = list(dict.fromkeys(object_list))\n",
    "\n",
    "    return subject_list, predicate_list, object_list"
   ],
   "metadata": {
    "collapsed": false,
    "ExecuteTime": {
     "start_time": "2023-04-08T00:35:01.890215Z",
     "end_time": "2023-04-08T00:35:03.008883Z"
    }
   }
  },
  {
   "cell_type": "code",
   "execution_count": 5,
   "outputs": [],
   "source": [
    " def test_parser(str, valid_subject, valid_predicate, valid_object):\n",
    "\n",
    "    #new_sentence = trunk_construction(str)\n",
    "    #print(new_sentence)\n",
    "    #assert new_sentence == valid_sentence\n",
    "\n",
    "    doc = nlp(str)\n",
    "    tree = doc.sentences[0].constituency\n",
    "\n",
    "    subject_list, predicate_list, object_list = find_spo(tree)\n",
    "    print(f\"Subject = {' '.join(subject_list)}\")\n",
    "    print(f\"Predicate = {' '.join(predicate_list)}\")\n",
    "    print(f\"Object = {' '.join(object_list)}\")\n",
    "\n",
    "    print(f\"{subject_list} = {valid_subject}\")\n",
    "    print(f\"{predicate_list} = {valid_predicate}\")\n",
    "    print(f\"{object_list} = {valid_object}\")\n",
    "    assert subject_list == valid_subject\n",
    "    assert predicate_list == valid_predicate\n",
    "    assert object_list == valid_object\n",
    "\n"
   ],
   "metadata": {
    "collapsed": false,
    "ExecuteTime": {
     "start_time": "2023-04-08T00:35:03.013569Z",
     "end_time": "2023-04-08T00:35:03.015960Z"
    }
   }
  },
  {
   "cell_type": "markdown",
   "source": [
    "## Parser Test Cases\n",
    "Test the parser using some of the training data sentences as input and asserting the output sentence matches the algorithm defined in the paper."
   ],
   "metadata": {
    "collapsed": false
   }
  },
  {
   "cell_type": "code",
   "execution_count": 6,
   "outputs": [
    {
     "name": "stdout",
     "output_type": "stream",
     "text": [
      "Subject = \n",
      "Predicate = have do is designing\n",
      "Object = amount work set architectures\n",
      "[] = []\n",
      "['have', 'do', 'is', 'designing'] = ['have', 'do', 'is', 'designing']\n",
      "['amount', 'work', 'set', 'architectures'] = ['amount', 'work', 'set', 'architectures']\n",
      "Subject = instruction set\n",
      "Predicate = have got do said\n",
      "Object = amount work\n",
      "['instruction', 'set'] = ['instruction', 'set']\n",
      "['have', 'got', 'do', 'said'] = ['have', 'got', 'do', 'said']\n",
      "['amount', 'work'] = ['amount', 'work']\n",
      "Subject = forces\n",
      "Predicate = launch\n",
      "Object = attacks\n",
      "['forces'] = ['forces']\n",
      "['launch'] = ['launch']\n",
      "['attacks'] = ['attacks']\n",
      "Subject = tire\n",
      "Predicate = was replaced\n",
      "Object = driver\n",
      "['tire'] = ['tire']\n",
      "['was', 'replaced'] = ['was', 'replaced']\n",
      "['driver'] = ['driver']\n",
      "Subject = Amrozi\n",
      "Predicate = accused called distorting\n",
      "Object = brother witness evidence\n",
      "['Amrozi'] = ['Amrozi']\n",
      "['accused', 'called', 'distorting'] = ['accused', 'called', 'distorting']\n",
      "['brother', 'witness', 'evidence'] = ['brother', 'witness', 'evidence']\n",
      "Subject = Amrozi\n",
      "Predicate = Referring accused distorting\n",
      "Object = witness brother evidence\n",
      "['Amrozi'] = ['Amrozi']\n",
      "['Referring', 'accused', 'distorting'] = ['Referring', 'accused', 'distorting']\n",
      "['witness', 'brother', 'evidence'] = ['witness', 'brother', 'evidence']\n",
      "Subject = Shares Genentech company products market\n",
      "Predicate = rose\n",
      "Object = percent\n",
      "['Shares', 'Genentech', 'company', 'products', 'market'] = ['Shares', 'Genentech', 'company', 'products', 'market']\n",
      "['rose'] = ['rose']\n",
      "['percent'] = ['percent']\n",
      "Subject = Shares Xoma\n",
      "Predicate = fell were\n",
      "Object = percent trade shares Genentech company products market\n",
      "['Shares', 'Xoma'] = ['Shares', 'Xoma']\n",
      "['fell', 'were'] = ['fell', 'were']\n",
      "['percent', 'trade', 'shares', 'Genentech', 'company', 'products', 'market'] = ['percent', 'trade', 'shares', 'Genentech', 'company', 'products', 'market']\n",
      "Subject = Gyorgy Heizler head disaster unit\n",
      "Predicate = said was carrying\n",
      "Object = coach passengers\n",
      "['Gyorgy', 'Heizler', 'head', 'disaster', 'unit'] = ['Gyorgy', 'Heizler', 'head', 'disaster', 'unit']\n",
      "['said', 'was', 'carrying'] = ['said', 'was', 'carrying']\n",
      "['coach', 'passengers'] = ['coach', 'passengers']\n",
      "Subject = head disaster unit Gyorgy Heizler\n",
      "Predicate = said had failed heed\n",
      "Object = coach driver stop lights\n",
      "['head', 'disaster', 'unit', 'Gyorgy', 'Heizler'] = ['head', 'disaster', 'unit', 'Gyorgy', 'Heizler']\n",
      "['said', 'had', 'failed', 'heed'] = ['said', 'had', 'failed', 'heed']\n",
      "['coach', 'driver', 'stop', 'lights'] = ['coach', 'driver', 'stop', 'lights']\n",
      "Subject = Sheena Young Child network\n",
      "Predicate = hoped lead\n",
      "Object = guidelines service infertility sufferers\n",
      "['Sheena', 'Young', 'Child', 'network'] = ['Sheena', 'Young', 'Child', 'network']\n",
      "['hoped', 'lead'] = ['hoped', 'lead']\n",
      "['guidelines', 'service', 'infertility', 'sufferers'] = ['guidelines', 'service', 'infertility', 'sufferers']\n",
      "Subject = Sheena Young Child network\n",
      "Predicate = said lead\n",
      "Object = guidelines service infertility sufferers\n",
      "['Sheena', 'Young', 'Child', 'network'] = ['Sheena', 'Young', 'Child', 'network']\n",
      "['said', 'lead'] = ['said', 'lead']\n",
      "['guidelines', 'service', 'infertility', 'sufferers'] = ['guidelines', 'service', 'infertility', 'sufferers']\n"
     ]
    }
   ],
   "source": [
    "test_parser(\"\"\"\"We have an incredible amount of work to do, but it is not in [designing new] instruction set architectures.\"\"\", [], ['have', 'do', 'is', 'designing'], ['amount', 'work', 'set', 'architectures'])\n",
    "test_parser(\"\"\"We have got an incredible amount of work to do, but it ain't in the instruction set,\" he said.\"\"\",  ['instruction', 'set'], ['have', 'got', 'do', 'said'], ['amount', 'work'])\n",
    "test_parser('Syrian forces launch new attacks', ['forces'], ['launch'], ['attacks'])\n",
    "test_parser(\"\"\"the flat tire was replaced by the driver\"\"\", ['tire'], ['was', 'replaced'], ['driver'])\n",
    "test_parser(\"\"\"Amrozi accused his brother, whom he called \"the witness\", of deliberately distorting his evidence.\"\"\",\n",
    "            ['Amrozi'], ['accused', 'called', 'distorting'], ['brother',  'witness', 'evidence'])\n",
    "test_parser(\"\"\"Referring to him as only \"the witness\", Amrozi accused his brother of deliberately distorting his evidence.\"\"\",\n",
    "         ['Amrozi'], ['Referring', 'accused', 'distorting'], ['witness', 'brother', 'evidence'])\n",
    "test_parser(\"\"\"Shares of Genentech, a much larger company with several products on the market, rose more than 2 percent\"\"\",\n",
    "            ['Shares', 'Genentech', 'company', 'products', 'market'], ['rose'], ['percent'])\n",
    "\n",
    "test_parser(\"\"\"Shares of Xoma fell 16 percent in early trade, while shares of Genentech, a much larger company with several products on the market, were up 2 percent.\"\"\", ['Shares', 'Xoma'], ['fell', 'were'], ['percent', 'trade', 'shares', 'Genentech', 'company', 'products', 'market'])\n",
    "\n",
    "test_parser(\"\"\"Gyorgy Heizler, head of the local disaster unit, said the coach was carrying 38 passengers.\"\"\",\n",
    "              ['Gyorgy', 'Heizler', 'head', 'disaster', 'unit'], ['said', 'was', 'carrying'], ['coach', 'passengers'])\n",
    "test_parser(\"\"\"The head of the local disaster unit, Gyorgy Heizler, said the coach driver had failed to heed red stop lights.\"\"\",\n",
    "            ['head', 'disaster', 'unit', 'Gyorgy', 'Heizler'], ['said', 'had', 'failed', 'heed'], ['coach', 'driver', 'stop', 'lights'])\n",
    "# test_parser(\"\"\"His wife said he was \"100 percent behind George Bush\" and looked forward to using his years of training in the war.\"\"\",\n",
    "#             \"wife said was percent George Bush looked using years training war\")\n",
    "test_parser(\"\"\"Sheena Young of Child, the national infertility support network, hoped the guidelines would lead to a more \"fair and equitable\" service for infertility sufferers\"\"\", ['Sheena', 'Young', 'Child', 'network'], ['hoped', 'lead'], ['guidelines', 'service', 'infertility', 'sufferers'])\n",
    "test_parser(\"\"\"Sheena Young, for Child, the national infertility support network, said the proposed guidelines should lead to a more \"fair and equitable\" service for infertility sufferers.\"\"\", ['Sheena', 'Young', 'Child', 'network'], ['said', 'lead'], ['guidelines', 'service', 'infertility', 'sufferers'])\n",
    "#\n",
    "# test_parser(\"\"\"Among CNN viewers, 29 percent said they were Republicans and 36 percent called themselves conservatives.\"\"\",\n",
    "#             \"CNN viewers percent said were Republicans percent called conservatives\")\n",
    "# test_parser(\"\"\"Out of Fox viewers, 41 percent describe themselves as Republicans, 24 percent as Democrats and 30 percent as Independents\"\"\",\n",
    "#             \"Fox viewers percent describe Republicans percent Democrats percent Independents\")\n",
    "\n",
    "# Note: stanza parser has a problem with the below sentence.  It is unable to parse it correctly\n",
    "# test_parser(\"\"\"Sheena Young, for Child, the national infertility support network, said the proposed guidelines should lead to a more \"fair and equitable\" service for infertility sufferers.\"\"\", \"\")\n",
    "# test_parser(\"\"\"Among Fox viewers, 41 percent describe themselves as Republicans, 24 percent as Democrats and 30 percent as Independents\"\"\", \"Fox viewers percent describe Republicans percent Democrats percent Independents\")"
   ],
   "metadata": {
    "collapsed": false,
    "ExecuteTime": {
     "start_time": "2023-04-08T00:35:03.023262Z",
     "end_time": "2023-04-08T00:35:08.918548Z"
    }
   }
  },
  {
   "cell_type": "markdown",
   "source": [
    "## Concurrency Parsing\n",
    "Added support for concurrent parsing.  This can help in the performance of the preprocessing"
   ],
   "metadata": {
    "collapsed": false
   }
  },
  {
   "cell_type": "code",
   "execution_count": 7,
   "outputs": [],
   "source": [
    "class SentenceProcessingThread(threading.Thread):\n",
    "    def __init__(self, sentences, output_list, begin, end):\n",
    "        super(SentenceProcessingThread, self).__init__()\n",
    "        self.sentences = sentences\n",
    "        self.nlp = stanza.Pipeline(lang='en', processors='tokenize,pos,constituency', download_method=None, use_gpu=True)\n",
    "        self.output_list = output_list\n",
    "        self.begin = begin\n",
    "        self.end = end\n",
    "\n",
    "    def trunk_construction(self, str, parent_label = None):\n",
    "        doc = self.nlp(str)\n",
    "        tree = doc.sentences[0].constituency\n",
    "\n",
    "        #words = construct_sentence(tree, parent_label)\n",
    "        #return ' '.join(words)\n",
    "\n",
    "        subjects, predicates, objects = find_spo(tree)\n",
    "\n",
    "        return f\"{' '.join(subjects)},{' '.join(predicates)},{' '.join(objects)}\"\n",
    "\n",
    "    def run(self):\n",
    "        print(f\"going to process {self.begin} to {self.end}\")\n",
    "        for i, sentence in enumerate(self.sentences):\n",
    "            new_sentence = self.trunk_construction(sentence)\n",
    "            self.output_list[self.begin + i] = new_sentence\n",
    "\n",
    "def process_sentences_concurrently(sentences, output, p=2):\n",
    "    total = len(sentences)\n",
    "    interval = int(total / p)\n",
    "    threads = []\n",
    "    for i in range(p):\n",
    "        s = i*interval\n",
    "        if i == p-1:\n",
    "            e = total\n",
    "        else:\n",
    "            e = (i+1) * interval\n",
    "        sentences_slice = sentences[s:e]\n",
    "        sentence_thread = SentenceProcessingThread(sentences_slice, output, s, e)\n",
    "        sentence_thread.start()\n",
    "        threads.append(sentence_thread)\n",
    "\n",
    "    for thread in threads:\n",
    "        thread.join()\n",
    "\n",
    "def preprocess_corpus(input_file='data/msr_paraphrase_train.txt', output_file='data/msr_paraphrase_train_stanza.txt', N=None):\n",
    "    print(output_file)\n",
    "    if os.path.exists(output_file):\n",
    "        print(f\"{output_file} already exists\")\n",
    "        return\n",
    "\n",
    "    starttime = datetime.datetime.now()\n",
    "    df = read_file(input_file)\n",
    "\n",
    "    if N is None:\n",
    "        N = len(df.String1)\n",
    "\n",
    "    output1 = [None] * N\n",
    "    output2 = [None] * N\n",
    "\n",
    "    # we can process with more threads if we only have CPU\n",
    "    p = 8\n",
    "\n",
    "    if torch.cuda.is_available():\n",
    "        # if cuda is available we don't need that many threads\n",
    "        # and if the number of threads is set too large using cuda\n",
    "        # we can get out of memory exceptions\n",
    "        p = 2\n",
    "        torch.cuda.empty_cache()\n",
    "\n",
    "    process_sentences_concurrently(df.String1[:N], output1, p)\n",
    "\n",
    "    # try and be careful with gpu memory\n",
    "    if torch.cuda.is_available():\n",
    "        torch.cuda.empty_cache()\n",
    "\n",
    "    process_sentences_concurrently(df.String2[:N], output2, p)\n",
    "\n",
    "    endtime = datetime.datetime.now()\n",
    "\n",
    "    print(f\"time to process {N*2} sentences is {endtime - starttime}\")\n",
    "\n",
    "    stanza_df = df[:N]\n",
    "\n",
    "    processed_string1 = pd.Series(output1)\n",
    "    # processed_string1.apply(gensim.utils.simple_preprocess)\n",
    "    processed_string2 = pd.Series(output2)\n",
    "    #processed_string2.apply(gensim.utils.simple_preprocess)\n",
    "\n",
    "    stanza_df.String1 = processed_string1\n",
    "    stanza_df.String2 = processed_string2\n",
    "\n",
    "    # write the file out.  This can help in the future\n",
    "    print(f\"about to write out {output_file}\")\n",
    "    stanza_df.to_csv(output_file, sep=\"\\t\")\n"
   ],
   "metadata": {
    "collapsed": false,
    "ExecuteTime": {
     "start_time": "2023-04-08T00:35:08.905455Z",
     "end_time": "2023-04-08T00:35:08.941546Z"
    }
   }
  },
  {
   "cell_type": "markdown",
   "source": [
    "## Sentence Preprocessing\n",
    "pass the input sentences from the training dataset through the stanford/stanza parser, extracting the relevant parts of speech and then tokenize the processed sentences using the gensim.utils.simple_preprocess utility"
   ],
   "metadata": {
    "collapsed": false
   }
  },
  {
   "cell_type": "code",
   "execution_count": 8,
   "outputs": [],
   "source": [
    "# start_time = datetime.datetime.now()\n",
    "#\n",
    "# processed_string1 = df[:500].String1.apply(trunk_construction)\n",
    "# processed_string2 = df[:500].String2.apply(trunk_construction)\n",
    "#\n",
    "# end_time = datetime.datetime.now()\n",
    "#\n",
    "# print (f\"Processing 200 sentences with stanza library took {end_time - start_time}\")\n",
    "#\n",
    "# start_time = datetime.datetime.now()\n",
    "#\n",
    "# processed_string1 = processed_string1.apply(gensim.utils.simple_preprocess)\n",
    "# processed_string2 = processed_string2.apply(gensim.utils.simple_preprocess)\n",
    "#\n",
    "# end_time = datetime.datetime.now()\n",
    "#\n",
    "# print (f\"Processing 200 sentences with gensim.utils.simple_preprocess took {end_time - start_time}\")\n",
    "# print(f\"Number of sentences processed in the String1 column: len(processed_string1\")\n",
    "# print(f\"Number of sentences processed in the String2 column: len(processed_string2\")"
   ],
   "metadata": {
    "collapsed": false,
    "ExecuteTime": {
     "start_time": "2023-04-08T00:35:08.907470Z",
     "end_time": "2023-04-08T00:35:08.942412Z"
    }
   }
  },
  {
   "cell_type": "markdown",
   "source": [
    "# Word2Vec Embeddings\n",
    "Take the preprocessed and tokenized sentences and use Word2Vec to get the word embeddings.  Take each word embedding in a sentence and find the mean which will represent the embedding for the sentence."
   ],
   "metadata": {
    "collapsed": false
   }
  },
  {
   "cell_type": "code",
   "execution_count": 9,
   "outputs": [],
   "source": [
    "# from gensim.models import Word2Vec\n",
    "#\n",
    "# corpus = pd.concat([processed_string1, processed_string2], ignore_index=True)\n",
    "#\n",
    "# #model = Word2Vec(sentences=corpus, vector_size=(len(processed_string1) + len(processed_string2)), min_count=2)\n",
    "# # set vector size to reduce computational complexity\n",
    "# model = Word2Vec(sentences=corpus, min_count=1, window=2, vector_size=50)\n",
    "# #model.build_vocab(sentences=corpus)\n",
    "# #model.train(corpus, total_examples=model.corpus_count, epochs=5)\n",
    "#\n",
    "# print(model)\n",
    "# print(model.wv.key_to_index)\n",
    "#\n",
    "# model.wv.get_vector('president')\n",
    "#\n",
    "# # for index, word in enumerate(model.wv.index_to_key):\n",
    "# #     if index == 120:\n",
    "# #         break\n",
    "# #     print(f\"word #{index}/{len(model.wv.index_to_key)} is {word}\")"
   ],
   "metadata": {
    "collapsed": false,
    "ExecuteTime": {
     "start_time": "2023-04-08T00:35:08.908218Z",
     "end_time": "2023-04-08T00:35:08.942594Z"
    }
   }
  },
  {
   "cell_type": "code",
   "execution_count": 10,
   "outputs": [],
   "source": [
    "from gensim.models import Word2Vec\n",
    "\n",
    "# Function is broken out for testing purposes\n",
    "def generate_word2vec_model(corpus):\n",
    "    # Creating the Word2Vec model\n",
    "    model = Word2Vec(sentences=corpus, min_count=1, window=2, vector_size=50)\n",
    "\n",
    "    return model\n"
   ],
   "metadata": {
    "collapsed": false,
    "ExecuteTime": {
     "start_time": "2023-04-08T00:35:08.908525Z",
     "end_time": "2023-04-08T00:35:08.942658Z"
    }
   }
  },
  {
   "cell_type": "code",
   "execution_count": 11,
   "outputs": [],
   "source": [
    "# Function is broken out for testing purposes\n",
    "def sentence_embeddings(w2v_model, sentence, size):\n",
    "    np_embedding = np.zeros(size)\n",
    "    for i, word in enumerate(sentence):\n",
    "        #print(word)\n",
    "        np_embedding[i] = w2v_model.wv.get_vector(word)\n",
    "\n",
    "    return np_embedding\n",
    "    # list = []\n",
    "    # for word in sentence:\n",
    "    #     list.append(w2v_model.wv.get_vector(word))\n",
    "    #\n",
    "    # word_matrix = np.row_stack(list)\n",
    "    # #return np.mean(word_matrix, axis=0)\n",
    "    # return word_matrix"
   ],
   "metadata": {
    "collapsed": false,
    "ExecuteTime": {
     "start_time": "2023-04-08T00:35:08.910846Z",
     "end_time": "2023-04-08T00:35:08.942887Z"
    }
   }
  },
  {
   "cell_type": "code",
   "execution_count": 12,
   "outputs": [],
   "source": [
    "def test_word2vec():\n",
    "\n",
    "    df = read_file('data/msr_paraphrase_train.txt')\n",
    "\n",
    "    sentences1 = df.String1[:5].apply(gensim.utils.simple_preprocess)\n",
    "    sentences2 = df.String2[:5].apply(gensim.utils.simple_preprocess)\n",
    "\n",
    "    corpus = pd.concat([sentences1, sentences2], ignore_index=True)\n",
    "\n",
    "    max_sentence_len = corpus.apply(len).max()\n",
    "\n",
    "    model = generate_word2vec_model(corpus)\n",
    "\n",
    "    embedding = sentence_embeddings(model, corpus[0], (max_sentence_len, 50))\n",
    "    assert embedding.shape == (max_sentence_len, 50)\n",
    "\n",
    "    # Not sure if this will always generate the same embedding\n",
    "    # test_embedding = np.array([-0.00113049, -0.00124808,  0.00252251,  0.00058141,  0.00187964,  0.00379025,\n",
    "    #           -0.00012356,  0.00347055, -0.00241507,  0.00545258, -0.00574078, -0.00489824,\n",
    "    #           -0.00224492,  0.00744946,  0.00350835, -0.00139295, -0.00081134,  0.00655962,\n",
    "    #           0.00244374, -0.00447209, -0.00124291, -0.00092616,  0.0021044,  -0.00092541,\n",
    "    #           0.00284307,  0.00367638,  0.00364716,  0.00519976, -0.00088121,  0.00109841,\n",
    "    #           -0.00219322, -0.00372483,  0.00078702, -0.00612309, -0.00312131,  0.00088071,\n",
    "    #           0.00503909, -0.0009484,  -0.00068209, -0.0004782,   0.00367015,  0.00314679,\n",
    "    #           -0.00302592,  0.00346377,  0.00151145, -0.00076442, -0.0012528,  -0.00087095,\n",
    "    #           -0.00075365,  0.00468711])\n",
    "    #\n",
    "    #\n",
    "    # # not sure if this will always be equal based on comment on test_embedding variable\n",
    "    # assert np.allclose(embedding, test_embedding)\n",
    "\n",
    "test_word2vec()"
   ],
   "metadata": {
    "collapsed": false,
    "ExecuteTime": {
     "start_time": "2023-04-08T00:35:08.911696Z",
     "end_time": "2023-04-08T00:35:09.477774Z"
    }
   }
  },
  {
   "cell_type": "code",
   "execution_count": 13,
   "outputs": [],
   "source": [
    "def init_word2vec(train_input_file, test_input_file):\n",
    "\n",
    "    file_parts = os.path.splitext(train_input_file)\n",
    "    train_output_file = f\"{file_parts[0]}_stanza{file_parts[1]}\"\n",
    "    print(\"About to preprocess data\")\n",
    "    preprocess_corpus(input_file=train_input_file, output_file=train_output_file)\n",
    "    print(\"Done preprocessing data\")\n",
    "\n",
    "    file_parts = os.path.splitext(test_input_file)\n",
    "    test_output_file = f\"{file_parts[0]}_stanza{file_parts[1]}\"\n",
    "    print(\"About to preprocess data\")\n",
    "    preprocess_corpus(input_file=test_input_file, output_file=test_output_file)\n",
    "    print(\"Done preprocessing data\")\n",
    "\n",
    "\n",
    "    train_df = pd.read_csv(train_output_file, sep=\"\\t\")\n",
    "    test_df = pd.read_csv(test_output_file, sep=\"\\t\")\n",
    "\n",
    "    # train_df = read_file(train)\n",
    "    # test_df = read_file(test)\n",
    "\n",
    "    train_sentences1 = train_df.String1.apply(gensim.utils.simple_preprocess)\n",
    "    train_sentences2 = train_df.String2.apply(gensim.utils.simple_preprocess)\n",
    "    test_sentences1 = test_df.String1.apply(gensim.utils.simple_preprocess)\n",
    "    test_sentences2 = test_df.String2.apply(gensim.utils.simple_preprocess)\n",
    "\n",
    "    corpus = pd.concat([train_sentences1, train_sentences2, test_sentences1, test_sentences2], ignore_index=True)\n",
    "    max_sentence_len = corpus.apply(len).max()\n",
    "\n",
    "    word2vec = generate_word2vec_model(corpus)\n",
    "\n",
    "\n",
    "    return word2vec, max_sentence_len\n"
   ],
   "metadata": {
    "collapsed": false
   }
  },
  {
   "cell_type": "code",
   "execution_count": 14,
   "outputs": [],
   "source": [
    "def corpus_embeddings(model, corpus, max_sentence_len):\n",
    "    corpus_size = len(corpus)\n",
    "    embeddings_list = []\n",
    "    embedding_matrix = np.zeros((corpus_size, max_sentence_len, 50))\n",
    "    for i, sentence in enumerate(corpus):\n",
    "        embeddings = sentence_embeddings(model, sentence, size=(max_sentence_len, 50))\n",
    "        embedding_matrix[i] = embeddings\n",
    "        embeddings_list.append(embeddings)\n",
    "\n",
    "    return embedding_matrix"
   ],
   "metadata": {
    "collapsed": false,
    "ExecuteTime": {
     "start_time": "2023-04-08T00:35:08.972122Z",
     "end_time": "2023-04-08T00:35:09.479438Z"
    }
   }
  },
  {
   "cell_type": "code",
   "execution_count": 15,
   "outputs": [],
   "source": [
    "from torch.utils.data import DataLoader, Dataset\n",
    "\n",
    "# Dataset for the MSPC dataset\n",
    "class MSPCDataset(Dataset):\n",
    "    \"\"\"\n",
    "    Arguments:\n",
    "        tsv_file (string): path to the tsv file with sentences to compare and associate quality score\n",
    "        num_records (int): number of records to load.  Defaults to None which is all\n",
    "    \"\"\"\n",
    "    def __init__(self, tsv_file, w2v_model, max_sentence_length, num_records=None):\n",
    "\n",
    "        self.max_sentence_len = max_sentence_length\n",
    "        self.w2v_model = w2v_model\n",
    "\n",
    "        file_parts = os.path.splitext(tsv_file)\n",
    "        output_file = f\"{file_parts[0]}_stanza{file_parts[1]}\"\n",
    "        print(\"About to preprocess data\")\n",
    "        preprocess_corpus(input_file=tsv_file, output_file=output_file)\n",
    "        print(\"Done preprocessing data\")\n",
    "\n",
    "\n",
    "        #df = read_file('data/msr_paraphrase_train.txt')\n",
    "        df = pd.read_csv(output_file, sep=\"\\t\")\n",
    "\n",
    "        if num_records is not None:\n",
    "            processed_string1 = df[:num_records].String1\n",
    "            processed_string2 = df[:num_records].String2\n",
    "            self.quality = df[:num_records].Quality\n",
    "        else:\n",
    "            processed_string1 = df.String1\n",
    "            processed_string2 = df.String2\n",
    "            self.quality = df.Quality\n",
    "\n",
    "        processed_string1 = processed_string1.apply(gensim.utils.simple_preprocess)\n",
    "        processed_string2 = processed_string2.apply(gensim.utils.simple_preprocess)\n",
    "\n",
    "        #corpus = pd.concat([processed_string1, processed_string2], ignore_index=True)\n",
    "\n",
    "\n",
    "        #self.max_sentence_len = corpus.apply(len).max()\n",
    "\n",
    "        #w2v_model = generate_word2vec_model(corpus)\n",
    "\n",
    "        sentence_embeddings1 = corpus_embeddings(self.w2v_model, processed_string1, max_sentence_len=self.max_sentence_len)\n",
    "        sentence_embeddings2 = corpus_embeddings(self.w2v_model, processed_string2, max_sentence_len=self.max_sentence_len)\n",
    "\n",
    "        #self.w2v_model = w2v_model\n",
    "        self.sentences_embeddings1 = sentence_embeddings1\n",
    "        self.sentences_embeddings2 = sentence_embeddings2\n",
    "\n",
    "        # print (f\"Processing 200 sentences with gensim.utils.simple_preprocess took {end_time - start_time}\")\n",
    "        print(f\"Number of sentences processed in the String1 column: {len(processed_string1)}\")\n",
    "        print(f\"Number of sentences processed in the String2 column: {len(processed_string2)}\")\n",
    "        #print(self.sentences_embeddings1)\n",
    "\n",
    "    def __len__(self):\n",
    "        return len(self.sentences_embeddings1)\n",
    "\n",
    "    def __getitem__(self, i):\n",
    "        return torch.FloatTensor(np.stack((self.sentences_embeddings1[i], self.sentences_embeddings2[i]))), self.quality[i]\n",
    "\n",
    "    def get_max_sentence_length(self):\n",
    "        return self.max_sentence_len"
   ],
   "metadata": {
    "collapsed": false,
    "ExecuteTime": {
     "start_time": "2023-04-08T00:35:08.981724Z",
     "end_time": "2023-04-08T00:35:09.479637Z"
    }
   }
  },
  {
   "cell_type": "code",
   "execution_count": 16,
   "outputs": [
    {
     "name": "stdout",
     "output_type": "stream",
     "text": [
      "About to preprocess data\n",
      "data/msr_paraphrase_train_stanza.txt\n",
      "data/msr_paraphrase_train_stanza.txt already exists\n",
      "Done preprocessing data\n",
      "About to preprocess data\n",
      "data/msr_paraphrase_test_stanza.txt\n",
      "data/msr_paraphrase_test_stanza.txt already exists\n",
      "Done preprocessing data\n",
      "About to preprocess data\n",
      "data/msr_paraphrase_train_stanza.txt\n",
      "data/msr_paraphrase_train_stanza.txt already exists\n",
      "Done preprocessing data\n",
      "Number of sentences processed in the String1 column: 10\n",
      "Number of sentences processed in the String2 column: 10\n"
     ]
    }
   ],
   "source": [
    "def test_dataset():\n",
    "    word2vec, max_sentence_length = init_word2vec('data/msr_paraphrase_train.txt', 'data/msr_paraphrase_test.txt')\n",
    "    dataset = MSPCDataset('data/msr_paraphrase_train.txt', word2vec, max_sentence_length, 10)\n",
    "    assert len(dataset) == 10\n",
    "\n",
    "    x1, y1 = dataset[0]\n",
    "    assert x1.shape[0] == 2\n",
    "    assert x1.shape[1] == max_sentence_length\n",
    "    assert x1.shape[2] == 50\n",
    "\n",
    "    # for set in dataset:\n",
    "    #     print(len(set[0]), len(set[1]))\n",
    "    # print(len(dataset[0][0]))\n",
    "    # print(dataset[0])\n",
    "test_dataset()"
   ],
   "metadata": {
    "collapsed": false,
    "ExecuteTime": {
     "start_time": "2023-04-07T14:32:14.561411Z",
     "end_time": "2023-04-07T14:32:14.897963Z"
    }
   }
  },
  {
   "cell_type": "markdown",
   "source": [
    "## Dataloaders\n",
    "Create training and test dataloaders"
   ],
   "metadata": {
    "collapsed": false
   }
  },
  {
   "cell_type": "code",
   "execution_count": 17,
   "outputs": [
    {
     "name": "stdout",
     "output_type": "stream",
     "text": [
      "About to preprocess data\n",
      "data/msr_paraphrase_train_stanza.txt\n",
      "data/msr_paraphrase_train_stanza.txt already exists\n",
      "Done preprocessing data\n",
      "About to preprocess data\n",
      "data/msr_paraphrase_test_stanza.txt\n",
      "data/msr_paraphrase_test_stanza.txt already exists\n",
      "Done preprocessing data\n",
      "About to preprocess data\n",
      "data/msr_paraphrase_train_stanza.txt\n",
      "data/msr_paraphrase_train_stanza.txt already exists\n",
      "Done preprocessing data\n",
      "Number of sentences processed in the String1 column: 4076\n",
      "Number of sentences processed in the String2 column: 4076\n",
      "About to preprocess data\n",
      "data/msr_paraphrase_test_stanza.txt\n",
      "data/msr_paraphrase_test_stanza.txt already exists\n",
      "Done preprocessing data\n",
      "Number of sentences processed in the String1 column: 1725\n",
      "Number of sentences processed in the String2 column: 1725\n"
     ]
    }
   ],
   "source": [
    "word2vec, max_sentence_length = init_word2vec('data/msr_paraphrase_train.txt', 'data/msr_paraphrase_test.txt')\n",
    "train_dataset = MSPCDataset('data/msr_paraphrase_train.txt', word2vec, max_sentence_length)\n",
    "test_dataset = MSPCDataset('data/msr_paraphrase_test.txt', word2vec, max_sentence_length)\n",
    "\n",
    "train_dataloader = DataLoader(train_dataset, batch_size=64, shuffle=False)\n",
    "test_dataloader = DataLoader(test_dataset, batch_size=64, shuffle=False)"
   ],
   "metadata": {
    "collapsed": false
   }
  },
  {
   "cell_type": "code",
   "execution_count": 18,
   "outputs": [
    {
     "data": {
      "text/plain": "array([[-5.56535041e-03,  2.95463810e-03, -1.71689894e-02,\n         3.30229639e-03, -8.89909174e-03, -4.95196916e-02,\n         6.96158782e-02,  6.93173707e-02, -8.44126120e-02,\n        -3.25277448e-02, -2.75369640e-02, -4.65404205e-02,\n        -2.26332787e-02, -3.01282248e-03, -5.05426899e-02,\n         2.04178169e-02,  5.10362759e-02, -1.66661311e-02,\n        -8.17051828e-02, -4.77533415e-02, -8.17572640e-04,\n         7.33559057e-02,  1.04467176e-01, -2.07837615e-02,\n         3.00869681e-02,  9.20944568e-03, -7.44782528e-03,\n         1.81885883e-02, -8.02870020e-02,  2.38084607e-02,\n         4.43288833e-02, -2.57266201e-02, -5.54376002e-03,\n         7.90978968e-03, -1.76377390e-02,  1.71821043e-02,\n         5.22020347e-02,  1.12248976e-02,  2.96028946e-02,\n        -4.76199947e-02,  7.23228306e-02, -4.97927377e-03,\n        -3.32006291e-02, -1.92973111e-02,  1.18176632e-01,\n        -4.15061862e-04,  2.55717468e-02, -4.41606008e-02,\n         5.45731634e-02,  4.81359921e-02],\n       [-1.21448062e-01,  1.92327052e-02, -1.20436683e-01,\n         6.23969585e-02, -1.08526789e-01, -3.25581461e-01,\n         2.72293776e-01,  3.89794052e-01, -3.10678005e-01,\n        -2.00661272e-01, -3.46168801e-02, -2.16358185e-01,\n        -3.88832837e-02,  4.48788628e-02, -1.84096456e-01,\n         1.34041026e-01,  2.96257585e-01, -3.06596011e-02,\n        -4.27011639e-01, -3.16895455e-01,  6.75212219e-02,\n         2.62199610e-01,  4.98028040e-01, -6.10677786e-02,\n         1.85166314e-01,  6.27628863e-02, -9.89133194e-02,\n         9.80412215e-02, -3.74349028e-01,  1.11254208e-01,\n         1.27658471e-01, -8.11992586e-02, -7.83076808e-02,\n         3.41501236e-02, -1.71189174e-01,  5.04988320e-02,\n         2.20609322e-01, -4.19015922e-02,  6.50199950e-02,\n        -2.53202140e-01,  2.47619897e-01, -1.91998929e-02,\n        -1.68057144e-01, -3.59750772e-03,  5.54791987e-01,\n         3.92028093e-02,  1.47417542e-02, -1.77123934e-01,\n         1.97018921e-01,  2.86549747e-01],\n       [-1.75193459e-01,  4.97250296e-02, -2.26263806e-01,\n         1.30815253e-01, -1.86109319e-01, -5.42061985e-01,\n         4.42361921e-01,  6.48571610e-01, -5.42027235e-01,\n        -3.55890483e-01, -7.95594603e-02, -4.02281046e-01,\n        -7.70600289e-02,  8.65804702e-02, -3.19084078e-01,\n         1.93487927e-01,  4.80905771e-01, -3.03902943e-02,\n        -7.12138593e-01, -5.36490858e-01,  8.06000456e-02,\n         4.64619666e-01,  8.16870391e-01, -1.60969928e-01,\n         3.54732633e-01,  1.24883786e-01, -1.72618821e-01,\n         1.60526454e-01, -6.53796792e-01,  1.64088026e-01,\n         2.09080502e-01, -8.93865526e-02, -1.35607421e-01,\n         5.09096012e-02, -2.97196448e-01,  7.37111717e-02,\n         3.88610035e-01, -4.98292185e-02,  1.37501106e-01,\n        -4.54555780e-01,  4.47993547e-01, -3.50303352e-02,\n        -2.51790851e-01, -6.08562455e-02,  9.25320208e-01,\n         2.69458238e-02,  6.07225858e-02, -2.74790347e-01,\n         3.30854505e-01,  5.10300040e-01],\n       [ 5.11337211e-03, -6.89450465e-03, -3.68584617e-04,\n        -8.63907859e-03, -6.56968914e-03, -2.26777676e-03,\n         2.75054071e-02,  2.68304646e-02, -3.61790545e-02,\n        -9.39033087e-03,  1.55031262e-02,  3.07476474e-03,\n        -2.19877716e-02,  1.95064489e-02, -9.48838075e-04,\n         2.42154300e-03,  1.59102324e-02, -2.34140619e-03,\n        -2.87159788e-03,  2.16676714e-03, -1.52338929e-02,\n         4.24611615e-03,  1.08554568e-02,  2.65423371e-03,\n         8.09127372e-03,  1.31766601e-02, -2.36817803e-02,\n        -6.83706300e-03, -3.61297578e-02, -1.38325170e-02,\n         5.62445819e-03,  4.21276037e-03,  1.10718366e-02,\n         3.25045316e-03, -7.96490628e-03, -8.95239413e-03,\n         2.79935561e-02,  4.48084204e-03, -5.87198371e-03,\n         2.39126873e-03,  1.92633513e-02,  1.69238925e-03,\n        -1.29624121e-02,  9.59750637e-03,  4.36699279e-02,\n         1.80488043e-02, -8.99701286e-03, -1.09880213e-02,\n        -7.31773861e-03,  3.16772610e-02],\n       [-2.94963513e-02,  1.84327122e-02, -3.63096446e-02,\n         4.56244312e-02, -5.03893942e-02, -9.55046415e-02,\n         7.47970641e-02,  1.60192624e-01, -9.79468152e-02,\n        -8.22214484e-02, -1.84830336e-04, -1.09569103e-01,\n        -4.37087603e-02,  1.24875596e-02, -4.70506251e-02,\n         2.46092696e-02,  1.00885659e-01, -2.02200301e-02,\n        -1.28066868e-01, -1.06497467e-01,  9.96028911e-03,\n         1.19569615e-01,  1.82942152e-01, -4.04394902e-02,\n         9.45781320e-02,  4.40998636e-02, -2.92066745e-02,\n         5.21029606e-02, -1.34731933e-01,  3.10244728e-02,\n         2.47095898e-02, -3.63552421e-02, -1.01886559e-02,\n         5.65217109e-04, -7.58075193e-02, -1.36941916e-03,\n         9.37107205e-02, -4.61239461e-03,  5.01640551e-02,\n        -8.39136541e-02,  9.20448452e-02, -1.74307600e-02,\n        -3.62889841e-02, -2.85737906e-02,  2.10213736e-01,\n         2.27156077e-02,  1.75422598e-02, -7.89782032e-02,\n         7.06891194e-02,  9.65000615e-02],\n       [-5.32997735e-02,  2.30152085e-02, -6.97141588e-02,\n         4.31092009e-02, -5.87562136e-02, -1.59279436e-01,\n         1.34725183e-01,  1.73599586e-01, -1.36477828e-01,\n        -1.03388943e-01, -2.76274588e-02, -1.29360259e-01,\n        -2.99513340e-02,  6.67343196e-03, -8.15808102e-02,\n         4.40626778e-02,  1.05226994e-01, -1.82582699e-02,\n        -2.01454118e-01, -1.37837842e-01,  3.64427641e-02,\n         1.18999764e-01,  2.41166607e-01, -6.20704144e-02,\n         8.16177875e-02,  3.37945223e-02, -4.62188944e-02,\n         4.09156121e-02, -1.73236877e-01,  3.72302756e-02,\n         5.08691855e-02, -4.28137928e-02, -2.06315909e-02,\n         2.34673414e-02, -9.52497423e-02,  9.37861949e-03,\n         1.08427227e-01, -1.92918687e-03,  5.46917133e-02,\n        -9.54278186e-02,  1.38349786e-01, -1.82259418e-02,\n        -5.79514205e-02, -2.27695405e-02,  2.49092594e-01,\n        -7.95370247e-03,  3.42822447e-02, -8.74656215e-02,\n         1.10251762e-01,  1.20085433e-01],\n       [-1.21323198e-01,  1.07248570e-03, -1.48234889e-01,\n         7.61958286e-02, -1.19202152e-01, -3.61583233e-01,\n         3.17342907e-01,  4.30619657e-01, -3.78216594e-01,\n        -2.16412753e-01, -5.69207929e-02, -2.84079462e-01,\n        -6.65819421e-02,  5.09696156e-02, -2.02751011e-01,\n         1.35937795e-01,  3.22598666e-01, -2.51118578e-02,\n        -4.57329482e-01, -3.37784767e-01,  4.64543216e-02,\n         2.87623197e-01,  5.60063601e-01, -9.23533514e-02,\n         2.17272237e-01,  7.30085373e-02, -1.21444903e-01,\n         8.00080895e-02, -4.48077261e-01,  1.02027372e-01,\n         1.35864556e-01, -4.64263186e-02, -1.07062198e-01,\n         6.36269897e-02, -1.69926420e-01,  2.78761052e-02,\n         2.80775517e-01, -4.31014113e-02,  1.10976443e-01,\n        -2.87681371e-01,  3.15473288e-01, -4.93109673e-02,\n        -1.61141261e-01, -1.85010415e-02,  6.49592102e-01,\n         2.28942614e-02,  3.24400254e-02, -1.92916349e-01,\n         2.25878388e-01,  3.30206215e-01]], dtype=float32)"
     },
     "execution_count": 18,
     "metadata": {},
     "output_type": "execute_result"
    }
   ],
   "source": [
    "# filters out all zero filled columns to get the proper number of words in a sentence\n",
    "#train_dataset[0][0][~np.all(train_dataset[0][0][0] == 0, axis=1)]\n",
    "x = train_dataset[0][0][0].numpy()\n",
    "x[~np.all(x == 0, axis=1)]\n"
   ],
   "metadata": {
    "collapsed": false
   }
  },
  {
   "cell_type": "code",
   "execution_count": 19,
   "outputs": [],
   "source": [
    "def conv_output_volume(W, F, S, P):\n",
    "\n",
    "    \"\"\"\n",
    "    TODO: Given the input volume size $W$, the kernel/filter size $F$,\n",
    "    the stride $S$, and the amount of zero padding $P$ used on the border,\n",
    "    calculate the output volume size.\n",
    "    Note the output should a integer.\n",
    "    \"\"\"\n",
    "\n",
    "    # your code here\n",
    "    #https://cs231n.github.io/convolutional-networks/\n",
    "\n",
    "    return int((W-F+2*P)/S+1)"
   ],
   "metadata": {
    "collapsed": false,
    "ExecuteTime": {
     "start_time": "2023-04-07T14:32:15.557166Z",
     "end_time": "2023-04-07T14:32:15.560063Z"
    }
   }
  },
  {
   "cell_type": "code",
   "execution_count": 20,
   "outputs": [
    {
     "name": "stdout",
     "output_type": "stream",
     "text": [
      "50\n"
     ]
    }
   ],
   "source": [
    "print(conv_output_volume(50, 3, 1, 1))"
   ],
   "metadata": {
    "collapsed": false,
    "ExecuteTime": {
     "start_time": "2023-04-07T14:32:18.231576Z",
     "end_time": "2023-04-07T14:32:18.377984Z"
    }
   }
  },
  {
   "cell_type": "markdown",
   "source": [
    "## Pooling Layers\n",
    "\n",
    "The original paper used a dynamic k-max pooling method in their model. The _k_ value is determine by equation (1).\n",
    "\n",
    "\\begin{equation*} k=\\max \\left({k_{top},\\left \\lceil{ \\frac {L-l}{L} \\left |{ s }\\right | }\\right \\rceil }\\right)\\end{equation*}\n",
    "\n",
    "__Dynamic K-Max Pooling Implementation:__"
   ],
   "metadata": {
    "collapsed": false
   }
  },
  {
   "cell_type": "code",
   "execution_count": 21,
   "outputs": [],
   "source": [
    "# #https://gist.github.com/anna-hope/7a2b2e66c3645aa8e4f94dbf06aed8dc\n",
    "# \"\"\"\n",
    "# TODO: Remove hardcoded values and max it dynamic.\n",
    "# \"\"\"\n",
    "# class DynamicKMaxPooling(nn.Module):\n",
    "#     def __init__(self, k_init, conv_layers, layer):\n",
    "#         super().__init__()\n",
    "#         # \"L is the total  number  of  convolutional  layers\n",
    "#         # in  the  network;\n",
    "#         # ktop is the fixed pooling parameter for the\n",
    "#         # topmost  convolutional  layer\"\n",
    "#         self.k_init = k_init\n",
    "#         self.conv_layers = conv_layers\n",
    "#         self.layer = layer\n",
    "#\n",
    "#     def forward(self, X):\n",
    "#         s = 50\n",
    "#         dyn_k = ((self.conv_layers - self.layer) / self.conv_layers) * 3\n",
    "#         k_max = int(round(max(self.k_init, np.ceil(dyn_k))))\n",
    "#         print(k_max)\n",
    "#         out = F.max_pool1d(X, kernel_size=k_max)\n",
    "#         return out"
   ],
   "metadata": {
    "collapsed": false,
    "ExecuteTime": {
     "start_time": "2023-04-07T15:50:59.023740Z",
     "end_time": "2023-04-07T15:50:59.325715Z"
    }
   }
  },
  {
   "cell_type": "markdown",
   "source": [
    "## Sentence Similarity Convolution Network (SSCN)"
   ],
   "metadata": {
    "collapsed": false
   }
  },
  {
   "cell_type": "markdown",
   "source": [
    "### Pooling Layers\n",
    "\n",
    "The original paper used a dynamic k-max pooling method in their model. The _k_ value is determine by equation (1).\n",
    "\n",
    "\\begin{equation*} k=\\max \\left({k_{top},\\left \\lceil{ \\frac {L-l}{L} \\left |{ s }\\right | }\\right \\rceil }\\right)\\end{equation*}\n",
    "\n",
    "__Dynamic K-Max Pooling Implementation:__"
   ],
   "metadata": {
    "collapsed": false
   }
  },
  {
   "cell_type": "code",
   "execution_count": 22,
   "outputs": [],
   "source": [
    "#https://gist.github.com/anna-hope/7a2b2e66c3645aa8e4f94dbf06aed8dc\n",
    "\"\"\"\n",
    "TODO: Remove hardcoded values and max it dynamic.\n",
    "\"\"\"\n",
    "class DynamicKMaxPooling(nn.Module):\n",
    "    def __init__(self, k_init, conv_layers):\n",
    "        super().__init__()\n",
    "        # \"L is the total  number  of  convolutional  layers\n",
    "        # in  the  network;\n",
    "        # ktop is the fixed pooling parameter for the\n",
    "        # topmost  convolutional  layer\"\n",
    "        self.k_init = k_init\n",
    "        self.conv_layers = conv_layers\n",
    "\n",
    "    def pool(self, X, l):\n",
    "        # s is sequence length\n",
    "        # l is current layer in network\n",
    "        s = X.shape[2]\n",
    "        dyn_k = ((self.conv_layers - l) / self.conv_layers) * s\n",
    "        k_max = int(round(max(self.k_init, np.ceil(dyn_k))))\n",
    "        return F.max_pool1d(X, kernel_size=k_max)\n",
    "\n",
    "    def forward(self, X):\n",
    "        for layer_i in range(self.conv_layers,0,-1):\n",
    "            X = self.pool(X, layer_i)\n",
    "\n",
    "        return X"
   ],
   "metadata": {
    "collapsed": false,
    "ExecuteTime": {
     "start_time": "2023-04-08T00:35:09.384185Z",
     "end_time": "2023-04-08T00:35:09.528064Z"
    }
   }
  },
  {
   "cell_type": "markdown",
   "source": [
    "Testing Dynamic K-Max Pooling Layer"
   ],
   "metadata": {
    "collapsed": false
   }
  },
  {
   "cell_type": "code",
   "execution_count": 23,
   "outputs": [],
   "source": [
    "NUM_OF_SAMPLES = 20\n",
    "SAMPLE_SIZE = 2\n",
    "OUTPUT_SIZE = 15\n",
    "\n",
    "test_embedding = torch.rand((NUM_OF_SAMPLES, SAMPLE_SIZE, OUTPUT_SIZE))\n",
    "dyn_k_layer = DynamicKMaxPooling(3, SAMPLE_SIZE)\n",
    "\n",
    "# Call forward with convolution layer index [2,1]\n",
    "out = dyn_k_layer(test_embedding)\n",
    "\n",
    "assert out.shape[2] == 1\n",
    "assert out.shape[1] == SAMPLE_SIZE\n",
    "assert out.shape[0] == NUM_OF_SAMPLES"
   ],
   "metadata": {
    "collapsed": false,
    "ExecuteTime": {
     "start_time": "2023-04-08T00:35:09.384376Z",
     "end_time": "2023-04-08T00:35:09.528155Z"
    }
   }
  },
  {
   "cell_type": "markdown",
   "source": [
    "### Sentence Similarity\n",
    "\n",
    " \\begin{align*} Man(\\vec V_{x}, \\vec V_{y})=&\\left |{ x_{1}-y_{1} }\\right |\\! +\\! \\left |{ x_{2}-y_{2} }\\right | \\!+ \\!\\ldots \\!+ \\!\\left |{ x_{n}-y_{n} }\\right |\n",
    " \\\\ score=&e^{-Man(\\vec V_{x}, \\vec V_{y})},\\quad score\\in [{0,1}] \\end{align*}"
   ],
   "metadata": {
    "collapsed": false
   }
  },
  {
   "cell_type": "code",
   "execution_count": 24,
   "outputs": [],
   "source": [
    "\"\"\"\n",
    "* X: Pooled output of SSCN model of shape (sample_size, -1)\n",
    "* For the purpose of this experiment sample_size = 2\n",
    "\"\"\"\n",
    "def manhattan_similarity_score(X):\n",
    "    sample_count, _, M = X.shape\n",
    "    Vx = X[:,0].reshape((sample_count,M))\n",
    "    Vy = X[:,1].reshape((sample_count,M))\n",
    "    mdist = torch.sum(torch.abs(Vx-Vy),dim=1).view(sample_count,-1)\n",
    "    score = torch.exp(-1*mdist)\n",
    "    return score"
   ],
   "metadata": {
    "collapsed": false,
    "ExecuteTime": {
     "start_time": "2023-04-08T00:35:09.385728Z",
     "end_time": "2023-04-08T00:35:09.528218Z"
    }
   }
  },
  {
   "cell_type": "code",
   "execution_count": 59,
   "outputs": [],
   "source": [
    "class SentenceSimilarityCNN(nn.Module):\n",
    "    def __init__(self, max_sentence_size, stride=1, kernel_size=3, padding=1):\n",
    "        super(SentenceSimilarityCNN, self).__init__()\n",
    "        self.max_sentence_size = max_sentence_size\n",
    "        self.stride = stride\n",
    "        self.kernel_size = kernel_size\n",
    "        self.padding = padding\n",
    "\n",
    "        self.conv1 = nn.Conv2d(in_channels=2, out_channels=2, kernel_size=self.kernel_size, padding=self.padding)\n",
    "        self.activation = nn.ReLU()\n",
    "\n",
    "        # [64, 2, 19, 50] -> [B, num_sent, max_sent_len, embedding_size]\n",
    "        out1 = ((19 - self.kernel_size + 2*self.padding)/self.stride) + 1\n",
    "        out2 = ((50 - self.kernel_size + 2*self.padding)/self.stride) + 1\n",
    "\n",
    "        print(f\"out1: {out1} & out2: {out2}\")\n",
    "\n",
    "        # TODO: change this to k-max pooling\n",
    "        self.pooling = nn.MaxPool2d(kernel_size=3)\n",
    "\n",
    "        pool_out1 = (out1 - self.kernel_size) + 1\n",
    "\n",
    "        pool_out2 = (out2 - self.kernel_size) + 1\n",
    "\n",
    "        print(f\"pool_out1: {pool_out1} & pool_out2: {pool_out2}\")\n",
    "\n",
    "\n",
    "        output_volume = conv_output_volume(50, self.kernel_size, self.padding, self.stride)\n",
    "        print(f\"output_volume = {output_volume}\")\n",
    "        self.fc = nn.Linear(in_features=192, out_features=100)\n",
    "\n",
    "    def forward(self, x):\n",
    "        #print(f\"shape before convolution {x.shape}\")\n",
    "        x = self.conv1(x)\n",
    "        #print(f\"shape after convolution {x.shape}\")\n",
    "        x = self.activation(x)\n",
    "        x = self.pooling(x)\n",
    "        #print(f\"shape after pooling {x.shape}\")\n",
    "        #x = self.fc(x)\n",
    "        #x = x.reshape(2, self.max_sentence_size)\n",
    "\n",
    "        # permute_x = torch.permute(x, (1, 0, 2, 3))\n",
    "        # x1 = permute_x[0]\n",
    "        # x2 = permute_x[1]\n",
    "\n",
    "        x = x.view(x.size()[0], -1)\n",
    "\n",
    "        x = self.fc(x)\n",
    "        x = x.reshape(x.shape[0], 2, 50)\n",
    "        x = torch.permute(x, (1, 0, 2))\n",
    "        man_dist = torch.sum(torch.abs(x[0] - x[1]), axis=1)\n",
    "        # sentence1_mean = torch.mean(x1, axis=1)\n",
    "        # sentence2_mean = torch.mean(x2, axis=1)\n",
    "        # man_dist = torch.sum(torch.abs(sentence1_mean - sentence2_mean), axis=1)\n",
    "        # print(man_dist.shape)\n",
    "\n",
    "        return torch.exp(-man_dist)"
   ],
   "metadata": {
    "collapsed": false
   }
  },
  {
   "cell_type": "code",
   "execution_count": 60,
   "outputs": [
    {
     "name": "stdout",
     "output_type": "stream",
     "text": [
      "out1: 19.0 & out2: 50.0\n",
      "pool_out1: 17.0 & pool_out2: 48.0\n",
      "output_volume = 50\n",
      "Epoch 0: curr_epoch_loss=0.45003339648246765\n",
      "Epoch 1: curr_epoch_loss=0.3766529858112335\n",
      "Epoch 2: curr_epoch_loss=0.34655487537384033\n",
      "Epoch 3: curr_epoch_loss=0.32073214650154114\n",
      "Epoch 4: curr_epoch_loss=0.35813137888908386\n",
      "Epoch 5: curr_epoch_loss=0.3499026894569397\n",
      "Epoch 6: curr_epoch_loss=0.3584439158439636\n",
      "Epoch 7: curr_epoch_loss=0.4264533519744873\n",
      "Epoch 8: curr_epoch_loss=0.34714972972869873\n",
      "Epoch 9: curr_epoch_loss=0.36404508352279663\n",
      "Epoch 10: curr_epoch_loss=0.35007184743881226\n",
      "Epoch 11: curr_epoch_loss=0.36739444732666016\n",
      "Epoch 12: curr_epoch_loss=0.385358601808548\n",
      "Epoch 13: curr_epoch_loss=0.3676868975162506\n",
      "Epoch 14: curr_epoch_loss=0.3722991943359375\n",
      "Epoch 15: curr_epoch_loss=0.3129156827926636\n",
      "Epoch 16: curr_epoch_loss=0.351377934217453\n",
      "Epoch 17: curr_epoch_loss=0.37929195165634155\n",
      "Epoch 18: curr_epoch_loss=0.36248648166656494\n",
      "Epoch 19: curr_epoch_loss=0.34297069907188416\n",
      "Epoch 20: curr_epoch_loss=0.3783767819404602\n",
      "Epoch 21: curr_epoch_loss=0.35583147406578064\n",
      "Epoch 22: curr_epoch_loss=0.3371405005455017\n",
      "Epoch 23: curr_epoch_loss=0.3499051332473755\n",
      "Epoch 24: curr_epoch_loss=0.3901861310005188\n",
      "Epoch 25: curr_epoch_loss=0.38856786489486694\n",
      "Epoch 26: curr_epoch_loss=0.3487679362297058\n",
      "Epoch 27: curr_epoch_loss=0.3935074508190155\n",
      "Epoch 28: curr_epoch_loss=0.3774681091308594\n",
      "Epoch 29: curr_epoch_loss=0.35712772607803345\n"
     ]
    }
   ],
   "source": [
    "model = SentenceSimilarityCNN(train_dataset.get_max_sentence_length())\n",
    "criterion = nn.MSELoss()\n",
    "optimizer = torch.optim.SGD(model.parameters(), lr=1e-1)\n",
    "n_epochs=30\n",
    "def train(train_loader, n_epochs=n_epochs):\n",
    "    model.train()\n",
    "    for epoch in range(n_epochs):\n",
    "        curr_epoch_loss = []\n",
    "        for sentence_pairs, y in train_loader:\n",
    "            y_hat = model(sentence_pairs)\n",
    "            # print(\"training\")\n",
    "            # print(y_hat)\n",
    "            # print(y)\n",
    "            # print(\"======\")\n",
    "            loss = criterion(y_hat, y.float())\n",
    "\n",
    "            optimizer.zero_grad()\n",
    "            loss.backward()\n",
    "            optimizer.step()\n",
    "\n",
    "            curr_epoch_loss.append(loss.cpu().data.numpy())\n",
    "\n",
    "        print(f\"Epoch {epoch}: curr_epoch_loss={np.mean(curr_epoch_loss)}\")\n",
    "\n",
    "    return model\n",
    "\n",
    "model = train(train_dataloader)\n"
   ],
   "metadata": {
    "collapsed": false
   }
  },
  {
   "cell_type": "code",
   "execution_count": 61,
   "outputs": [
    {
     "name": "stdout",
     "output_type": "stream",
     "text": [
      "tensor([0.0089, 0.0089, 0.0089, 0.0089, 0.0089, 0.0088, 0.0089, 0.0089, 0.0089,\n",
      "        0.0089, 0.0089, 0.0089, 0.0094, 0.0089, 0.0089, 0.0089, 0.0089, 0.0089,\n",
      "        0.0093, 0.0089, 0.0089, 0.0089, 0.0089, 0.0089, 0.0089, 0.0089, 0.0089,\n",
      "        0.0089, 0.0089, 0.0089, 0.0089, 0.0089, 0.0089, 0.0089, 0.0089, 0.0089,\n",
      "        0.0089, 0.0089, 0.0089, 0.0089, 0.0089, 0.0089, 0.0101, 0.0089, 0.0089,\n",
      "        0.0089, 0.0089, 0.0089, 0.0089, 0.0088, 0.0100, 0.0089, 0.0097, 0.0089,\n",
      "        0.0102, 0.0100, 0.0089, 0.0089, 0.0089, 0.0089, 0.0089, 0.0089, 0.0089,\n",
      "        0.0089], grad_fn=<ExpBackward0>)\n",
      "tensor([0, 0, 0, 0, 0, 0, 0, 0, 0, 0, 0, 0, 0, 0, 0, 0, 0, 0, 0, 0, 0, 0, 0, 0,\n",
      "        0, 0, 0, 0, 0, 0, 0, 0, 0, 0, 0, 0, 0, 0, 0, 0, 0, 0, 0, 0, 0, 0, 0, 0,\n",
      "        0, 0, 0, 0, 0, 0, 0, 0, 0, 0, 0, 0, 0, 0, 0, 0], dtype=torch.int32)\n",
      "tensor([1, 0, 1, 0, 1, 1, 0, 1, 0, 1, 0, 0, 0, 1, 1, 0, 0, 0, 0, 1, 0, 1, 1, 1,\n",
      "        0, 0, 1, 1, 1, 0, 0, 1, 1, 0, 1, 1, 0, 1, 1, 1, 1, 0, 1, 0, 1, 1, 0, 1,\n",
      "        1, 1, 1, 1, 1, 1, 0, 1, 1, 0, 1, 1, 0, 0, 0, 1])\n"
     ]
    }
   ],
   "source": [
    "def eval_model(model, test_dataloader):\n",
    "    model.eval()\n",
    "    for sentence_pairs, y in test_dataloader:\n",
    "        y_hat = model(sentence_pairs)\n",
    "        print(y_hat)\n",
    "        y_pred = torch.zeros(y_hat.shape)\n",
    "        y_pred = (y_hat > 0.7).int()\n",
    "        print(y_pred)\n",
    "        print(y)\n",
    "        break\n",
    "\n",
    "eval_model(model, train_dataloader)"
   ],
   "metadata": {
    "collapsed": false
   }
  },
  {
   "cell_type": "markdown",
   "source": [
    " bn_Testing Similarity Scoring Function_"
   ],
   "metadata": {
    "collapsed": false
   }
  },
  {
   "cell_type": "code",
   "execution_count": 170,
   "outputs": [],
   "source": [
    "NUM_OF_SAMPLES = 20\n",
    "SAMPLE_SIZE = 2\n",
    "OUTPUT_SIZE = 6\n",
    "\n",
    "test_embedding = torch.rand((NUM_OF_SAMPLES, SAMPLE_SIZE, OUTPUT_SIZE))\n",
    "scores = manhattan_similarity_score(test_embedding)\n",
    "\n",
    "assert scores.shape == (NUM_OF_SAMPLES, 1)\n"
   ],
   "metadata": {
    "collapsed": false,
    "ExecuteTime": {
     "start_time": "2023-04-08T00:35:09.386951Z",
     "end_time": "2023-04-08T00:35:09.528280Z"
    }
   }
  },
  {
   "cell_type": "code",
   "execution_count": 171,
   "outputs": [],
   "source": [
    "class SSCN(nn.Module):\n",
    "    def __init__(self, sample_size, stride=1, kernel_size=3, padding=1):\n",
    "        super().__init__()\n",
    "        self.stride = stride\n",
    "        self.kernel_size = kernel_size\n",
    "        self.padding = padding\n",
    "        self.conv_layers =sample_size\n",
    "\n",
    "        #NN layers\n",
    "        self.conv1 = nn.Conv1d(in_channels=self.conv_layers, out_channels=self.conv_layers, \\\n",
    "                               kernel_size=self.kernel_size, padding=self.padding)\n",
    "        self.relu1 = nn.ReLU()\n",
    "        self.conv2 = nn.Conv1d(in_channels=self.conv_layers, out_channels=self.conv_layers, \\\n",
    "                               kernel_size=self.kernel_size, padding=self.padding)\n",
    "        self.relu2 = nn.ReLU()\n",
    "        self.pool1 = DynamicKMaxPooling(self.kernel_size, self.conv_layers)\n",
    "\n",
    "        self.sscn = nn.Sequential(self.conv1, self.relu1, self.conv2, self.relu2, self.pool1)\n",
    "\n",
    "    \"\"\"\n",
    "    * X: Pooled output of SSCN model of shape (sample_size, -1)\n",
    "    * For the purpose of this experiment sample_size = 2\n",
    "    \"\"\"\n",
    "    def manhattan_similarity_score(self, X):\n",
    "        score = manhattan_similarity_score(X)\n",
    "        return score\n",
    "\n",
    "    def forward(self, X):\n",
    "        # X = self.conv1(X)\n",
    "        # print(X.shape)\n",
    "        # X = self.relu1(X)\n",
    "        # print(X.shape)\n",
    "        # X = self.conv1(X)\n",
    "        # print(X.shape)\n",
    "        # X = self.relu2(X)\n",
    "        # print(X.shape)\n",
    "        # X = self.pool1(X)\n",
    "        # print(X.shape)\n",
    "        # X = self.manhattan_similarity_score(X)\n",
    "        # print(X.shape)\n",
    "        X = self.manhattan_similarity_score(self.sscn(X))\n",
    "        return X"
   ],
   "metadata": {
    "collapsed": false,
    "ExecuteTime": {
     "start_time": "2023-04-08T00:35:09.387486Z",
     "end_time": "2023-04-08T00:35:09.528347Z"
    }
   }
  },
  {
   "cell_type": "markdown",
   "source": [
    "__Testing:__"
   ],
   "metadata": {
    "collapsed": false
   }
  },
  {
   "cell_type": "code",
   "execution_count": 172,
   "outputs": [
    {
     "name": "stdout",
     "output_type": "stream",
     "text": [
      "SSCN(\n",
      "  (conv1): Conv1d(2, 2, kernel_size=(3,), stride=(1,), padding=(1,))\n",
      "  (relu1): ReLU()\n",
      "  (conv2): Conv1d(2, 2, kernel_size=(3,), stride=(1,), padding=(1,))\n",
      "  (relu2): ReLU()\n",
      "  (pool1): DynamicKMaxPooling()\n",
      "  (sscn): Sequential(\n",
      "    (0): Conv1d(2, 2, kernel_size=(3,), stride=(1,), padding=(1,))\n",
      "    (1): ReLU()\n",
      "    (2): Conv1d(2, 2, kernel_size=(3,), stride=(1,), padding=(1,))\n",
      "    (3): ReLU()\n",
      "    (4): DynamicKMaxPooling()\n",
      "  )\n",
      ")\n",
      "torch.Size([20, 1])\n"
     ]
    }
   ],
   "source": [
    "NUM_OF_SAMPLES = 20\n",
    "SAMPLE_SIZE = 2\n",
    "UNIQUE_FEATURES = 18\n",
    "\n",
    "test_embedding = torch.rand((NUM_OF_SAMPLES, SAMPLE_SIZE, UNIQUE_FEATURES))\n",
    "\n",
    "model = SSCN(SAMPLE_SIZE)\n",
    "# shape (batch,sample,sentence,word)?\n",
    "print(model)\n",
    "\n",
    "out = model(test_embedding)\n",
    "\n",
    "assert out.shape[0] == NUM_OF_SAMPLES\n",
    "assert out.shape[1] == 1\n",
    "print(out.shape)\n"
   ],
   "metadata": {
    "collapsed": false,
    "ExecuteTime": {
     "start_time": "2023-04-08T00:35:09.388774Z",
     "end_time": "2023-04-08T00:35:09.528518Z"
    }
   }
  }
 ],
 "metadata": {
  "kernelspec": {
   "display_name": "Python 3",
   "language": "python",
   "name": "python3"
  },
  "language_info": {
   "codemirror_mode": {
    "name": "ipython",
    "version": 2
   },
   "file_extension": ".py",
   "mimetype": "text/x-python",
   "name": "python",
   "nbconvert_exporter": "python",
   "pygments_lexer": "ipython2",
   "version": "2.7.6"
  }
 },
 "nbformat": 4,
 "nbformat_minor": 0
}
