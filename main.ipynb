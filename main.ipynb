{
 "cells": [
  {
   "cell_type": "code",
   "execution_count": 76,
   "outputs": [],
   "source": [
    "import datetime\n",
    "import gensim\n",
    "import numpy as np\n",
    "import os.path\n",
    "import pandas as pd\n",
    "import torch, stanza\n",
    "from torch import nn\n",
    "import torch.nn.functional as F\n",
    "import threading\n"
   ],
   "metadata": {
    "collapsed": false,
    "ExecuteTime": {
     "start_time": "2023-04-08T00:35:01.824854Z",
     "end_time": "2023-04-08T00:35:02.331708Z"
    }
   }
  },
  {
   "cell_type": "markdown",
   "source": [
    "# Data Processing\n",
    "\n",
    "This section can have stuff related to data prep.\n",
    "\n",
    "\n",
    "Should the MSPC Dataset be a part of this section? - Adam"
   ],
   "metadata": {
    "collapsed": false
   }
  },
  {
   "cell_type": "code",
   "execution_count": 77,
   "outputs": [],
   "source": [
    "def read_file(file_name):\n",
    "    # Note: Unable to use pd.read_csv... the function complained about an issue with the formatting of the tsv file\n",
    "    # train = pd.read_csv('data/msr_paraphrase_train.txt', sep='\\t', encoding='latin1')\n",
    "    # train\n",
    "\n",
    "    # opting to read file in and split columns manually to create a pandas dataframe\n",
    "    list = []\n",
    "    with open(file_name, encoding=\"utf8\") as f:\n",
    "        lines = f.readlines()\n",
    "        for i, line in enumerate(lines):\n",
    "            fields = line.split('\\t')\n",
    "            list.append(fields)\n",
    "\n",
    "    df = pd.DataFrame(list[1:], columns=['Quality', 'ID1', 'ID2', 'String1', 'String2'])\n",
    "    return df\n"
   ],
   "metadata": {
    "collapsed": false,
    "ExecuteTime": {
     "start_time": "2023-04-08T00:35:01.868489Z",
     "end_time": "2023-04-08T00:35:02.351344Z"
    }
   }
  },
  {
   "cell_type": "markdown",
   "source": [
    "# Model Definition\n",
    "\n",
    "![Model Overview](./images/overview.png)"
   ],
   "metadata": {
    "collapsed": false
   }
  },
  {
   "cell_type": "markdown",
   "source": [
    "\n",
    "## Input Layer\n",
    "\n",
    "In the input layer is made up of a Stanford Parser to provide a syntactic tree so that the model can extract significant words (mainly, subject, predicate, object) in the input corpus. Word2Vec is then used to map the words into vectors"
   ],
   "metadata": {
    "collapsed": false
   }
  },
  {
   "cell_type": "code",
   "execution_count": 78,
   "outputs": [
    {
     "name": "stderr",
     "output_type": "stream",
     "text": [
      "2023-04-08 22:19:15 INFO: Loading these models for language: en (English):\n",
      "===========================\n",
      "| Processor    | Package  |\n",
      "---------------------------\n",
      "| tokenize     | combined |\n",
      "| pos          | combined |\n",
      "| constituency | wsj      |\n",
      "===========================\n",
      "\n",
      "2023-04-08 22:19:15 INFO: Using device: cpu\n",
      "2023-04-08 22:19:15 INFO: Loading: tokenize\n",
      "2023-04-08 22:19:15 INFO: Loading: pos\n",
      "2023-04-08 22:19:15 INFO: Loading: constituency\n",
      "2023-04-08 22:19:16 INFO: Done loading processors!\n"
     ]
    }
   ],
   "source": [
    "# set 'download_method = None' to not download the resources over and over\n",
    "nlp = stanza.Pipeline(lang='en', processors='tokenize,pos,constituency', download_method=None, use_gpu=False)\n",
    "\n",
    "def trunk_construction(str, parent_label = None):\n",
    "    doc = nlp(str)\n",
    "    tree = doc.sentences[0].constituency\n",
    "\n",
    "    words = construct_sentence(tree, parent_label)\n",
    "    return ' '.join(words)\n",
    "\n",
    "def construct_sentence(tree, parent_label = None, leave_pos=False):\n",
    "\n",
    "    sentences = []\n",
    "    if 'NN' in tree.label:\n",
    "        if parent_label == 'NP':\n",
    "            # sentences.append(tree)\n",
    "            sentences = sentences + tree.leaf_labels()\n",
    "    if 'VB' in tree.label:\n",
    "        if parent_label == 'VP':\n",
    "            #sentences.append(tree)\n",
    "            sentences = sentences + tree.leaf_labels()\n",
    "    for child in tree.children:\n",
    "        sentences = sentences + construct_sentence(child, tree.label)\n",
    "\n",
    "    return sentences\n",
    "\n",
    "def find_subject_branches(tree):\n",
    "    subjects = []\n",
    "    if tree.label == 'S':\n",
    "        subjects.append(tree)\n",
    "\n",
    "    for child in tree.children:\n",
    "        subjects = subjects + find_subject_branches(child)\n",
    "\n",
    "    return subjects\n",
    "\n",
    "# #\n",
    "# # # According to the paper the subject is the first NN child of NP\n",
    "# def find_subject(noun_phrase):\n",
    "#     subject = None\n",
    "#     for child in noun_phrase.children:\n",
    "#         if  'NN' in child.label:\n",
    "#             subject = ' '.join(child.leaf_labels())\n",
    "#             break\n",
    "#\n",
    "#     print(subject)\n",
    "#     return subject\n",
    "#\n",
    "# def find_predicate(verb_phrase):\n",
    "#     predicate = None\n",
    "#     for child in verb_phrase.children:\n",
    "#         if 'VB' in child.label:\n",
    "#             predicate = child.leaf_labels()\n",
    "#             break\n",
    "#\n",
    "#     return predicate\n",
    "#\n",
    "# def find_object(verb_phrase, parent_label = None):\n",
    "#     objects = []\n",
    "#     if 'NN' in verb_phrase.label and (parent_label == 'NP' or parent_label == 'PP' or parent_label == 'ADJP'):\n",
    "#         objects.append(' '.join(verb_phrase.leaf_labels()))\n",
    "#     else:\n",
    "#         for child in verb_phrase.children:\n",
    "#             objects = objects + find_object(child, verb_phrase.label)\n",
    "#\n",
    "#     return objects\n",
    "#\n",
    "#\n",
    "# def find_spo(s):\n",
    "#     subject, predicate, obj = None, None, None\n",
    "#     for child in s.children:\n",
    "#         if child.label == 'NP':\n",
    "#             subject = find_subject(child)\n",
    "#         if child.label == 'VP':\n",
    "#             predicate = find_predicate(child)\n",
    "#             obj = ' '.join(find_object(child))\n",
    "#\n",
    "#     return subject, predicate, obj\n",
    "#\n",
    "# def trunk_construction(str):\n",
    "#     doc = nlp(str)\n",
    "#     tree = doc.sentences[0].constituency\n",
    "#     print(tree)\n",
    "#     subject_branches = find_subject_branches(tree)\n",
    "#     subjects, predicates, objects = [], [], []\n",
    "#     for subject in subject_branches:\n",
    "#         subject, predicate, object = find_spo(subject)\n",
    "#         if subject is not None: subjects.append(subject)\n",
    "#         if predicate is not None: predicates.append(predicate)\n",
    "#         if objects is not None: objects.append(object)\n",
    "\n",
    "    return subjects, predicates, objects"
   ],
   "metadata": {
    "collapsed": false,
    "ExecuteTime": {
     "start_time": "2023-04-08T00:35:01.890215Z",
     "end_time": "2023-04-08T00:35:03.008883Z"
    }
   }
  },
  {
   "cell_type": "code",
   "execution_count": 79,
   "outputs": [],
   "source": [
    "def test_parser(str, valid_sentence):\n",
    "\n",
    "    new_sentence = trunk_construction(str)\n",
    "    # print(new_sentence)\n",
    "    assert new_sentence == valid_sentence"
   ],
   "metadata": {
    "collapsed": false,
    "ExecuteTime": {
     "start_time": "2023-04-08T00:35:03.013569Z",
     "end_time": "2023-04-08T00:35:03.015960Z"
    }
   }
  },
  {
   "cell_type": "markdown",
   "source": [
    "## Parser Test Cases\n",
    "Test the parser using some of the training data sentences as input and asserting the output sentence matches the algorithm defined in the paper."
   ],
   "metadata": {
    "collapsed": false
   }
  },
  {
   "cell_type": "code",
   "execution_count": 82,
   "outputs": [],
   "source": [
    "test_parser('Syrian forces launch new attacks', \"forces launch attacks\")\n",
    "test_parser(\"\"\"the flat tire was replaced by the driver\"\"\",\"tire was replaced driver\")\n",
    "test_parser(\"\"\"Amrozi accused his brother, whom he called \"the witness\", of deliberately distorting his evidence.\"\"\",\n",
    "           \"Amrozi accused brother called witness distorting evidence\")\n",
    "test_parser(\"\"\"Shares of Genentech, a much larger company with several products on the market, rose more than 2 percent\"\"\",\n",
    "            \"Shares Genentech company products market rose percent\")\n",
    "test_parser(\"\"\"Gyorgy Heizler, head of the local disaster unit, said the coach was carrying 38 passengers.\"\"\",\n",
    "             \"Gyorgy Heizler head disaster unit said coach was carrying passengers\")\n",
    "test_parser(\"\"\"Referring to him as only \"the witness\", Amrozi accused his brother of deliberately distorting his evidence.\"\"\",\n",
    "           \"Referring witness Amrozi accused brother distorting evidence\")\n",
    "test_parser(\"\"\"His wife said he was \"100 percent behind George Bush\" and looked forward to using his years of training in the war.\"\"\",\n",
    "            \"wife said was percent George Bush looked using years training war\")\n",
    "test_parser(\"\"\"Sheena Young of Child, the national infertility support network, hoped the guidelines would lead to a more \"fair and equitable\" service for infertility sufferers\"\"\", \"Sheena Young Child network hoped guidelines lead service infertility sufferers\")\n",
    "test_parser(\"\"\"Sheena Young, for Child, the national infertility support network, said the proposed guidelines should lead to a more \"fair and equitable\" service for infertility sufferers.\"\"\", \"Sheena Young Child network said guidelines lead service infertility sufferers\")\n",
    "\n",
    "test_parser(\"\"\"Among CNN viewers, 29 percent said they were Republicans and 36 percent called themselves conservatives.\"\"\",\n",
    "            \"CNN viewers percent said were Republicans percent called conservatives\")\n",
    "test_parser(\"\"\"Out of Fox viewers, 41 percent describe themselves as Republicans, 24 percent as Democrats and 30 percent as Independents\"\"\",\n",
    "            \"Fox viewers percent describe Republicans percent Democrats percent Independents\")\n",
    "\n",
    "# Note: stanza parser has a problem with the below sentence.  It is unable to parse it correctly\n",
    "# test_parser(\"\"\"Sheena Young, for Child, the national infertility support network, said the proposed guidelines should lead to a more \"fair and equitable\" service for infertility sufferers.\"\"\", \"\")\n",
    "# test_parser(\"\"\"Among Fox viewers, 41 percent describe themselves as Republicans, 24 percent as Democrats and 30 percent as Independents\"\"\", \"Fox viewers percent describe Republicans percent Democrats percent Independents\")"
   ],
   "metadata": {
    "collapsed": false,
    "ExecuteTime": {
     "start_time": "2023-04-08T00:35:03.023262Z",
     "end_time": "2023-04-08T00:35:08.918548Z"
    }
   }
  },
  {
   "cell_type": "markdown",
   "source": [
    "## Concurrency Parsing\n",
    "Added support for concurrent parsing.  This can help in the performance of the preprocessing"
   ],
   "metadata": {
    "collapsed": false
   }
  },
  {
   "cell_type": "code",
   "execution_count": 83,
   "outputs": [],
   "source": [
    "class SentenceProcessingThread(threading.Thread):\n",
    "    def __init__(self, sentences, output_list, begin, end):\n",
    "        super(SentenceProcessingThread, self).__init__()\n",
    "        self.sentences = sentences\n",
    "        self.nlp = stanza.Pipeline(lang='en', processors='tokenize,pos,constituency', download_method=None, use_gpu=True)\n",
    "        self.output_list = output_list\n",
    "        self.begin = begin\n",
    "        self.end = end\n",
    "\n",
    "    def trunk_construction(self, str, parent_label = None):\n",
    "        doc = self.nlp(str)\n",
    "        tree = doc.sentences[0].constituency\n",
    "\n",
    "        words = construct_sentence(tree, parent_label)\n",
    "        return ' '.join(words)\n",
    "\n",
    "    def run(self):\n",
    "        print(f\"going to process {self.begin} to {self.end}\")\n",
    "        for i, sentence in enumerate(self.sentences):\n",
    "            new_sentence = trunk_construction(sentence)\n",
    "            self.output_list[self.begin + i] = new_sentence\n",
    "\n",
    "def process_sentences_concurrently(sentences, output, p=2):\n",
    "    total = len(sentences)\n",
    "    interval = int(total / p)\n",
    "    threads = []\n",
    "    for i in range(p):\n",
    "        s = i*interval\n",
    "        if i == p-1:\n",
    "            e = total\n",
    "        else:\n",
    "            e = (i+1) * interval\n",
    "        sentences_slice = sentences[s:e]\n",
    "        sentence_thread = SentenceProcessingThread(sentences_slice, output, s, e)\n",
    "        sentence_thread.start()\n",
    "        threads.append(sentence_thread)\n",
    "\n",
    "    for thread in threads:\n",
    "        thread.join()\n",
    "\n",
    "def preprocess_corpus(input_file='data/msr_paraphrase_train.txt', output_file='data/msr_paraphrase_train_stanza.txt', N=None):\n",
    "    if os.path.exists(output_file):\n",
    "        print(f\"{output_file} already exists\")\n",
    "        return\n",
    "\n",
    "    starttime = datetime.datetime.now()\n",
    "    df = read_file(input_file)\n",
    "\n",
    "    if N is None:\n",
    "        N = len(df.String1)\n",
    "\n",
    "    output1 = [None] * N\n",
    "    output2 = [None] * N\n",
    "\n",
    "    # we can process with more threads if we only have CPU\n",
    "    p = 8\n",
    "\n",
    "    if torch.cuda.is_available():\n",
    "        # if cuda is available we don't need that many threads\n",
    "        # and if the number of threads is set too large using cuda\n",
    "        # we can get out of memory exceptions\n",
    "        p = 2\n",
    "        torch.cuda.empty_cache()\n",
    "\n",
    "    process_sentences_concurrently(df.String1[:N], output1, p)\n",
    "\n",
    "    # try and be careful with gpu memory\n",
    "    if torch.cuda.is_available():\n",
    "        torch.cuda.empty_cache()\n",
    "\n",
    "    process_sentences_concurrently(df.String2[:N], output2, p)\n",
    "\n",
    "    endtime = datetime.datetime.now()\n",
    "\n",
    "    print(f\"time to process {N*2} sentences is {endtime - starttime}\")\n",
    "\n",
    "    stanza_df = df[:N]\n",
    "\n",
    "    processed_string1 = pd.Series(output1)\n",
    "    # processed_string1.apply(gensim.utils.simple_preprocess)\n",
    "    processed_string2 = pd.Series(output2)\n",
    "    #processed_string2.apply(gensim.utils.simple_preprocess)\n",
    "\n",
    "    stanza_df.String1 = processed_string1\n",
    "    stanza_df.String2 = processed_string2\n",
    "\n",
    "    # write the file out.  This can help in the future\n",
    "    print(f\"about to write out {output_file}\")\n",
    "    stanza_df.to_csv(output_file, sep=\"\\t\")\n"
   ],
   "metadata": {
    "collapsed": false,
    "ExecuteTime": {
     "start_time": "2023-04-08T00:35:08.905455Z",
     "end_time": "2023-04-08T00:35:08.941546Z"
    }
   }
  },
  {
   "cell_type": "markdown",
   "source": [
    "## Sentence Preprocessing\n",
    "pass the input sentences from the training dataset through the stanford/stanza parser, extracting the relevant parts of speech and then tokenize the processed sentences using the gensim.utils.simple_preprocess utility"
   ],
   "metadata": {
    "collapsed": false
   }
  },
  {
   "cell_type": "code",
   "execution_count": 84,
   "outputs": [],
   "source": [
    "# start_time = datetime.datetime.now()\n",
    "#\n",
    "# processed_string1 = df[:500].String1.apply(trunk_construction)\n",
    "# processed_string2 = df[:500].String2.apply(trunk_construction)\n",
    "#\n",
    "# end_time = datetime.datetime.now()\n",
    "#\n",
    "# print (f\"Processing 200 sentences with stanza library took {end_time - start_time}\")\n",
    "#\n",
    "# start_time = datetime.datetime.now()\n",
    "#\n",
    "# processed_string1 = processed_string1.apply(gensim.utils.simple_preprocess)\n",
    "# processed_string2 = processed_string2.apply(gensim.utils.simple_preprocess)\n",
    "#\n",
    "# end_time = datetime.datetime.now()\n",
    "#\n",
    "# print (f\"Processing 200 sentences with gensim.utils.simple_preprocess took {end_time - start_time}\")\n",
    "# print(f\"Number of sentences processed in the String1 column: len(processed_string1\")\n",
    "# print(f\"Number of sentences processed in the String2 column: len(processed_string2\")"
   ],
   "metadata": {
    "collapsed": false,
    "ExecuteTime": {
     "start_time": "2023-04-08T00:35:08.907470Z",
     "end_time": "2023-04-08T00:35:08.942412Z"
    }
   }
  },
  {
   "cell_type": "markdown",
   "source": [
    "# Word2Vec Embeddings\n",
    "Take the preprocessed and tokenized sentences and use Word2Vec to get the word embeddings.  Take each word embedding in a sentence and find the mean which will represent the embedding for the sentence."
   ],
   "metadata": {
    "collapsed": false
   }
  },
  {
   "cell_type": "code",
   "execution_count": 85,
   "outputs": [],
   "source": [
    "# from gensim.models import Word2Vec\n",
    "#\n",
    "# corpus = pd.concat([processed_string1, processed_string2], ignore_index=True)\n",
    "#\n",
    "# #model = Word2Vec(sentences=corpus, vector_size=(len(processed_string1) + len(processed_string2)), min_count=2)\n",
    "# # set vector size to reduce computational complexity\n",
    "# model = Word2Vec(sentences=corpus, min_count=1, window=2, vector_size=50)\n",
    "# #model.build_vocab(sentences=corpus)\n",
    "# #model.train(corpus, total_examples=model.corpus_count, epochs=5)\n",
    "#\n",
    "# print(model)\n",
    "# print(model.wv.key_to_index)\n",
    "#\n",
    "# model.wv.get_vector('president')\n",
    "#\n",
    "# # for index, word in enumerate(model.wv.index_to_key):\n",
    "# #     if index == 120:\n",
    "# #         break\n",
    "# #     print(f\"word #{index}/{len(model.wv.index_to_key)} is {word}\")"
   ],
   "metadata": {
    "collapsed": false,
    "ExecuteTime": {
     "start_time": "2023-04-08T00:35:08.908218Z",
     "end_time": "2023-04-08T00:35:08.942594Z"
    }
   }
  },
  {
   "cell_type": "code",
   "execution_count": 86,
   "outputs": [],
   "source": [
    "from gensim.models import Word2Vec\n",
    "\n",
    "# Function is broken out for testing purposes\n",
    "def generate_word2vec_model(corpus):\n",
    "    # Creating the Word2Vec model\n",
    "    model = Word2Vec(sentences=corpus, min_count=1, window=2, vector_size=50)\n",
    "\n",
    "    return model\n"
   ],
   "metadata": {
    "collapsed": false,
    "ExecuteTime": {
     "start_time": "2023-04-08T00:35:08.908525Z",
     "end_time": "2023-04-08T00:35:08.942658Z"
    }
   }
  },
  {
   "cell_type": "code",
   "execution_count": 87,
   "outputs": [],
   "source": [
    "# Function is broken out for testing purposes\n",
    "def sentence_embeddings(w2v_model, sentence, size):\n",
    "    np_embedding = np.zeros(size)\n",
    "    for i, word in enumerate(sentence):\n",
    "        np_embedding[i] = w2v_model.wv.get_vector(word)\n",
    "\n",
    "    return np_embedding\n",
    "    # list = []\n",
    "    # for word in sentence:\n",
    "    #     list.append(w2v_model.wv.get_vector(word))\n",
    "    #\n",
    "    # word_matrix = np.row_stack(list)\n",
    "    # #return np.mean(word_matrix, axis=0)\n",
    "    # return word_matrix"
   ],
   "metadata": {
    "collapsed": false,
    "ExecuteTime": {
     "start_time": "2023-04-08T00:35:08.910846Z",
     "end_time": "2023-04-08T00:35:08.942887Z"
    }
   }
  },
  {
   "cell_type": "code",
   "execution_count": 88,
   "outputs": [],
   "source": [
    "def test_word2vec():\n",
    "\n",
    "    df = read_file('data/msr_paraphrase_train.txt')\n",
    "\n",
    "    sentences1 = df.String1[:5].apply(gensim.utils.simple_preprocess)\n",
    "    sentences2 = df.String2[:5].apply(gensim.utils.simple_preprocess)\n",
    "\n",
    "    corpus = pd.concat([sentences1, sentences2], ignore_index=True)\n",
    "\n",
    "    max_sentence_len = corpus.apply(len).max()\n",
    "\n",
    "    model = generate_word2vec_model(corpus)\n",
    "\n",
    "    embedding = sentence_embeddings(model, corpus[0], (max_sentence_len, 50))\n",
    "    assert embedding.shape == (max_sentence_len, 50)\n",
    "\n",
    "    # Not sure if this will always generate the same embedding\n",
    "    # test_embedding = np.array([-0.00113049, -0.00124808,  0.00252251,  0.00058141,  0.00187964,  0.00379025,\n",
    "    #           -0.00012356,  0.00347055, -0.00241507,  0.00545258, -0.00574078, -0.00489824,\n",
    "    #           -0.00224492,  0.00744946,  0.00350835, -0.00139295, -0.00081134,  0.00655962,\n",
    "    #           0.00244374, -0.00447209, -0.00124291, -0.00092616,  0.0021044,  -0.00092541,\n",
    "    #           0.00284307,  0.00367638,  0.00364716,  0.00519976, -0.00088121,  0.00109841,\n",
    "    #           -0.00219322, -0.00372483,  0.00078702, -0.00612309, -0.00312131,  0.00088071,\n",
    "    #           0.00503909, -0.0009484,  -0.00068209, -0.0004782,   0.00367015,  0.00314679,\n",
    "    #           -0.00302592,  0.00346377,  0.00151145, -0.00076442, -0.0012528,  -0.00087095,\n",
    "    #           -0.00075365,  0.00468711])\n",
    "    #\n",
    "    #\n",
    "    # # not sure if this will always be equal based on comment on test_embedding variable\n",
    "    # assert np.allclose(embedding, test_embedding)\n",
    "\n",
    "test_word2vec()"
   ],
   "metadata": {
    "collapsed": false,
    "ExecuteTime": {
     "start_time": "2023-04-08T00:35:08.911696Z",
     "end_time": "2023-04-08T00:35:09.477774Z"
    }
   }
  },
  {
   "cell_type": "code",
   "execution_count": 89,
   "outputs": [],
   "source": [
    "def corpus_embeddings(model, corpus, max_sentence_len):\n",
    "    corpus_size = len(corpus)\n",
    "    embeddings_list = []\n",
    "    embedding_matrix = np.zeros((corpus_size, max_sentence_len, 50))\n",
    "    for i, sentence in enumerate(corpus):\n",
    "        embeddings = sentence_embeddings(model, sentence, size=(max_sentence_len, 50))\n",
    "        embedding_matrix[i] = embeddings\n",
    "        embeddings_list.append(embeddings)\n",
    "\n",
    "    return embedding_matrix"
   ],
   "metadata": {
    "collapsed": false,
    "ExecuteTime": {
     "start_time": "2023-04-08T00:35:08.972122Z",
     "end_time": "2023-04-08T00:35:09.479438Z"
    }
   }
  },
  {
   "cell_type": "code",
   "execution_count": 153,
   "outputs": [],
   "source": [
    "from torch.utils.data import DataLoader, Dataset\n",
    "\n",
    "# Dataset for the MSPC dataset\n",
    "class MSPCDataset(Dataset):\n",
    "    \"\"\"\n",
    "    Arguments:\n",
    "        tsv_file (string): path to the tsv file with sentences to compare and associate quality score\n",
    "        num_records (int): number of records to load.  Defaults to None which is all\n",
    "    \"\"\"\n",
    "    def __init__(self, tsv_file, num_records=None):\n",
    "\n",
    "        file_parts = os.path.splitext(tsv_file)\n",
    "        output_file = f\"{file_parts[0]}_stanza{file_parts[1]}\"\n",
    "        print(\"About to preprocess data\")\n",
    "        preprocess_corpus(input_file=tsv_file, output_file=output_file)\n",
    "        print(\"Done preprocessing data\")\n",
    "\n",
    "\n",
    "        #df = read_file('data/msr_paraphrase_train.txt')\n",
    "        df = pd.read_csv(output_file, sep=\"\\t\")\n",
    "\n",
    "        if num_records is not None:\n",
    "            processed_string1 = df[:num_records].String1\n",
    "            processed_string2 = df[:num_records].String2\n",
    "            self.quality = df[:num_records].Quality\n",
    "        else:\n",
    "            processed_string1 = df.String1\n",
    "            processed_string2 = df.String2\n",
    "            self.quality = df.Quality\n",
    "\n",
    "        processed_string1 = processed_string1.apply(gensim.utils.simple_preprocess)\n",
    "        processed_string2 = processed_string2.apply(gensim.utils.simple_preprocess)\n",
    "\n",
    "        corpus = pd.concat([processed_string1, processed_string2], ignore_index=True)\n",
    "\n",
    "\n",
    "        self.max_sentence_len = corpus.apply(len).max()\n",
    "\n",
    "        w2v_model = generate_word2vec_model(corpus)\n",
    "\n",
    "        sentence_embeddings1 = corpus_embeddings(w2v_model, processed_string1, max_sentence_len=self.max_sentence_len)\n",
    "        sentence_embeddings2 = corpus_embeddings(w2v_model, processed_string2, max_sentence_len=self.max_sentence_len)\n",
    "\n",
    "        self.w2v_model = w2v_model\n",
    "        self.sentences_embeddings1 = sentence_embeddings1\n",
    "        self.sentences_embeddings2 = sentence_embeddings2\n",
    "\n",
    "        # print (f\"Processing 200 sentences with gensim.utils.simple_preprocess took {end_time - start_time}\")\n",
    "        print(f\"Number of sentences processed in the String1 column: {len(processed_string1)}\")\n",
    "        print(f\"Number of sentences processed in the String2 column: {len(processed_string2)}\")\n",
    "        #print(self.sentences_embeddings1)\n",
    "\n",
    "    def __len__(self):\n",
    "        return len(self.sentences_embeddings1)\n",
    "\n",
    "    def __getitem__(self, i):\n",
    "        return torch.FloatTensor(np.stack((self.sentences_embeddings1[i], self.sentences_embeddings2[i]))), self.quality[i]\n",
    "\n",
    "    def get_max_sentence_length(self):\n",
    "        return self.max_sentence_len"
   ],
   "metadata": {
    "collapsed": false,
    "ExecuteTime": {
     "start_time": "2023-04-08T00:35:08.981724Z",
     "end_time": "2023-04-08T00:35:09.479637Z"
    }
   }
  },
  {
   "cell_type": "code",
   "execution_count": 154,
   "outputs": [
    {
     "name": "stdout",
     "output_type": "stream",
     "text": [
      "About to preprocess data\n",
      "data/msr_paraphrase_train_stanza.txt already exists\n",
      "Done preprocessing data\n",
      "Number of sentences processed in the String1 column: 10\n",
      "Number of sentences processed in the String2 column: 10\n"
     ]
    }
   ],
   "source": [
    "def test_dataset():\n",
    "    dataset = MSPCDataset('data/msr_paraphrase_train.txt', 10)\n",
    "    assert len(dataset) == 10\n",
    "\n",
    "    x1, y1 = dataset[0]\n",
    "    assert x1.shape[0] == 2\n",
    "    assert x1.shape[2] == 50\n",
    "\n",
    "    # for set in dataset:\n",
    "    #     print(len(set[0]), len(set[1]))\n",
    "    # print(len(dataset[0][0]))\n",
    "    # print(dataset[0])\n",
    "test_dataset()"
   ],
   "metadata": {
    "collapsed": false,
    "ExecuteTime": {
     "start_time": "2023-04-07T14:32:14.561411Z",
     "end_time": "2023-04-07T14:32:14.897963Z"
    }
   }
  },
  {
   "cell_type": "markdown",
   "source": [
    "## Dataloaders\n",
    "Create training and test dataloaders"
   ],
   "metadata": {
    "collapsed": false
   }
  },
  {
   "cell_type": "code",
   "execution_count": 155,
   "outputs": [
    {
     "name": "stdout",
     "output_type": "stream",
     "text": [
      "About to preprocess data\n",
      "data/msr_paraphrase_train_stanza.txt already exists\n",
      "Done preprocessing data\n",
      "Number of sentences processed in the String1 column: 4076\n",
      "Number of sentences processed in the String2 column: 4076\n",
      "About to preprocess data\n",
      "data/msr_paraphrase_test_stanza.txt already exists\n",
      "Done preprocessing data\n",
      "Number of sentences processed in the String1 column: 1725\n",
      "Number of sentences processed in the String2 column: 1725\n"
     ]
    }
   ],
   "source": [
    "train_dataset = MSPCDataset('data/msr_paraphrase_train.txt')\n",
    "test_dataset = MSPCDataset('data/msr_paraphrase_test.txt')\n",
    "\n",
    "train_dataloader = DataLoader(train_dataset, batch_size=64, shuffle=True)\n",
    "test_dataloader = DataLoader(test_dataset, batch_size=64, shuffle=True)"
   ],
   "metadata": {
    "collapsed": false
   }
  },
  {
   "cell_type": "code",
   "execution_count": 156,
   "outputs": [
    {
     "data": {
      "text/plain": "array([[-2.41591483e-02,  3.38407755e-02, -1.41228242e-02,\n         1.20682716e-02,  6.41990732e-03, -5.63796014e-02,\n         3.57340276e-02,  6.45712689e-02, -3.46004143e-02,\n         1.06795714e-03,  2.66384948e-02, -4.26164679e-02,\n         6.94319187e-03,  1.63848605e-02, -1.71091277e-02,\n         2.18446199e-02,  3.73412557e-02,  6.51693251e-03,\n        -8.01483765e-02, -1.97438020e-02,  6.78366399e-04,\n         3.40422690e-02,  8.05160776e-02, -1.66892484e-02,\n         2.18421537e-02,  1.43479733e-02,  7.63163948e-03,\n        -3.80805857e-03, -7.01293871e-02, -1.00727975e-02,\n         2.10942980e-02, -9.88114625e-03, -4.37490642e-02,\n        -1.92494562e-03, -2.23397389e-02,  2.89716907e-02,\n         1.92113519e-02,  2.30929609e-02,  3.82908694e-02,\n        -5.03950417e-02,  2.78671794e-02,  1.63512654e-03,\n        -2.90616881e-02, -7.63364509e-03,  8.66098627e-02,\n         3.06848399e-02, -2.76091206e-03, -4.66424674e-02,\n         1.56959631e-02,  3.79753076e-02],\n       [-4.37176898e-02,  3.70715521e-02, -2.33663823e-02,\n         2.20815800e-02, -2.96883918e-02, -1.23749010e-01,\n         1.28967836e-01,  1.87043786e-01, -1.52659819e-01,\n        -2.62388960e-02,  2.12095920e-02, -1.12146027e-01,\n        -2.16812897e-03,  4.28675264e-02, -5.19980006e-02,\n         1.47296088e-02,  1.14567339e-01,  1.05485609e-02,\n        -1.85844317e-01, -1.02653459e-01,  4.92991246e-02,\n         1.35453790e-01,  1.61625177e-01, -5.05656675e-02,\n         1.00912735e-01,  5.10640517e-02, -3.93133232e-04,\n         2.49775313e-02, -1.63559899e-01,  1.52815797e-03,\n         7.06811845e-02, -5.00406101e-02, -6.35561571e-02,\n         3.43173966e-02, -2.11144295e-02,  6.89098835e-02,\n         7.83208832e-02,  3.23879234e-02,  6.35319427e-02,\n        -7.90363178e-02,  1.25584021e-01, -3.54836546e-02,\n        -3.46976146e-02,  4.76999767e-03,  2.68540829e-01,\n         3.85472253e-02, -1.77991185e-02, -1.20099247e-01,\n         6.67102709e-02,  8.43953788e-02],\n       [-3.12167909e-02,  1.31944139e-02,  1.02475323e-02,\n         1.39191458e-02, -1.38299633e-02, -3.19832265e-02,\n         2.96983290e-02,  6.69972599e-02, -2.72188839e-02,\n         5.54164778e-03,  2.38637999e-02, -3.98159474e-02,\n         1.30037277e-03,  2.64155529e-02, -2.64901482e-02,\n         2.13841759e-02,  4.97806594e-02,  2.22711507e-02,\n        -5.05261123e-02, -4.45659943e-02,  1.13542960e-03,\n         5.21426983e-02,  6.70074075e-02, -1.09725231e-02,\n         2.56830771e-02,  1.25365686e-02,  6.27465313e-03,\n         3.02975923e-02, -5.79568297e-02, -6.96747284e-03,\n         3.33420113e-02, -8.20432417e-03, -1.09536797e-02,\n        -9.41943843e-03, -1.66876148e-02,  1.75226927e-02,\n         2.36995872e-02,  3.57027538e-03, -4.20781225e-03,\n        -2.92450432e-02,  3.81775014e-02,  9.24914237e-03,\n        -1.80147891e-03, -2.49554263e-03,  9.84031260e-02,\n         3.03947050e-02, -1.25469798e-02, -4.53721918e-02,\n         1.39306691e-02,  3.55681777e-02],\n       [-1.21375233e-01,  7.23326132e-02, -3.51702571e-02,\n         1.84295010e-02, -6.20601624e-02, -2.50308245e-01,\n         2.00583085e-01,  3.30575109e-01, -2.69356310e-01,\n        -7.79394805e-02,  5.33406772e-02, -2.40757063e-01,\n        -1.24250455e-02,  9.68143344e-02, -1.30139485e-01,\n         5.86500466e-02,  1.78855732e-01,  4.66543697e-02,\n        -3.53430003e-01, -1.89714298e-01,  7.31877536e-02,\n         2.70859390e-01,  3.72320861e-01, -1.22911043e-01,\n         1.93463445e-01,  1.41565800e-01, -3.16123031e-02,\n         4.62157838e-02, -3.20929855e-01, -1.60288345e-02,\n         1.22545719e-01, -1.23833947e-01, -1.59431189e-01,\n         6.93591610e-02, -2.45969724e-02,  1.08704522e-01,\n         1.79365739e-01,  1.94774754e-02,  9.43613797e-02,\n        -1.87236294e-01,  2.20681608e-01, -4.85376231e-02,\n        -7.03317225e-02,  3.21660899e-02,  5.61537445e-01,\n         1.13636874e-01, -5.61583452e-02, -2.48003989e-01,\n         1.24636985e-01,  1.21660694e-01],\n       [-3.99654172e-02,  9.16848332e-03, -1.25930533e-02,\n        -8.19811691e-03,  7.15708639e-03, -8.23354423e-02,\n         4.68053035e-02,  1.00595005e-01, -7.54582658e-02,\n        -2.30941270e-03,  1.17741302e-02, -6.44255280e-02,\n         3.87528585e-03,  1.84371993e-02, -4.46432717e-02,\n         4.13038628e-03,  4.91179526e-02,  2.04405542e-02,\n        -7.68578351e-02, -2.95575745e-02,  1.32276276e-02,\n         8.08371976e-02,  1.04468867e-01, -4.64467481e-02,\n         3.41014825e-02,  3.55679058e-02, -9.91168339e-03,\n         1.04419896e-02, -9.62575227e-02,  1.04811217e-04,\n         3.99370492e-02, -3.05732414e-02, -2.33733896e-02,\n         1.45610254e-02,  8.08893237e-03,  2.29513906e-02,\n         3.53010185e-02,  2.23600529e-02,  3.53438072e-02,\n        -2.42712405e-02,  4.32886146e-02, -2.94292942e-02,\n        -8.40795692e-03,  1.78862754e-02,  1.33667812e-01,\n         1.90910585e-02,  4.98281233e-03, -6.37893528e-02,\n         5.02729677e-02,  3.73377465e-02],\n       [ 7.78753031e-03, -1.56861283e-02,  1.26426173e-02,\n         3.37204011e-03, -1.01094274e-02, -1.89644769e-02,\n        -1.37516456e-02, -4.26847441e-03,  1.05709434e-02,\n         1.16384374e-02,  1.68924816e-02, -1.03093376e-02,\n         1.42385543e-03, -1.53508317e-02,  2.79639917e-03,\n         1.93265434e-02,  4.53210995e-03,  1.79946721e-02,\n        -2.04915088e-02, -2.02827044e-02, -3.52645712e-03,\n        -6.98495482e-04,  1.89962354e-03,  1.76103320e-02,\n         2.78506288e-03,  6.56229584e-03, -3.90879359e-05,\n         4.70668636e-03, -1.96875408e-02, -1.31500931e-02,\n        -6.36570994e-03,  1.33377891e-02,  4.64697368e-03,\n        -8.40518344e-03,  3.07247695e-03, -4.14661784e-03,\n         2.01084837e-02, -1.06334565e-02,  1.98847596e-02,\n        -1.10886926e-02,  2.34400239e-02,  2.69754115e-03,\n         1.25878435e-02,  1.15922764e-02,  2.61142198e-03,\n         5.31451730e-03,  1.76304765e-03, -1.46901449e-02,\n        -8.04003980e-03,  1.07452581e-02],\n       [-8.87405798e-02,  5.66424467e-02, -1.67176742e-02,\n         3.71016711e-02, -2.70303953e-02, -1.38059944e-01,\n         1.18107252e-01,  2.01766104e-01, -1.74933612e-01,\n        -4.78131548e-02,  3.78956981e-02, -1.64744437e-01,\n        -1.03508923e-02,  6.71471283e-02, -5.21950349e-02,\n         2.48677451e-02,  1.28243104e-01, -2.69384909e-04,\n        -2.20574543e-01, -9.42899212e-02,  4.17021289e-02,\n         1.40350610e-01,  2.07926288e-01, -9.41214114e-02,\n         1.00765578e-01,  9.40933153e-02, -2.40061376e-02,\n         4.83585857e-02, -1.98058993e-01,  5.11588668e-03,\n         7.44822770e-02, -5.83630614e-02, -9.13923979e-02,\n         9.59270354e-03, -2.27663200e-02,  7.65077099e-02,\n         8.06005299e-02,  3.83305363e-02,  6.88275471e-02,\n        -1.02847181e-01,  1.45612732e-01, -4.24700193e-02,\n        -4.56322581e-02,  6.69804495e-03,  3.36951673e-01,\n         6.62194192e-02, -2.76283678e-02, -1.64594844e-01,\n         6.75097704e-02,  8.82913172e-02]], dtype=float32)"
     },
     "execution_count": 156,
     "metadata": {},
     "output_type": "execute_result"
    }
   ],
   "source": [
    "# filters out all zero filled columns to get the proper number of words in a sentence\n",
    "#train_dataset[0][0][~np.all(train_dataset[0][0][0] == 0, axis=1)]\n",
    "x = train_dataset[0][0][0].numpy()\n",
    "x[~np.all(x == 0, axis=1)]\n"
   ],
   "metadata": {
    "collapsed": false
   }
  },
  {
   "cell_type": "code",
   "execution_count": 169,
   "outputs": [],
   "source": [
    "def conv_output_volume(W, F, S, P):\n",
    "\n",
    "    \"\"\"\n",
    "    TODO: Given the input volume size $W$, the kernel/filter size $F$,\n",
    "    the stride $S$, and the amount of zero padding $P$ used on the border,\n",
    "    calculate the output volume size.\n",
    "    Note the output should a integer.\n",
    "    \"\"\"\n",
    "\n",
    "    # your code here\n",
    "    #https://cs231n.github.io/convolutional-networks/\n",
    "\n",
    "    return int((W-F+2*P)/S+1)"
   ],
   "metadata": {
    "collapsed": false,
    "ExecuteTime": {
     "start_time": "2023-04-07T14:32:15.557166Z",
     "end_time": "2023-04-07T14:32:15.560063Z"
    }
   }
  },
  {
   "cell_type": "code",
   "execution_count": 170,
   "outputs": [
    {
     "name": "stdout",
     "output_type": "stream",
     "text": [
      "50\n"
     ]
    }
   ],
   "source": [
    "print(conv_output_volume(50, 3, 1, 1))"
   ],
   "metadata": {
    "collapsed": false,
    "ExecuteTime": {
     "start_time": "2023-04-07T14:32:18.231576Z",
     "end_time": "2023-04-07T14:32:18.377984Z"
    }
   }
  },
  {
   "cell_type": "markdown",
   "source": [
    "## Pooling Layers\n",
    "\n",
    "The original paper used a dynamic k-max pooling method in their model. The _k_ value is determine by equation (1).\n",
    "\n",
    "\\begin{equation*} k=\\max \\left({k_{top},\\left \\lceil{ \\frac {L-l}{L} \\left |{ s }\\right | }\\right \\rceil }\\right)\\end{equation*}\n",
    "\n",
    "__Dynamic K-Max Pooling Implementation:__"
   ],
   "metadata": {
    "collapsed": false
   }
  },
  {
   "cell_type": "code",
   "execution_count": 92,
   "outputs": [],
   "source": [
    "# #https://gist.github.com/anna-hope/7a2b2e66c3645aa8e4f94dbf06aed8dc\n",
    "# \"\"\"\n",
    "# TODO: Remove hardcoded values and max it dynamic.\n",
    "# \"\"\"\n",
    "# class DynamicKMaxPooling(nn.Module):\n",
    "#     def __init__(self, k_init, conv_layers, layer):\n",
    "#         super().__init__()\n",
    "#         # \"L is the total  number  of  convolutional  layers\n",
    "#         # in  the  network;\n",
    "#         # ktop is the fixed pooling parameter for the\n",
    "#         # topmost  convolutional  layer\"\n",
    "#         self.k_init = k_init\n",
    "#         self.conv_layers = conv_layers\n",
    "#         self.layer = layer\n",
    "#\n",
    "#     def forward(self, X):\n",
    "#         s = 50\n",
    "#         dyn_k = ((self.conv_layers - self.layer) / self.conv_layers) * 3\n",
    "#         k_max = int(round(max(self.k_init, np.ceil(dyn_k))))\n",
    "#         print(k_max)\n",
    "#         out = F.max_pool1d(X, kernel_size=k_max)\n",
    "#         return out"
   ],
   "metadata": {
    "collapsed": false,
    "ExecuteTime": {
     "start_time": "2023-04-07T15:50:59.023740Z",
     "end_time": "2023-04-07T15:50:59.325715Z"
    }
   }
  },
  {
   "cell_type": "markdown",
   "source": [
    "## Sentence Similarity Convolution Network (SSCN)"
   ],
   "metadata": {
    "collapsed": false
   }
  },
  {
   "cell_type": "markdown",
   "source": [
    "### Pooling Layers\n",
    "\n",
    "The original paper used a dynamic k-max pooling method in their model. The _k_ value is determine by equation (1).\n",
    "\n",
    "\\begin{equation*} k=\\max \\left({k_{top},\\left \\lceil{ \\frac {L-l}{L} \\left |{ s }\\right | }\\right \\rceil }\\right)\\end{equation*}\n",
    "\n",
    "__Dynamic K-Max Pooling Implementation:__"
   ],
   "metadata": {
    "collapsed": false
   }
  },
  {
   "cell_type": "code",
   "execution_count": 167,
   "outputs": [],
   "source": [
    "#https://gist.github.com/anna-hope/7a2b2e66c3645aa8e4f94dbf06aed8dc\n",
    "\"\"\"\n",
    "TODO: Remove hardcoded values and max it dynamic.\n",
    "\"\"\"\n",
    "class DynamicKMaxPooling(nn.Module):\n",
    "    def __init__(self, k_init, conv_layers):\n",
    "        super().__init__()\n",
    "        # \"L is the total  number  of  convolutional  layers\n",
    "        # in  the  network;\n",
    "        # ktop is the fixed pooling parameter for the\n",
    "        # topmost  convolutional  layer\"\n",
    "        self.k_init = k_init\n",
    "        self.conv_layers = conv_layers\n",
    "\n",
    "    def pool(self, X, l):\n",
    "        # s is sequence length\n",
    "        # l is current layer in network\n",
    "        s = X.shape[2]\n",
    "        dyn_k = ((self.conv_layers - l) / self.conv_layers) * s\n",
    "        k_max = int(round(max(self.k_init, np.ceil(dyn_k))))\n",
    "        return F.max_pool1d(X, kernel_size=k_max)\n",
    "\n",
    "    def forward(self, X):\n",
    "        for layer_i in range(self.conv_layers,0,-1):\n",
    "            X = self.pool(X, layer_i)\n",
    "\n",
    "        return X"
   ],
   "metadata": {
    "collapsed": false,
    "ExecuteTime": {
     "start_time": "2023-04-08T00:35:09.384185Z",
     "end_time": "2023-04-08T00:35:09.528064Z"
    }
   }
  },
  {
   "cell_type": "markdown",
   "source": [
    "Testing Dynamic K-Max Pooling Layer"
   ],
   "metadata": {
    "collapsed": false
   }
  },
  {
   "cell_type": "code",
   "execution_count": 168,
   "outputs": [],
   "source": [
    "NUM_OF_SAMPLES = 20\n",
    "SAMPLE_SIZE = 2\n",
    "OUTPUT_SIZE = 15\n",
    "\n",
    "test_embedding = torch.rand((NUM_OF_SAMPLES, SAMPLE_SIZE, OUTPUT_SIZE))\n",
    "dyn_k_layer = DynamicKMaxPooling(3, SAMPLE_SIZE)\n",
    "\n",
    "# Call forward with convolution layer index [2,1]\n",
    "out = dyn_k_layer(test_embedding)\n",
    "\n",
    "assert out.shape[2] == 1\n",
    "assert out.shape[1] == SAMPLE_SIZE\n",
    "assert out.shape[0] == NUM_OF_SAMPLES"
   ],
   "metadata": {
    "collapsed": false,
    "ExecuteTime": {
     "start_time": "2023-04-08T00:35:09.384376Z",
     "end_time": "2023-04-08T00:35:09.528155Z"
    }
   }
  },
  {
   "cell_type": "markdown",
   "source": [
    "### Sentence Similarity\n",
    "\n",
    " \\begin{align*} Man(\\vec V_{x}, \\vec V_{y})=&\\left |{ x_{1}-y_{1} }\\right |\\! +\\! \\left |{ x_{2}-y_{2} }\\right | \\!+ \\!\\ldots \\!+ \\!\\left |{ x_{n}-y_{n} }\\right |\n",
    " \\\\ score=&e^{-Man(\\vec V_{x}, \\vec V_{y})},\\quad score\\in [{0,1}] \\end{align*}"
   ],
   "metadata": {
    "collapsed": false
   }
  },
  {
   "cell_type": "code",
   "execution_count": 169,
   "outputs": [],
   "source": [
    "\"\"\"\n",
    "* X: Pooled output of SSCN model of shape (sample_size, -1)\n",
    "* For the purpose of this experiment sample_size = 2\n",
    "\"\"\"\n",
    "def manhattan_similarity_score(X):\n",
    "    sample_count, _, M = X.shape\n",
    "    Vx = X[:,0].reshape((sample_count,M))\n",
    "    Vy = X[:,1].reshape((sample_count,M))\n",
    "    mdist = torch.sum(torch.abs(Vx-Vy),dim=1).view(sample_count,-1)\n",
    "    score = torch.exp(-1*mdist)\n",
    "    return score"
   ],
   "metadata": {
    "collapsed": false,
    "ExecuteTime": {
     "start_time": "2023-04-08T00:35:09.385728Z",
     "end_time": "2023-04-08T00:35:09.528218Z"
    }
   }
  },
  {
   "cell_type": "code",
   "execution_count": 206,
   "outputs": [],
   "source": [
    "class SentenceSimilarityCNN(nn.Module):\n",
    "    def __init__(self, max_sentence_size, stride=1, kernel_size=3, padding=1):\n",
    "        super(SentenceSimilarityCNN, self).__init__()\n",
    "        self.max_sentence_size = max_sentence_size\n",
    "        self.stride = stride\n",
    "        self.kernel_size = kernel_size\n",
    "        self.padding = padding\n",
    "\n",
    "        self.conv1 = nn.Conv2d(in_channels=2, out_channels=2, kernel_size=self.kernel_size, padding=self.padding)\n",
    "        self.activation = nn.ReLU()\n",
    "\n",
    "        # TODO: change this to k-max pooling\n",
    "        self.pooling = nn.MaxPool2d(kernel_size=3)\n",
    "\n",
    "        output_volume = conv_output_volume(50, self.kernel_size, self.padding, self.stride)\n",
    "        #self.fc = nn.Linear(in_features=output_volume, out_features=output_volume)\n",
    "\n",
    "    def forward(self, x):\n",
    "        x = self.conv1(x)\n",
    "        x = self.activation(x)\n",
    "        x = self.pooling(x)\n",
    "        #x = self.fc(x)\n",
    "        #x = x.reshape(2, self.max_sentence_size)\n",
    "        permute_x = torch.permute(x, (1, 0, 2, 3))\n",
    "        x1 = permute_x[0]\n",
    "        x2 = permute_x[1]\n",
    "        # print(x1.shape)\n",
    "        # print(x2.shape)\n",
    "        # the p parameter below is the p-norm; p=1 is manhattan distance\n",
    "        #man_dist = torch.cdist(x1, x2, p=1)\n",
    "        sentence1_mean = torch.mean(x1, axis=1)\n",
    "        sentence2_mean = torch.mean(x1, axis=1)\n",
    "        man_dist = torch.sum(torch.abs(sentence1_mean - sentence2_mean), axis=1)\n",
    "        # print(man_dist.shape)\n",
    "        return torch.exp(-man_dist)"
   ],
   "metadata": {
    "collapsed": false
   }
  },
  {
   "cell_type": "code",
   "execution_count": 207,
   "outputs": [
    {
     "name": "stdout",
     "output_type": "stream",
     "text": [
      "Epoch 0: curr_epoch_loss=0.32455167174339294\n",
      "Epoch 1: curr_epoch_loss=0.3247736096382141\n",
      "Epoch 2: curr_epoch_loss=0.3243297338485718\n",
      "Epoch 3: curr_epoch_loss=0.32455167174339294\n",
      "Epoch 4: curr_epoch_loss=0.3248845934867859\n",
      "Epoch 5: curr_epoch_loss=0.32455167174339294\n",
      "Epoch 6: curr_epoch_loss=0.32421875\n",
      "Epoch 7: curr_epoch_loss=0.3243297338485718\n",
      "Epoch 8: curr_epoch_loss=0.32421875\n",
      "Epoch 9: curr_epoch_loss=0.32466262578964233\n",
      "Epoch 10: curr_epoch_loss=0.32455167174339294\n",
      "Epoch 11: curr_epoch_loss=0.32455167174339294\n",
      "Epoch 12: curr_epoch_loss=0.32466262578964233\n",
      "Epoch 13: curr_epoch_loss=0.32521751523017883\n",
      "Epoch 14: curr_epoch_loss=0.3243297338485718\n",
      "Epoch 15: curr_epoch_loss=0.32466262578964233\n",
      "Epoch 16: curr_epoch_loss=0.32444068789482117\n",
      "Epoch 17: curr_epoch_loss=0.3247736096382141\n",
      "Epoch 18: curr_epoch_loss=0.3243297338485718\n",
      "Epoch 19: curr_epoch_loss=0.32444068789482117\n",
      "Epoch 20: curr_epoch_loss=0.3243297338485718\n",
      "Epoch 21: curr_epoch_loss=0.32455167174339294\n",
      "Epoch 22: curr_epoch_loss=0.32466262578964233\n",
      "Epoch 23: curr_epoch_loss=0.3247736096382141\n",
      "Epoch 24: curr_epoch_loss=0.3241077661514282\n",
      "Epoch 25: curr_epoch_loss=0.3255504369735718\n",
      "Epoch 26: curr_epoch_loss=0.3248845934867859\n",
      "Epoch 27: curr_epoch_loss=0.3243297338485718\n",
      "Epoch 28: curr_epoch_loss=0.32455167174339294\n",
      "Epoch 29: curr_epoch_loss=0.32399681210517883\n",
      "Epoch 30: curr_epoch_loss=0.3247736096382141\n",
      "Epoch 31: curr_epoch_loss=0.32455167174339294\n",
      "Epoch 32: curr_epoch_loss=0.3248845934867859\n",
      "Epoch 33: curr_epoch_loss=0.32399681210517883\n",
      "Epoch 34: curr_epoch_loss=0.32455167174339294\n",
      "Epoch 35: curr_epoch_loss=0.3247736096382141\n",
      "Epoch 36: curr_epoch_loss=0.3243297338485718\n",
      "Epoch 37: curr_epoch_loss=0.32466262578964233\n",
      "Epoch 38: curr_epoch_loss=0.3247736096382141\n",
      "Epoch 39: curr_epoch_loss=0.32421875\n",
      "Epoch 40: curr_epoch_loss=0.32566139101982117\n",
      "Epoch 41: curr_epoch_loss=0.32521751523017883\n",
      "Epoch 42: curr_epoch_loss=0.32510653138160706\n",
      "Epoch 43: curr_epoch_loss=0.32466262578964233\n",
      "Epoch 44: curr_epoch_loss=0.3243297338485718\n",
      "Epoch 45: curr_epoch_loss=0.32421875\n",
      "Epoch 46: curr_epoch_loss=0.32377487421035767\n",
      "Epoch 47: curr_epoch_loss=0.3248845934867859\n",
      "Epoch 48: curr_epoch_loss=0.32466262578964233\n",
      "Epoch 49: curr_epoch_loss=0.32455167174339294\n"
     ]
    }
   ],
   "source": [
    "model = SentenceSimilarityCNN(train_dataset.get_max_sentence_length())\n",
    "criterion = nn.MSELoss()\n",
    "optimizer = torch.optim.SGD(model.parameters(), lr=1e-1)\n",
    "n_epochs=50\n",
    "def train(train_loader, n_epochs=n_epochs):\n",
    "    model.train()\n",
    "    for epoch in range(n_epochs):\n",
    "        curr_epoch_loss = []\n",
    "        for sentence_pairs, y in train_loader:\n",
    "            y_hat = model(sentence_pairs)\n",
    "            # print(\"training\")\n",
    "            # print(y_hat.dtype)\n",
    "            # print(y)\n",
    "            # print(\"======\")\n",
    "            loss = criterion(y_hat, y.float())\n",
    "\n",
    "            optimizer.zero_grad()\n",
    "            loss.backward()\n",
    "            optimizer.step()\n",
    "\n",
    "            curr_epoch_loss.append(loss.cpu().data.numpy())\n",
    "\n",
    "        print(f\"Epoch {epoch}: curr_epoch_loss={np.mean(curr_epoch_loss)}\")\n",
    "\n",
    "train(train_dataloader)"
   ],
   "metadata": {
    "collapsed": false
   }
  },
  {
   "cell_type": "markdown",
   "source": [
    " bn_Testing Similarity Scoring Function_"
   ],
   "metadata": {
    "collapsed": false
   }
  },
  {
   "cell_type": "code",
   "execution_count": 170,
   "outputs": [],
   "source": [
    "NUM_OF_SAMPLES = 20\n",
    "SAMPLE_SIZE = 2\n",
    "OUTPUT_SIZE = 6\n",
    "\n",
    "test_embedding = torch.rand((NUM_OF_SAMPLES, SAMPLE_SIZE, OUTPUT_SIZE))\n",
    "scores = manhattan_similarity_score(test_embedding)\n",
    "\n",
    "assert scores.shape == (NUM_OF_SAMPLES, 1)\n"
   ],
   "metadata": {
    "collapsed": false,
    "ExecuteTime": {
     "start_time": "2023-04-08T00:35:09.386951Z",
     "end_time": "2023-04-08T00:35:09.528280Z"
    }
   }
  },
  {
   "cell_type": "code",
   "execution_count": 171,
   "outputs": [],
   "source": [
    "class SSCN(nn.Module):\n",
    "    def __init__(self, sample_size, stride=1, kernel_size=3, padding=1):\n",
    "        super().__init__()\n",
    "        self.stride = stride\n",
    "        self.kernel_size = kernel_size\n",
    "        self.padding = padding\n",
    "        self.conv_layers =sample_size\n",
    "\n",
    "        #NN layers\n",
    "        self.conv1 = nn.Conv1d(in_channels=self.conv_layers, out_channels=self.conv_layers, \\\n",
    "                               kernel_size=self.kernel_size, padding=self.padding)\n",
    "        self.relu1 = nn.ReLU()\n",
    "        self.conv2 = nn.Conv1d(in_channels=self.conv_layers, out_channels=self.conv_layers, \\\n",
    "                               kernel_size=self.kernel_size, padding=self.padding)\n",
    "        self.relu2 = nn.ReLU()\n",
    "        self.pool1 = DynamicKMaxPooling(self.kernel_size, self.conv_layers)\n",
    "\n",
    "        self.sscn = nn.Sequential(self.conv1, self.relu1, self.conv2, self.relu2, self.pool1)\n",
    "\n",
    "    \"\"\"\n",
    "    * X: Pooled output of SSCN model of shape (sample_size, -1)\n",
    "    * For the purpose of this experiment sample_size = 2\n",
    "    \"\"\"\n",
    "    def manhattan_similarity_score(self, X):\n",
    "        score = manhattan_similarity_score(X)\n",
    "        return score\n",
    "\n",
    "    def forward(self, X):\n",
    "        # X = self.conv1(X)\n",
    "        # print(X.shape)\n",
    "        # X = self.relu1(X)\n",
    "        # print(X.shape)\n",
    "        # X = self.conv1(X)\n",
    "        # print(X.shape)\n",
    "        # X = self.relu2(X)\n",
    "        # print(X.shape)\n",
    "        # X = self.pool1(X)\n",
    "        # print(X.shape)\n",
    "        # X = self.manhattan_similarity_score(X)\n",
    "        # print(X.shape)\n",
    "        X = self.manhattan_similarity_score(self.sscn(X))\n",
    "        return X"
   ],
   "metadata": {
    "collapsed": false,
    "ExecuteTime": {
     "start_time": "2023-04-08T00:35:09.387486Z",
     "end_time": "2023-04-08T00:35:09.528347Z"
    }
   }
  },
  {
   "cell_type": "markdown",
   "source": [
    "__Testing:__"
   ],
   "metadata": {
    "collapsed": false
   }
  },
  {
   "cell_type": "code",
   "execution_count": 172,
   "outputs": [
    {
     "name": "stdout",
     "output_type": "stream",
     "text": [
      "SSCN(\n",
      "  (conv1): Conv1d(2, 2, kernel_size=(3,), stride=(1,), padding=(1,))\n",
      "  (relu1): ReLU()\n",
      "  (conv2): Conv1d(2, 2, kernel_size=(3,), stride=(1,), padding=(1,))\n",
      "  (relu2): ReLU()\n",
      "  (pool1): DynamicKMaxPooling()\n",
      "  (sscn): Sequential(\n",
      "    (0): Conv1d(2, 2, kernel_size=(3,), stride=(1,), padding=(1,))\n",
      "    (1): ReLU()\n",
      "    (2): Conv1d(2, 2, kernel_size=(3,), stride=(1,), padding=(1,))\n",
      "    (3): ReLU()\n",
      "    (4): DynamicKMaxPooling()\n",
      "  )\n",
      ")\n",
      "torch.Size([20, 1])\n"
     ]
    }
   ],
   "source": [
    "NUM_OF_SAMPLES = 20\n",
    "SAMPLE_SIZE = 2\n",
    "UNIQUE_FEATURES = 18\n",
    "\n",
    "test_embedding = torch.rand((NUM_OF_SAMPLES, SAMPLE_SIZE, UNIQUE_FEATURES))\n",
    "\n",
    "model = SSCN(SAMPLE_SIZE)\n",
    "# shape (batch,sample,sentence,word)?\n",
    "print(model)\n",
    "\n",
    "out = model(test_embedding)\n",
    "\n",
    "assert out.shape[0] == NUM_OF_SAMPLES\n",
    "assert out.shape[1] == 1\n",
    "print(out.shape)\n"
   ],
   "metadata": {
    "collapsed": false,
    "ExecuteTime": {
     "start_time": "2023-04-08T00:35:09.388774Z",
     "end_time": "2023-04-08T00:35:09.528518Z"
    }
   }
  }
 ],
 "metadata": {
  "kernelspec": {
   "display_name": "Python 3",
   "language": "python",
   "name": "python3"
  },
  "language_info": {
   "codemirror_mode": {
    "name": "ipython",
    "version": 2
   },
   "file_extension": ".py",
   "mimetype": "text/x-python",
   "name": "python",
   "nbconvert_exporter": "python",
   "pygments_lexer": "ipython2",
   "version": "2.7.6"
  }
 },
 "nbformat": 4,
 "nbformat_minor": 0
}
