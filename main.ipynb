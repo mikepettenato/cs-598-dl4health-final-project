{
 "cells": [
  {
   "cell_type": "code",
   "execution_count": 26,
   "outputs": [],
   "source": [
    "import torch, stanza\n",
    "from torch import nn\n",
    "import numpy as np\n",
    "import torch.nn.functional as F"
   ],
   "metadata": {
    "collapsed": false,
    "ExecuteTime": {
     "start_time": "2023-04-03T09:28:14.363730Z",
     "end_time": "2023-04-03T09:28:14.464875Z"
    }
   }
  },
  {
   "cell_type": "markdown",
   "source": [
    "# Data Processing\n",
    "\n",
    "This section can have stuff related to data prep.\n",
    "\n",
    "\n",
    "Should the MSPC Dataset be a part of this section? - Adam"
   ],
   "metadata": {
    "collapsed": false
   }
  },
  {
   "cell_type": "code",
   "execution_count": 33,
   "outputs": [],
   "source": [
    "#Code here\n",
    "pass"
   ],
   "metadata": {
    "collapsed": false,
    "ExecuteTime": {
     "start_time": "2023-04-03T09:58:35.384931Z",
     "end_time": "2023-04-03T09:58:35.421628Z"
    }
   }
  },
  {
   "cell_type": "markdown",
   "source": [
    "# Model Definition\n",
    "\n",
    "![Model Overview](images/overview.png)"
   ],
   "metadata": {
    "collapsed": false
   }
  },
  {
   "cell_type": "markdown",
   "source": [
    "\n",
    "## Input Layer\n",
    "\n",
    "In the input layer is made up of a Stanford Parser to provide a syntactic tree so that the model can extract significant words (mainly, subject, predicate, object) in the input corpus. Word2Vec is then used to map the words into vectors"
   ],
   "metadata": {
    "collapsed": false
   }
  },
  {
   "cell_type": "code",
   "execution_count": 32,
   "outputs": [
    {
     "ename": "IndentationError",
     "evalue": "expected an indented block (1778526601.py, line 5)",
     "output_type": "error",
     "traceback": [
      "\u001B[0;36m  Cell \u001B[0;32mIn[32], line 5\u001B[0;36m\u001B[0m\n\u001B[0;31m    doc = nlp(str)\u001B[0m\n\u001B[0m    ^\u001B[0m\n\u001B[0;31mIndentationError\u001B[0m\u001B[0;31m:\u001B[0m expected an indented block\n"
     ]
    }
   ],
   "source": [
    "    # set 'download_method = None' to not download the resources over and over\n",
    "nlp = stanza.Pipeline(lang='en', processors='tokenize,pos,constituency', download_method=None)\n",
    "\n",
    "def trunk_construction(str, parent_label = None):\n",
    "    doc = nlp(str)\n",
    "    tree = doc.sentences[0].constituency\n",
    "\n",
    "    words = construct_sentence(tree, parent_label)\n",
    "    return ' '.join(words)\n",
    "\n",
    "def construct_sentence(tree, parent_label = None, leave_pos=False):\n",
    "\n",
    "    sentences = []\n",
    "    if 'NN' in tree.label:\n",
    "        if parent_label == 'NP':\n",
    "            # sentences.append(tree)\n",
    "            sentences = sentences + tree.leaf_labels()\n",
    "    if 'VB' in tree.label:\n",
    "        if parent_label == 'VP':\n",
    "            #sentences.append(tree)\n",
    "            sentences = sentences + tree.leaf_labels()\n",
    "    for child in tree.children:\n",
    "        sentences = sentences + construct_sentence(child, tree.label)\n",
    "\n",
    "    return sentences"
   ],
   "metadata": {
    "collapsed": false
   }
  },
  {
   "cell_type": "code",
   "execution_count": 81,
   "outputs": [],
   "source": [
    "def test_parser(str, valid_sentence):\n",
    "\n",
    "    new_sentence = trunk_construction(str)\n",
    "    #new_sentence = ' '.join(words)\n",
    "    assert new_sentence == valid_sentence"
   ],
   "metadata": {
    "collapsed": false
   }
  },
  {
   "cell_type": "code",
   "execution_count": 82,
   "outputs": [],
   "source": [
    "test_parser('Syrian forces launch new attacks', \"forces launch attacks\")\n",
    "test_parser(\"\"\"the flat tire was replaced by the driver\"\"\",\"tire was replaced driver\")\n",
    "test_parser(\"\"\"Amrozi accused his brother, whom he called \"the witness\", of deliberately distorting his evidence.\"\"\",\n",
    "           \"Amrozi accused brother called witness distorting evidence\")\n",
    "test_parser(\"\"\"Shares of Genentech, a much larger company with several products on the market, rose more than 2 percent\"\"\",\n",
    "            \"Shares Genentech company products market rose percent\")\n",
    "test_parser(\"\"\"Gyorgy Heizler, head of the local disaster unit, said the coach was carrying 38 passengers.\"\"\",\n",
    "             \"Gyorgy Heizler head disaster unit said coach was carrying passengers\")\n",
    "test_parser(\"\"\"Referring to him as only \"the witness\", Amrozi accused his brother of deliberately distorting his evidence.\"\"\",\n",
    "           \"Referring witness Amrozi accused brother distorting evidence\")\n",
    "test_parser(\"\"\"His wife said he was \"100 percent behind George Bush\" and looked forward to using his years of training in the war.\"\"\",\n",
    "            \"wife said was percent George Bush looked using years training war\")\n"
   ],
   "metadata": {
    "collapsed": false
   }
  },
  {
   "cell_type": "code",
   "execution_count": null,
   "outputs": [],
   "source": [
    "from torch.utils.data import DataLoader, Dataset\n",
    "\n",
    "class MRPCDataset(Dataset):\n",
    "    def __init__(self, string1, string2, quality):\n",
    "        self.string1 = string1\n",
    "        self.string2 = string2\n",
    "        self.quality = quality\n",
    "\n",
    "    def __len__(self):\n",
    "        return len(self.string1)\n",
    "\n",
    "    def __getitem__(self, index):\n",
    "        return self.string1, self.string2, self.quality"
   ],
   "metadata": {
    "collapsed": false
   }
  },
  {
   "cell_type": "code",
   "execution_count": 83,
   "outputs": [],
   "source": [
    "import pandas as pd\n",
    "\n",
    "def read_file(file_name):\n",
    "    # Note: Unable to use pd.read_csv... the function complained about an issue with the formatting of the tsv file\n",
    "    # train = pd.read_csv('data/msr_paraphrase_train.txt', sep='\\t', encoding='latin1')\n",
    "    # train\n",
    "\n",
    "    # opting to read file in and split columns manually to create a pandas dataframe\n",
    "    list = []\n",
    "    with open(file_name, encoding=\"utf8\") as f:\n",
    "        lines = f.readlines()\n",
    "        for i, line in enumerate(lines):\n",
    "            fields = line.split('\\t')\n",
    "            list.append(fields)\n",
    "\n",
    "    df = pd.DataFrame(list[1:], columns=['Quality', 'ID1', 'ID2', 'String1', 'String2'])\n",
    "    return df"
   ],
   "metadata": {
    "collapsed": false
   }
  },
  {
   "cell_type": "code",
   "execution_count": null,
   "outputs": [],
   "source": [
    "#def collate_fn()"
   ],
   "metadata": {
    "collapsed": false
   }
  },
  {
   "cell_type": "code",
   "execution_count": 158,
   "outputs": [
    {
     "name": "stdout",
     "output_type": "stream",
     "text": [
      "Processing 200 sentences with stanza library took 0:06:09.133081\n",
      "Processing 200 sentences with gensim.utils.simple_preprocess took 0:00:00.010970\n"
     ]
    }
   ],
   "source": [
    "import gensim\n",
    "import datetime\n",
    "\n",
    "df = read_file('data/msr_paraphrase_train.txt')\n",
    "start_time = datetime.datetime.now()\n",
    "\n",
    "processed_string1 = df[:500].String1.apply(trunk_construction)\n",
    "processed_string2 = df[:500].String2.apply(trunk_construction)\n",
    "\n",
    "end_time = datetime.datetime.now()\n",
    "\n",
    "print (f\"Processing 200 sentences with stanza library took {end_time - start_time}\")\n",
    "\n",
    "start_time = datetime.datetime.now()\n",
    "\n",
    "processed_string1 = processed_string1.apply(gensim.utils.simple_preprocess)\n",
    "processed_string2 = processed_string2.apply(gensim.utils.simple_preprocess)\n",
    "\n",
    "end_time = datetime.datetime.now()\n",
    "\n",
    "print (f\"Processing 200 sentences with gensim.utils.simple_preprocess took {end_time - start_time}\")\n"
   ],
   "metadata": {
    "collapsed": false
   }
  },
  {
   "cell_type": "code",
   "execution_count": 159,
   "outputs": [
    {
     "data": {
      "text/plain": "500"
     },
     "execution_count": 159,
     "metadata": {},
     "output_type": "execute_result"
    }
   ],
   "source": [
    "len(processed_string1)"
   ],
   "metadata": {
    "collapsed": false
   }
  },
  {
   "cell_type": "code",
   "execution_count": 160,
   "outputs": [
    {
     "data": {
      "text/plain": "0      [referring, witness, amrozi, accused, brother,...\n1             [yucaipa, bought, dominick, sold, safeway]\n2      [june, ship, owners, had, published, advertise...\n3       [tab, shares, jumped, cents, set, closing, high]\n4      [shares, jumped, percent, stock, exchange, fri...\n                             ...                        \n495    [was, bitten, back, scratched, leg, mother, said]\n496    [says, release, tarot, card, left, shooting, s...\n497    [bryant, has, said, hike, had, effect, demand,...\n498                        [yankees, are, slump, season]\n499                     [solomon, is, canada, resellers]\nName: String2, Length: 500, dtype: object"
     },
     "execution_count": 160,
     "metadata": {},
     "output_type": "execute_result"
    }
   ],
   "source": [
    "processed_string2"
   ],
   "metadata": {
    "collapsed": false
   }
  },
  {
   "cell_type": "code",
   "execution_count": 161,
   "outputs": [],
   "source": [
    "from gensim.models import Word2Vec\n",
    "\n",
    "corpus = pd.concat([processed_string1, processed_string2], ignore_index=True)\n",
    "\n",
    "#model = Word2Vec(sentences=corpus, vector_size=(len(processed_string1) + len(processed_string2)), min_count=2)\n",
    "# set vector size to reduce computational complexity\n",
    "model = Word2Vec(sentences=corpus, min_count=1, window=2, vector_size=50)\n",
    "#model.build_vocab(sentences=corpus)\n",
    "#model.train(corpus, total_examples=model.corpus_count, epochs=5)"
   ],
   "metadata": {
    "collapsed": false
   }
  },
  {
   "cell_type": "code",
   "execution_count": 162,
   "outputs": [
    {
     "name": "stdout",
     "output_type": "stream",
     "text": [
      "Word2Vec<vocab=2899, vector_size=50, alpha=0.025>\n",
      "{'said': 0, 'was': 1, 'is': 2, 'percent': 3, 'be': 4, 'were': 5, 'has': 6, 'had': 7, 'have': 8, 'year': 9, 'are': 10, 'company': 11, 'been': 12, 'years': 13, 'points': 14, 'bush': 15, 'friday': 16, 'state': 17, 'shares': 18, 'court': 19, 'mr': 20, 'people': 21, 'fell': 22, 'stock': 23, 'president': 24, 'war': 25, 'police': 26, 'companies': 27, 'monday': 28, 'officials': 29, 'administration': 30, 'work': 31, 'yesterday': 32, 'thursday': 33, 'told': 34, 'time': 35, 'tuesday': 36, 'cents': 37, 'trading': 38, 'death': 39, 'growth': 40, 'united': 41, 'statement': 42, 'wednesday': 43, 'expected': 44, 'department': 45, 'sales': 46, 'did': 47, 'nasdaq': 48, 'used': 49, 'states': 50, 'rose': 51, 'microsoft': 52, 'index': 53, 'added': 54, 'found': 55, 'killed': 56, 'months': 57, 'today': 58, 'day': 59, 'cancer': 60, 'name': 61, 'iraq': 62, 'authorities': 63, 'arrested': 64, 'office': 65, 'children': 66, 'do': 67, 'life': 68, 'group': 69, 'decision': 70, 'us': 71, 'power': 72, 'dollar': 73, 'says': 74, 'case': 75, 'set': 76, 'part': 77, 'take': 78, 'week': 79, 'prison': 80, 'filed': 81, 'plans': 82, 'charged': 83, 'june': 84, 'saying': 85, 'team': 86, 'being': 87, 'health': 88, 'average': 89, 'began': 90, 'operations': 91, 'city': 92, 'exchange': 93, 'hearing': 94, 'service': 95, 'issue': 96, 'data': 97, 'intel': 98, 'school': 99, 'church': 100, 'services': 101, 'standard': 102, 'sunday': 103, 'rate': 104, 'interest': 105, 'cut': 106, 'announced': 107, 'end': 108, 'board': 109, 'world': 110, 'cost': 111, 'published': 112, 'made': 113, 'called': 114, 'deal': 115, 'share': 116, 'earnings': 117, 'reported': 118, 'customers': 119, 'release': 120, 'march': 121, 'charges': 122, 'women': 123, 'asked': 124, 'spokesman': 125, 'nation': 126, 'canada': 127, 'died': 128, 'go': 129, 'poor': 130, 'april': 131, 'assault': 132, 'ixic': 133, 'say': 134, 'news': 135, 'commission': 136, 'force': 137, 'council': 138, 'software': 139, 'feet': 140, 'tried': 141, 'use': 142, 'conducted': 143, 'government': 144, 'association': 145, 'intelligence': 146, 'ibm': 147, 'money': 148, 'fbi': 149, 'lee': 150, 'washington': 151, 'china': 152, 'air': 153, 'approval': 154, 'products': 155, 'market': 156, 'close': 157, 'media': 158, 'britain': 159, 'officer': 160, 'afternoon': 161, 'going': 162, 'see': 163, 'composite': 164, 'yield': 165, 'lost': 166, 'drugs': 167, 'business': 168, 'released': 169, 'july': 170, 'saturday': 171, 'period': 172, 'quarter': 173, 'fire': 174, 'happened': 175, 'seen': 176, 'provide': 177, 'supreme': 178, 'members': 179, 'faces': 180, 'times': 181, 'way': 182, 'district': 183, 'others': 184, 'plan': 185, 'get': 186, 'november': 187, 'virus': 188, 'river': 189, 'aircraft': 190, 'care': 191, 'showed': 192, 'hundreds': 193, 'schools': 194, 'taking': 195, 'yen': 196, 'information': 197, 'number': 198, 'technology': 199, 'trade': 200, 'held': 201, 'evidence': 202, 'building': 203, 'men': 204, 'cbs': 205, 'spent': 206, 'shooting': 207, 'sars': 208, 'car': 209, 'jail': 210, 'hours': 211, 'come': 212, 'application': 213, 'soldiers': 214, 'john': 215, 're': 216, 'euro': 217, 'passengers': 218, 'september': 219, 'hunt': 220, 'army': 221, 'saddam': 222, 'attack': 223, 'newspaper': 224, 'fund': 225, 'experts': 226, 'industry': 227, 'risk': 228, 'families': 229, 'murder': 230, 'firm': 231, 'improve': 232, 'records': 233, 'night': 234, 'bryant': 235, 'de': 236, 'employees': 237, 'new': 238, 'target': 239, 'mother': 240, 'program': 241, 'oct': 242, 'hussein': 243, 'transfers': 244, 'tom': 245, 'think': 246, 'prosecutors': 247, 'treatment': 248, 'providing': 249, 'troops': 250, 'tuition': 251, 'bank': 252, 'closed': 253, 'japan': 254, 'season': 255, 'system': 256, 'based': 257, 'october': 258, 'sent': 259, 'students': 260, 'network': 261, 'california': 262, 'may': 263, 'condition': 264, 'done': 265, 'looking': 266, 'music': 267, 'spread': 268, 'support': 269, 'pricing': 270, 'point': 271, 'days': 272, 'iraqis': 273, 'airways': 274, 'having': 275, 'minister': 276, 'accused': 277, 'investigation': 278, 'returning': 279, 'revenue': 280, 'infineon': 281, 'driver': 282, 'body': 283, 'agency': 284, 'vote': 285, 'ended': 286, 'elections': 287, 'consumers': 288, 'drug': 289, 'country': 290, 'report': 291, 'supporters': 292, 'letter': 293, 'make': 294, 'peoplesoft': 295, 'family': 296, 'cent': 297, 'received': 298, 'morning': 299, 'efforts': 300, 'judge': 301, 'results': 302, 'month': 303, 'anything': 304, 'gained': 305, 'activity': 306, 'australia': 307, 'served': 308, 'headed': 309, 'web': 310, 'user': 311, 'launch': 312, 'security': 313, 'crew': 314, 'jobs': 315, 'working': 316, 'trial': 317, 'justice': 318, 'groups': 319, 'prices': 320, 'using': 321, 'george': 322, 'electric': 323, 'adding': 324, 'disease': 325, 'find': 326, 'airline': 327, 'launched': 328, 'demand': 329, 'mail': 330, 'comes': 331, 'thousands': 332, 'gave': 333, 'means': 334, 'el': 335, 'workers': 336, 'campaign': 337, 'deaths': 338, 'considered': 339, 'result': 340, 'station': 341, 'york': 342, 'environment': 343, 'nbc': 344, 'december': 345, 'green': 346, 'site': 347, 'note': 348, 'agencies': 349, 'al': 350, 'tauzin': 351, 'options': 352, 'doctors': 353, 'peterson': 354, 'raising': 355, 'recall': 356, 'per': 357, 'actions': 358, 'base': 359, 'international': 360, 'meeting': 361, 'powerpoint': 362, 'asthma': 363, 'democrat': 364, 'slipped': 365, 'tonight': 366, 'journal': 367, 'jumped': 368, 'breach': 369, 'sentence': 370, 'reports': 371, 'matter': 372, 'graham': 373, 'settle': 374, 'scores': 375, 'changes': 376, 'left': 377, 'yankees': 378, 'industrial': 379, 'persons': 380, 'warned': 381, 'patients': 382, 'pursuing': 383, 'stage': 384, 'harassment': 385, 'love': 386, 'passed': 387, 'person': 388, 'reporters': 389, 'stores': 390, 'papers': 391, 'heads': 392, 'abbas': 393, 'spree': 394, 'living': 395, 'pressure': 396, 'forms': 397, 'russia': 398, 'broke': 399, 'product': 400, 'dvds': 401, 'century': 402, 'phone': 403, 'agents': 404, 'committee': 405, 'prisoners': 406, 'linked': 407, 'conference': 408, 'want': 409, 'uganda': 410, 'investigations': 411, 'gary': 412, 'kelly': 413, 'shuttle': 414, 'simplify': 415, 'loyalists': 416, 'tax': 417, 'went': 418, 'cuts': 419, 'sites': 420, 'carried': 421, 'candidate': 422, 'executions': 423, 'partner': 424, 'singapore': 425, 'include': 426, 'volume': 427, 'spx': 428, 'wanted': 429, 'offer': 430, 'got': 431, 'ratliff': 432, 'franc': 433, 'swiss': 434, 'tendencies': 435, 'users': 436, 'researchers': 437, 'fort': 438, 'reduce': 439, 'started': 440, 'democrats': 441, 'things': 442, 'killer': 443, 'europe': 444, 'gov': 445, 'spotlight': 446, 'town': 447, 'maker': 448, 'calling': 449, 'paying': 450, 'supply': 451, 'visit': 452, 'resides': 453, 'amount': 454, 'powell': 455, 'fix': 456, 'brain': 457, 'threat': 458, 'penalty': 459, 'fuel': 460, 'wim': 461, 'submitted': 462, 'half': 463, 'house': 464, 'debts': 465, 'spitzer': 466, 'making': 467, 'does': 468, 'task': 469, 'dropped': 470, 'high': 471, 'sale': 472, 'die': 473, 'challenge': 474, 'alcohol': 475, 'kroc': 476, 'buyers': 477, 'laws': 478, 'witness': 479, 'brother': 480, 'khodorkovsky': 481, 'daughters': 482, 'joint': 483, 'jackson': 484, 'device': 485, 'remains': 486, 'test': 487, 'area': 488, 'replace': 489, 'france': 490, 'child': 491, 'weight': 492, 'leadership': 493, 'allowed': 494, 'semiconductor': 495, 'comment': 496, 'moore': 497, 'aired': 498, 'happen': 499, 'believed': 500, 'capital': 501, 'songs': 502, 'basis': 503, 'handspring': 504, 'lawyer': 505, 'sense': 506, 'rise': 507, 'ship': 508, 'boy': 509, 'networks': 510, 'wing': 511, 'afghanistan': 512, 'arthur': 513, 'rambus': 514, 'saw': 515, 'toll': 516, 'located': 517, 'included': 518, 'lawsuit': 519, 'immigrants': 520, 'record': 521, 'taken': 522, 'halla': 523, 'oracle': 524, 'helped': 525, 'jets': 526, 'san': 527, 'van': 528, 'believe': 529, 'leading': 530, 'columbia': 531, 'dotson': 532, 'selected': 533, 'send': 534, 'jr': 535, 'focus': 536, 'cash': 537, 'apple': 538, 'husband': 539, 'nov': 540, 'university': 541, 'exercise': 542, 'selenski': 543, 'residents': 544, 'humans': 545, 'charles': 546, 'shut': 547, 'shift': 548, 'republicans': 549, 'alabama': 550, 'effort': 551, 'rates': 552, 'approved': 553, 'place': 554, 'parts': 555, 'official': 556, 'involving': 557, 'paid': 558, 'coverage': 559, 'arrest': 560, 'fighting': 561, 'lieberman': 562, 'completed': 563, 'ms': 564, 'albums': 565, 'tool': 566, 'keep': 567, 'visits': 568, 'michael': 569, 'kong': 570, 'smallpox': 571, 'james': 572, 'operation': 573, 'pay': 574, 'governor': 575, 'ground': 576, 'search': 577, 'advocate': 578, 'survival': 579, 'remove': 580, 'boston': 581, 'known': 582, 'attacks': 583, 'workplace': 584, 'kill': 585, 'face': 586, 'kyi': 587, 'officers': 588, 'bombing': 589, 'survey': 590, 'putt': 591, 'housing': 592, 'threatened': 593, 'affected': 594, 'stop': 595, 'stewart': 596, 'euros': 597, 'weapons': 598, 'verdict': 599, 'mainland': 600, 'know': 601, 'let': 602, 'sub': 603, 'term': 604, 'run': 605, 'man': 606, 'spreads': 607, 'led': 608, 'fraud': 609, 'defend': 610, 'capitol': 611, 'patent': 612, 'affect': 613, 'blast': 614, 'american': 615, 'needed': 616, 'covered': 617, 'planned': 618, 'difficulty': 619, 'makes': 620, 'assets': 621, 'fired': 622, 'walked': 623, 'announcement': 624, 'morse': 625, 'oil': 626, 'terrorism': 627, 'linux': 628, 'controlled': 629, 'question': 630, 'pickup': 631, 'raid': 632, 'attorney': 633, 'suv': 634, 'home': 635, 'representatives': 636, 'detained': 637, 'bond': 638, 'hike': 639, 'open': 640, 'abuse': 641, 'mrs': 642, 'plant': 643, 'perform': 644, 'dr': 645, 'incident': 646, 'package': 647, 'inc': 648, 'telephone': 649, 'latin': 650, 'manufacturers': 651, 'drive': 652, 'decline': 653, 'chip': 654, 'oxford': 655, 'austin': 656, 'jury': 657, 'conspiracy': 658, 'beat': 659, 'declared': 660, 'seek': 661, 'motion': 662, 'visual': 663, 'post': 664, 'line': 665, 'poll': 666, 'bill': 667, 'suit': 668, 'cable': 669, 'dropping': 670, 'process': 671, 'joined': 672, 'fees': 673, 'palm': 674, 'general': 675, 'date': 676, 'questions': 677, 'parent': 678, 'scheduled': 679, 'embraer': 680, 'lives': 681, 'appeared': 682, 'sickened': 683, 'approached': 684, 'forum': 685, 'audience': 686, 'border': 687, 'mahmoud': 688, 'weekend': 689, 'sun': 690, 'regime': 691, 'engage': 692, 'coach': 693, 'unit': 694, 'disaster': 695, 'head': 696, 'cutting': 697, 'decided': 698, 'crime': 699, 'investigators': 700, 'training': 701, 'won': 702, 'bankruptcy': 703, 'legislation': 704, 'show': 705, 'cargo': 706, 'offering': 707, 'internet': 708, 'effect': 709, 'owned': 710, 'looked': 711, 'young': 712, 'staff': 713, 'institute': 714, 'stress': 715, 'dates': 716, 'policy': 717, 'denied': 718, 'soared': 719, 'burn': 720, 'park': 721, 'august': 722, 'lose': 723, 'research': 724, 'forecast': 725, 'bail': 726, 'ordered': 727, 'cell': 728, 'republic': 729, 'posted': 730, 'seizure': 731, 'occurred': 732, 'command': 733, 'job': 734, 'computers': 735, 'increase': 736, 'loses': 737, 'lights': 738, 'smith': 739, 'document': 740, 'type': 741, 'south': 742, 'africa': 743, 'trip': 744, 'peace': 745, 'supposed': 746, 'message': 747, 'cases': 748, 'robert': 749, 'mechanics': 750, 'colleges': 751, 'frogs': 752, 'chairman': 753, 'asia': 754, 'indian': 755, 'ocean': 756, 'trying': 757, 'morgan': 758, 'word': 759, 'named': 760, 'tokyo': 761, 'ban': 762, 'maturing': 763, 'brian': 764, 'national': 765, 'serving': 766, 'television': 767, 'seats': 768, 'directors': 769, 'example': 770, 'futures': 771, 'violate': 772, 'ministry': 773, 'executive': 774, 'list': 775, 'distributed': 776, 'mount': 777, 'format': 778, 'hold': 779, 'appointed': 780, 'percentage': 781, 'iran': 782, 'declined': 783, 'progress': 784, 'bay': 785, 'continue': 786, 'possibility': 787, 'put': 788, 'chose': 789, 'victims': 790, 'terrorists': 791, 'watched': 792, 'superior': 793, 'andy': 794, 'white': 795, 'williams': 796, 'predicted': 797, 'stated': 798, 'organizations': 799, 'technologies': 800, 'price': 801, 'store': 802, 'scene': 803, 'nyse': 804, 'january': 805, 'london': 806, 'funds': 807, 'tony': 808, 'firing': 809, 'highs': 810, 'affects': 811, 'thomas': 812, 'delete': 813, 'study': 814, 'columbus': 815, 'interview': 816, 'benning': 817, 'ability': 818, 'own': 819, 'handheld': 820, 'penalties': 821, 'symptoms': 822, 'features': 823, 'conagra': 824, 'division': 825, 'blasted': 826, 'install': 827, 'brought': 828, 'speech': 829, 'condoms': 830, 'shareholders': 831, 'funding': 832, 'duisenberg': 833, 'argued': 834, 'atlanta': 835, 'discuss': 836, 'byrne': 837, 'vendor': 838, 'units': 839, 'georgia': 840, 'rendezvous': 841, 'afford': 842, 'article': 843, 'bombings': 844, 'flateau': 845, 'melinda': 846, 'rowe': 847, 'zone': 848, 'olympics': 849, 'county': 850, 'director': 851, 'stuff': 852, 'sex': 853, 'teens': 854, 'tibco': 855, 'sprayregen': 856, 'stations': 857, 'violated': 858, 'bulk': 859, 'create': 860, 'publish': 861, 'manage': 862, 'archive': 863, 'content': 864, 'crossed': 865, 'right': 866, 'stocks': 867, 'weisselberg': 868, 'law': 869, 'gas': 870, 'controls': 871, 'whales': 872, 'stranding': 873, 'astrazeneca': 874, 'rehnquist': 875, 'avalos': 876, 'indecency': 877, 'joe': 878, 'atlantic': 879, 'coast': 880, 'rewards': 881, 'hernandez': 882, 'graduate': 883, 'parsons': 884, 'design': 885, 'hockey': 886, 'adan': 887, 'ryan': 888, 'harvey': 889, 'outfielder': 890, 'florida': 891, 'cubs': 892, 'sheriff': 893, 'deputies': 894, 'rick': 895, 'perry': 896, 'opposes': 897, 'commit': 898, 'sia': 899, 'reflects': 900, 'realities': 901, 'scalise': 902, 'airlifted': 903, 'burns': 904, 'confessing': 905, 'richardson': 906, 'gambling': 907, 'citigroup': 908, 'goldman': 909, 'sachs': 910, 'returned': 911, 'prevented': 912, 'joan': 913, 'billionaire': 914, 'recovery': 915, 'leiu': 916, 'reading': 917, 'phones': 918, 'expansion': 919, 'veto': 920, 'spencer': 921, 'abraham': 922, 'typhoon': 923, 'maemi': 924, 'sea': 925, 'weakened': 926, 'meteorology': 927, 'acres': 928, 'forest': 929, 'devices': 930, 'wildfire': 931, 'path': 932, 'tapping': 933, 'middle': 934, 'lombardi': 935, 'whitley': 936, 'preparedness': 937, 'properties': 938, 'valued': 939, 'totalling': 940, 'operating': 941, 'wood': 942, 'public': 943, 'vaccination': 944, 'agreement': 945, 'compound': 946, 'opportunity': 947, 'remain': 948, 'discussions': 949, 'developed': 950, 'hema': 951, 'battlewagon': 952, 'pass': 953, 'farben': 954, 'ig': 955, 'bus': 956, 'rivera': 957, 'downturn': 958, 'break': 959, 'adjusted': 960, 'inflation': 961, 'drop': 962, 'decade': 963, 'circulation': 964, 'heart': 965, 'cited': 966, 'justification': 967, 'epidemic': 968, 'province': 969, 'refused': 970, 'gambled': 971, 'andres': 972, 'un': 973, 'threatens': 974, 'matthew': 975, 'medical': 976, 'disclosure': 977, 'dan': 978, 'ronayne': 979, 'mayor': 980, 'bart': 981, 'seychelles': 982, 'northwest': 983, 'center': 984, 'give': 985, 'springdale': 986, 'dancing': 987, 'sought': 988, 'father': 989, 'library': 990, 'steps': 991, 'deciding': 992, 'murray': 993, 'sulzberger': 994, 'eye': 995, 'infrastructure': 996, 'gillette': 997, 'handset': 998, 'option': 999, 'jurors': 1000, 'questionnaire': 1001, 'bombardier': 1002, 'acquisition': 1003, 'luster': 1004, 'revealed': 1005, 'identity': 1006, 'boycott': 1007, 'prescribed': 1008, 'medicaid': 1009, 'blamed': 1010, 'sabotaging': 1011, 'tag': 1012, 'convenience': 1013, 'carry': 1014, 'eugene': 1015, 'damage': 1016, 'provided': 1017, 'pathway': 1018, 'penetrate': 1019, 'reentry': 1020, 'demonstrating': 1021, 'strength': 1022, 'getting': 1023, 'nominations': 1024, 'revival': 1025, 'neill': 1026, 'issa': 1027, 'drama': 1028, 'long': 1029, 'journey': 1030, 'incomes': 1031, 'colin': 1032, 'correct': 1033, 'flaws': 1034, 'appear': 1035, 'biotechnology': 1036, 'constriction': 1037, 'facilities': 1038, 'conditions': 1039, 'call': 1040, 'mississippi': 1041, 'carlton': 1042, 'candidates': 1043, 'marked': 1044, 'examinations': 1045, 'delivered': 1046, 'management': 1047, 'intends': 1048, 'smartdefense': 1049, 'firewall': 1050, 'miller': 1051, 'elia': 1052, 'kazan': 1053, 'blacklist': 1054, 'none': 1055, 'sin': 1056, 'downtime': 1057, 'troy': 1058, 'sentenced': 1059, 'parole': 1060, 'michigan': 1061, 'jose': 1062, 'millions': 1063, 'distributing': 1064, 'complicated': 1065, 'watan': 1066, 'kalashnikov': 1067, 'rifles': 1068, 'financial': 1069, 'jp': 1070, 'chart': 1071, 'profile': 1072, 'dealing': 1073, 'bragging': 1074, 'rights': 1075, 'wins': 1076, 'hartford': 1077, 'becomes': 1078, 'co': 1079, 'reactors': 1080, 'admitted': 1081, 'inspection': 1082, 'averaged': 1083, 'installed': 1084, 'grounds': 1085, 'republican': 1086, 'rep': 1087, 'kidnappers': 1088, 'elena': 1089, 'crackdown': 1090, 'hospitality': 1091, 'foundations': 1092, 'accounts': 1093, 'ernst': 1094, 'obstructing': 1095, 'alexander': 1096, 'losyukov': 1097, 'elementary': 1098, 'obetz': 1099, 'freeway': 1100, 'sanitation': 1101, 'typhoid': 1102, 'cholera': 1103, 'pdc': 1104, 'speculation': 1105, 'figure': 1106, 'barometer': 1107, 'falling': 1108, 'nec': 1109, 'pitching': 1110, 'variety': 1111, 'industries': 1112, 'appearance': 1113, 'accommodate': 1114, 'java': 1115, 'heizler': 1116, 'rudder': 1117, 'chaos': 1118, 'sheena': 1119, 'lead': 1120, 'lot': 1121, 'finder': 1122, 'puts': 1123, 'location': 1124, 'access': 1125, 'storm': 1126, 'warnings': 1127, 'watches': 1128, 'haiti': 1129, 'dominican': 1130, 'bahamas': 1131, 'islands': 1132, 'lauderdale': 1133, 'bmi': 1134, 'session': 1135, 'struck': 1136, 'expires': 1137, 'carrying': 1138, 'gyorgy': 1139, 'situations': 1140, 'asylum': 1141, 'distorting': 1142, 'yucaipa': 1143, 'dominick': 1144, 'selling': 1145, 'chain': 1146, 'safeway': 1147, 'advertisement': 1148, 'tab': 1149, 'closing': 1150, 'dvd': 1151, 'cca': 1152, 'appealed': 1153, 'fit': 1154, 'strategy': 1155, 'genentech': 1156, 'erase': 1157, 'increased': 1158, 'performance': 1159, 'hospitals': 1160, 'mind': 1161, 'ask': 1162, 'tend': 1163, 'bring': 1164, 'developers': 1165, 'grow': 1166, 'vietnam': 1167, 'greece': 1168, 'pakistan': 1169, 'details': 1170, 'customer': 1171, 'savings': 1172, 'restate': 1173, 'pepsico': 1174, 'wal': 1175, 'mart': 1176, 'ensure': 1177, 'employed': 1178, 'talk': 1179, 'downplayed': 1180, 'pbl': 1181, 'purchases': 1182, 'flow': 1183, 'dioxin': 1184, 'levels': 1185, 'purifyplus': 1186, 'allows': 1187, 'wolf': 1188, 'laredo': 1189, 'return': 1190, 'albuquerque': 1191, 'ed': 1192, 'lu': 1193, 'yuri': 1194, 'malenchenko': 1195, 'afl': 1196, 'cio': 1197, 'decide': 1198, 'endorse': 1199, 'gains': 1200, 'orders': 1201, 'inventories': 1202, 'exports': 1203, 'loral': 1204, 'dinner': 1205, 'camp': 1206, 'bondsteel': 1207, 'retailers': 1208, 'kick': 1209, 'vouchers': 1210, 'parents': 1211, 'sorkin': 1212, 'darrell': 1213, 'road': 1214, 'solutions': 1215, 'okaz': 1216, 'born': 1217, 'dominique': 1218, 'villepin': 1219, 'arrive': 1220, 'sneering': 1221, 'dar': 1222, 'heatherington': 1223, 'version': 1224, 'events': 1225, 'thrust': 1226, 'suspects': 1227, 'map': 1228, 'fled': 1229, 'outskirts': 1230, 'mecca': 1231, 'mitchell': 1232, 'defender': 1233, 'baton': 1234, 'rouge': 1235, 'representing': 1236, 'stay': 1237, 'mark': 1238, 'babies': 1239, 'claimed': 1240, 'fsb': 1241, 'identifying': 1242, 'schemes': 1243, 'wenders': 1244, 'directed': 1245, 'film': 1246, 'miss': 1247, 'novikova': 1248, 'ballerinas': 1249, 'volochkova': 1250, 'videotapes': 1251, 'encouraging': 1252, 'fight': 1253, 'occupation': 1254, 'port': 1255, 'identify': 1256, 'look': 1257, 'nelson': 1258, 'precincts': 1259, 'reporting': 1260, 'fletcher': 1261, 'jack': 1262, 'shadrin': 1263, 'cds': 1264, 'delivery': 1265, 'bolt': 1266, 'boncyk': 1267, 'wife': 1268, 'ride': 1269, 'leonid': 1270, 'kuchma': 1271, 'america': 1272, 'movies': 1273, 'platinum': 1274, 'proposed': 1275, 'investing': 1276, 'vehicles': 1277, 'stanford': 1278, 'nobody': 1279, 'knows': 1280, 'guard': 1281, 'kaye': 1282, 'assure': 1283, 'corixa': 1284, 'allocated': 1285, 'offerings': 1286, 'gallon': 1287, 'antivirus': 1288, 'wayne': 1289, 'sadr': 1290, 'catcher': 1291, 'governing': 1292, 'stanley': 1293, 'raised': 1294, 'rating': 1295, 'beverage': 1296, 'bottlers': 1297, 'mustapha': 1298, 'sahel': 1299, 'reference': 1300, 'salafist': 1301, 'pound': 1302, 'reached': 1303, 'tucked': 1304, 'rely': 1305, 'wire': 1306, 'couriers': 1307, 'claudia': 1308, 'carrizales': 1309, 'villa': 1310, 'citizen': 1311, 'harlingen': 1312, 'condemn': 1313, 'prevention': 1314, 'control': 1315, 'centers': 1316, 'win': 1317, 'anhalt': 1318, 'treat': 1319, 'soda': 1320, 'bottle': 1321, 'contains': 1322, 'kline': 1323, 'opinion': 1324, 'dealt': 1325, 'abortion': 1326, 'providers': 1327, 'apply': 1328, 'dossier': 1329, 'rushed': 1330, 'freedom': 1331, 'hamas': 1332, 'killers': 1333, 'round': 1334, 'espn': 1335, 'guidance': 1336, 'prompted': 1337, 'memo': 1338, 'physicians': 1339, 'sessions': 1340, 'competitor': 1341, 'flood': 1342, 'coma': 1343, 'widen': 1344, 'region': 1345, 'supports': 1346, 'vba': 1347, 'excel': 1348, 'ai': 1349, 'secure': 1350, 'analyze': 1351, 'surgery': 1352, 'clarifying': 1353, 'position': 1354, 'mohammad': 1355, 'khatami': 1356, 'inquiry': 1357, 'suite': 1358, 'continuing': 1359, 'file': 1360, 'vernon': 1361, 'skagit': 1362, 'crest': 1363, 'mentioned': 1364, 'devries': 1365, 'movement': 1366, 'tyco': 1367, 'forgiven': 1368, 'swartz': 1369, 'repaid': 1370, 'stillman': 1371, 'mattress': 1372, 'scale': 1373, 'fence': 1374, 'fischi': 1375, 'loonie': 1376, 'organizing': 1377, 'prom': 1378, 'consumption': 1379, 'aspirin': 1380, 'ticlopidine': 1381, 'require': 1382, 'cancellation': 1383, 'audit': 1384, 'environmental': 1385, 'quality': 1386, 'arison': 1387, 'mann': 1388, 'loan': 1389, 'vanderpool': 1390, 'came': 1391, 'roger': 1392, 'whipple': 1393, 'oversight': 1394, 'afi': 1395, 'travel': 1396, 'mcdonald': 1397, 'nothing': 1398, 'personnel': 1399, 'sean': 1400, 'waagner': 1401, 'letters': 1402, 'anthrax': 1403, 'repealing': 1404, 'fears': 1405, 'suffering': 1406, 'pregnancies': 1407, 'uterus': 1408, 'paracha': 1409, 'convicted': 1410, 'purchased': 1411, 'ecb': 1412, 'smugglers': 1413, 'widow': 1414, 'amrozi': 1415, 'ray': 1416, 'imclone': 1417, 'rings': 1418, 'peter': 1419, 'fran': 1420, 'walsh': 1421, 'hynix': 1422, 'ceo': 1423, 'incidents': 1424, 'connected': 1425, 'sattler': 1426, 'lincoln': 1427, 'combined': 1428, 'reilly': 1429, 'autoadvice': 1430, 'cpus': 1431, 'capps': 1432, 'mosques': 1433, 'appeal': 1434, 'responsibility': 1435, 'policies': 1436, 'centre': 1437, 'roma': 1438, 'ionescu': 1439, 'shareholder': 1440, 'granting': 1441, 'compensation': 1442, 'messaging': 1443, 'collaboration': 1444, 'learning': 1445, 'preparing': 1446, 'browser': 1447, 'it': 1448, 'platforms': 1449, 'mta': 1450, 'infringement': 1451, 'contract': 1452, 'earners': 1453, 'princess': 1454, 'marriage': 1455, 'vasile': 1456, 'archdiocese': 1457, 'infuriated': 1458, 'persecuted': 1459, 'showing': 1460, 'communion': 1461, 'intention': 1462, 'offend': 1463, 'incite': 1464, 'hatred': 1465, 'violence': 1466, 'ali': 1467, 'imron': 1468, 'remorse': 1469, 'charge': 1470, 'sold': 1471, 'distributors': 1472, 'rumsfeld': 1473, 'feuding': 1474, 'generals': 1475, 'barnett': 1476, 'photos': 1477, 'scratch': 1478, 'anglican': 1479, 'branch': 1480, 'trust': 1481, 'reassure': 1482, 'jeremy': 1483, 'dream': 1484, 'athlete': 1485, 'rebuild': 1486, 'vans': 1487, 'pickups': 1488, 'suvs': 1489, 'novosibirsk': 1490, 'caesars': 1491, 'advisory': 1492, 'loser': 1493, 'leak': 1494, 'mascia': 1495, 'frye': 1496, 'puretunes': 1497, 'warranty': 1498, 'meant': 1499, 'markets': 1500, 'cuba': 1501, 'ear': 1502, 'attackers': 1503, 'tested': 1504, 'founded': 1505, 'slaves': 1506, 'community': 1507, 'kernel': 1508, 'powers': 1509, 'spy': 1510, 'shagged': 1511, 'launcher': 1512, 'fleischer': 1513, 'generator': 1514, 'tuesdays': 1515, 'debate': 1516, 'flag': 1517, 'symbol': 1518, 'eur': 1519, 'motivation': 1520, 'murders': 1521, 'am': 1522, 'monte': 1523, 'teamsters': 1524, 'santangelo': 1525, 'outrage': 1526, 'massacre': 1527, 'democracy': 1528, 'activists': 1529, 'occupying': 1530, 'tiananmen': 1531, 'square': 1532, 'beijing': 1533, 'addition': 1534, 'linda': 1535, 'lingle': 1536, 'annan': 1537, 'excuse': 1538, 'suppress': 1539, 'freedoms': 1540, 'overshadowed': 1541, 'jim': 1542, 'pilots': 1543, 'parliament': 1544, 'nephew': 1545, 'saudi': 1546, 've': 1547, 'clark': 1548, 'kimerer': 1549, 'aspects': 1550, 'communication': 1551, 'lucent': 1552, 'violations': 1553, 'bribery': 1554, 'arabia': 1555, 'soldier': 1556, 'structure': 1557, 'costley': 1558, 'hiking': 1559, 'dod': 1560, 'determine': 1561, 'needs': 1562, 'parrado': 1563, 'believes': 1564, 'limbaugh': 1565, 'effectiveness': 1566, 'severity': 1567, 'subjects': 1568, 'drowned': 1569, 'aqueduct': 1570, 'unemployment': 1571, 'improved': 1572, 'slashed': 1573, 'payrolls': 1574, 'attorneys': 1575, 'conviction': 1576, 'thrown': 1577, 'homes': 1578, 'pace': 1579, 'spurred': 1580, 'mortgage': 1581, 'licensing': 1582, 'salesforce': 1583, 'cite': 1584, 'assembling': 1585, 'neck': 1586, 'baby': 1587, 'protest': 1588, 'elements': 1589, 'aimed': 1590, 'recruiters': 1591, 'finding': 1592, 'merchandising': 1593, 'hires': 1594, 'louisiana': 1595, 'party': 1596, 'eradicate': 1597, 'demographic': 1598, 'captured': 1599, 'climb': 1600, 'beer': 1601, 'cac': 1602, 'ftse': 1603, 'germany': 1604, 'dax': 1605, 'issues': 1606, 'outnumbered': 1607, 'nigeria': 1608, 'botswana': 1609, 'senegal': 1610, 'accounted': 1611, 'college': 1612, 'gather': 1613, 'gym': 1614, 'dance': 1615, 'history': 1616, 'warren': 1617, 'campbell': 1618, 'jonathan': 1619, 'mt': 1620, 'archiac': 1621, 'beckham': 1622, 'receive': 1623, 'salary': 1624, 'bonuses': 1625, 'game': 1626, 'rollover': 1627, 'crashes': 1628, 'countries': 1629, 'beginning': 1630, 'unions': 1631, 'chosen': 1632, 'jihad': 1633, 'hicks': 1634, 'texas': 1635, 'teen': 1636, 'evening': 1637, 'hong': 1638, 'nvidia': 1639, 'associated': 1640, 'problem': 1641, 'stages': 1642, 'uc': 1643, 'star': 1644, 'waters': 1645, 'locations': 1646, 'kilograms': 1647, 'testified': 1648, 'rules': 1649, 'development': 1650, 'dji': 1651, 'dipped': 1652, 'americans': 1653, 'ruled': 1654, 'undervalues': 1655, 'stockholders': 1656, 'craig': 1657, 'conway': 1658, 'bitten': 1659, 'back': 1660, 'scratched': 1661, 'leg': 1662, 'tarot': 1663, 'card': 1664, 'prolonged': 1665, 'communications': 1666, 'sniper': 1667, 'solomon': 1668, 'failed': 1669, 'strike': 1670, 'measuring': 1671, 'wheaton': 1672, 'error': 1673, 'placed': 1674, 'rr': 1675, 'dislike': 1676, 'despise': 1677, 'neal': 1678, 'sonnett': 1679, 'miami': 1680, 'enemy': 1681, 'combatants': 1682, 'yt': 1683, 'execute': 1684, 'courtroom': 1685, 'anyone': 1686, 'defied': 1687, 'order': 1688, 'cried': 1689, 'allahu': 1690, 'akbar': 1691, 'god': 1692, 'bashir': 1693, 'destruction': 1694, 'accusations': 1695, 'faced': 1696, 'blair': 1697, 'bed': 1698, 'blanket': 1699, 'kurt': 1700, 'sistrunk': 1701, 'recordings': 1702, 'halt': 1703, 'aid': 1704, 'suu': 1705, 'prove': 1706, 'delegation': 1707, 'lovsan': 1708, 'worm': 1709, 'ann': 1710, 'veneman': 1711, 'mid': 1712, 'slice': 1713, 'sky': 1714, 'seat': 1715, 'chief': 1716, 'margin': 1717, 'competition': 1718, 'license': 1719, 'advertising': 1720, 'rev': 1721, 'johnston': 1722, 'possession': 1723, 'weapon': 1724, 'qualcomm': 1725, 'enjoyed': 1726, 'hubach': 1727, 'scott': 1728, 'emerge': 1729, 'decides': 1730, 'constitution': 1731, 'phil': 1732, 'yochum': 1733, 'sendmail': 1734, 'permit': 1735, 'senate': 1736, 'freeman': 1737, 'source': 1738, 'sampson': 1739, 'medicare': 1740, 'charney': 1741, 'reiterated': 1742, 'distributes': 1743, 'patches': 1744, 'bunia': 1745, 'liberation': 1746, 'yang': 1747, 'son': 1748, 'teacher': 1749, 'zambrano': 1750, 'styled': 1751, 'governance': 1752, 'yeager': 1753, 'suspect': 1754, 'offender': 1755, 'jeffrey': 1756, 'payments': 1757, 'marched': 1758, 'withdrawal': 1759, 'mulloy': 1760, 'autopsy': 1761, 'pull': 1762, 'pig': 1763, 'trough': 1764, 'truck': 1765, 'bathtub': 1766, 'morris': 1767, 'dehydration': 1768, 'chains': 1769, 'suffocation': 1770, 'benin': 1771, 'guinea': 1772, 'sierra': 1773, 'leone': 1774, 'drowning': 1775, 'harrigan': 1776, 'corp': 1777, 'swelling': 1778, 'breathing': 1779, 'reactions': 1780, 'suffer': 1781, 'allergies': 1782, 'cap': 1783, 'wear': 1784, 'baldeo': 1785, 'mean': 1786, 'yelling': 1787, 'crying': 1788, 'occurring': 1789, 'monument': 1790, 'removal': 1791, 'block': 1792, 'issued': 1793, 'libraries': 1794, 'hall': 1795, 'summer': 1796, 'join': 1797, 'islam': 1798, 'funny': 1799, 'cide': 1800, 'become': 1801, 'winner': 1802, 'payment': 1803, 'epa': 1804, 'philippines': 1805, 'thailand': 1806, 'indonesia': 1807, 'saudis': 1808, 'injunction': 1809, 'viacom': 1810, 'infected': 1811, 'cassettes': 1812, 'vhs': 1813, 'rented': 1814, 'survive': 1815, 'creams': 1816, 'qatar': 1817, 'doha': 1818, 'marriages': 1819, 'requires': 1820, 'affidavit': 1821, 'lied': 1822, 'searched': 1823, 'divers': 1824, 'recommended': 1825, 'transportation': 1826, 'gansas': 1827, 'attempt': 1828, 'winners': 1829, 'grieving': 1830, 'doctor': 1831, 'karolinska': 1832, 'treated': 1833, 'radiation': 1834, 'birthmark': 1835, 'sriyanto': 1836, 'daughter': 1837, 'appointment': 1838, 'revenues': 1839, 'combat': 1840, 'resolve': 1841, 'earned': 1842, 'fans': 1843, 'transaction': 1844, 'expand': 1845, 'sweden': 1846, 'weeks': 1847, 'influenza': 1848, 'pneumonia': 1849, 'calculation': 1850, 'miles': 1851, 'muhammad': 1852, 'acknowledged': 1853, 'pennsylvania': 1854, 'malvo': 1855, 'chuck': 1856, 'concentrated': 1857, 'costs': 1858, 'struggles': 1859, 'delta': 1860, 'revelations': 1861, 'expenditures': 1862, 'callebaut': 1863, 'sign': 1864, 'thames': 1865, 'outlive': 1866, 'swamped': 1867, 'korea': 1868, 'places': 1869, 'wrists': 1870, 'interviewer': 1871, 'thought': 1872, 'taxpayers': 1873, 'restaurant': 1874, 'sacramento': 1875, 'chest': 1876, 'tightness': 1877, 'prevalence': 1878, 'pool': 1879, 'connection': 1880, 'surrounded': 1881, 'photographers': 1882, 'raise': 1883, 'feelings': 1884, 'difference': 1885, 'invitation': 1886, 'elbaradei': 1887, 'regret': 1888, 'vienna': 1889, 'potential': 1890, 'corporation': 1891, 'maintain': 1892, 'vivendi': 1893, 'allow': 1894, 'abortions': 1895, 'rudolph': 1896, 'eric': 1897, 'given': 1898, 'shocked': 1899, 'sask': 1900, 'slipknot': 1901, 'francs': 1902, 'glover': 1903, 'friedman': 1904, 'names': 1905, 'assessing': 1906, 'robot': 1907, 'spamming': 1908, 'resumes': 1909, 'jon': 1910, 'aberdeen': 1911, 'hamidi': 1912, 'craxi': 1913, 'daschle': 1914, 'meester': 1915, 'wash': 1916, 'arb': 1917, 'cache': 1918, 'begged': 1919, 'grande': 1920, 'rape': 1921, 'event': 1922, 'intervene': 1923, 'strangle': 1924, 'minors': 1925, 'weighed': 1926, 'berlusconi': 1927, 'pounds': 1928, 'ain': 1929, 'sodomy': 1930, 'mills': 1931, 'chf': 1932, 'alta': 1933, 'par': 1934, 'congregation': 1935, 'member': 1936, 'carrot': 1937, 'helicopter': 1938, 'owns': 1939, 'expanded': 1940, 'grocery': 1941, 'birdie': 1942, 'crash': 1943, 'knew': 1944, 'riverside': 1945, 'chapleau': 1946, 'ont': 1947, 'brasher': 1948, 'doris': 1949, 'counterpart': 1950, 'troopers': 1951, 'david': 1952, 'jubilee': 1953, 'exec': 1954, 'guandong': 1955, 'replied': 1956, 'fields': 1957, 'route': 1958, 'caswell': 1959, 'sara': 1960, 'alhart': 1961, 'connecticut': 1962, 'choose': 1963, 'agers': 1964, 'instructed': 1965, 'integrates': 1966, 'pushed': 1967, 'horseheads': 1968, 'lender': 1969, 'passenger': 1970, 'prc': 1971, 'jazmine': 1972, 'findings': 1973, 'tacked': 1974, 'basic': 1975, 'santiago': 1976, 'accident': 1977, 'mckenzie': 1978, 'versions': 1979, 'blood': 1980, 'marketing': 1981, 'airlite': 1982, 'teammate': 1983, 'copps': 1984, 'climbing': 1985, 'jumping': 1986, 'class': 1987, 'hinds': 1988, 'comcast': 1989, 'tens': 1990, 'ge': 1991, 'split': 1992, 'screamed': 1993, 'conceded': 1994, 'facility': 1995, 'fate': 1996, 'quashing': 1997, 'hopes': 1998, 'dennehy': 1999, 'relative': 2000, 'archipelago': 2001, 'madagascar': 2002, 'contenders': 2003, 'brabakow': 2004, 'dementia': 2005, 'opposed': 2006, 'remained': 2007, 'elizabeth': 2008, 'student': 2009, 'isolated': 2010, 'dal': 2011, 'ran': 2012, 'graduated': 2013, 'sir': 2014, 'richard': 2015, 'speaking': 2016, 'riverbank': 2017, 'paper': 2018, 'ochs': 2019, 'pep': 2020, 'write': 2021, 'demonstrators': 2022, 'gathered': 2023, 'cooley': 2024, 'stand': 2025, 'legislature': 2026, 'resignation': 2027, 'homicide': 2028, 'gmt': 2029, 'album': 2030, 'houston': 2031, 'ga': 2032, 'investigator': 2033, 'fill': 2034, 'publisher': 2035, 'deliver': 2036, 'joseph': 2037, 'chips': 2038, 'check': 2039, 'barrera': 2040, 'organisations': 2041, 'voters': 2042, 'expect': 2043, 'cdma': 2044, 'aide': 2045, 'burden': 2046, 'attacking': 2047, 'leader': 2048, 'grossing': 2049, 'infantry': 2050, 'russian': 2051, 'aiding': 2052, 'photojournalist': 2053, 'includes': 2054, 'juveniles': 2055, 'components': 2056, 'built': 2057, 'weather': 2058, 'failing': 2059, 'procedure': 2060, 'reaching': 2061, 'girls': 2062, 'uranium': 2063, 'assertions': 2064, 'scotland': 2065, 'processors': 2066, 'yard': 2067, 'mental': 2068, 'busing': 2069, 'special': 2070, 'heroes': 2071, 'villains': 2072, 'advised': 2073, 'atstake': 2074, 'sundwall': 2075, 'killing': 2076, 'heather': 2077, 'noted': 2078, 'foreign': 2079, 'applause': 2080, 'opened': 2081, 'gasses': 2082, 'bin': 2083, 'laden': 2084, 'brushed': 2085, 'pointed': 2086, 'accountancy': 2087, 'moscow': 2088, 'fixed': 2089, 'water': 2090, 'reignite': 2091, 'disclosed': 2092, 'analysts': 2093, 'healthcare': 2094, 'rosa': 2095, 'posting': 2096, 'resistance': 2097, 'sumitomo': 2098, 'mitsui': 2099, 'leaving': 2100, 'gammerman': 2101, 'midday': 2102, 'restarted': 2103, 'admitting': 2104, 'falsified': 2105, 'barn': 2106, 'armor': 2107, 'gate': 2108, 'jouejati': 2109, 'natsemi': 2110, 'transporting': 2111, 'suffered': 2112, 'cnn': 2113, 'viewers': 2114, 'conservatives': 2115, 'stashes': 2116, 'mexico': 2117, 'residing': 2118, 'naval': 2119, 'calls': 2120, 'advancers': 2121, 'denounce': 2122, 'moqtada': 2123, 'catch': 2124, 'neighbors': 2125, 'counties': 2126, 'nhtsa': 2127, 'dispute': 2128, 'sweep': 2129, 'box': 2130, 'ratcliffe': 2131, 'battles': 2132, 'players': 2133, 'heating': 2134, 'expects': 2135, 'fatalities': 2136, 'earn': 2137, 'locks': 2138, 'pocket': 2139, 'palmsource': 2140, 'guantanamo': 2141, 'belonged': 2142, 'inmate': 2143, 'qaeda': 2144, 'fatima': 2145, 'production': 2146, 'niro': 2147, 'conduct': 2148, 'pioneer': 2149, 'coined': 2150, 'complications': 2151, 'wed': 2152, 'flu': 2153, 'commenting': 2154, 'reach': 2155, 'crews': 2156, 'votes': 2157, 'total': 2158, 'hughes': 2159, 'masters': 2160, 'attend': 2161, 'translating': 2162, 'discredit': 2163, 'presented': 2164, 'struggled': 2165, 'harold': 2166, 'gehman': 2167, 'bruno': 2168, 'flexed': 2169, 'muscle': 2170, 'manual': 2171, 'shot': 2172, 'berkeley': 2173, 'william': 2174, 'disguised': 2175, 'highway': 2176, 'lamar': 2177, 'dignitaries': 2178, 'episcopal': 2179, 'watch': 2180, 'printed': 2181, 'hyundai': 2182, 'dangers': 2183, 'extremism': 2184, 'solution': 2185, 'oversees': 2186, 'ros': 2187, 'territory': 2188, 'magistrate': 2189, 'consumer': 2190, 'leaks': 2191, 'confidence': 2192, 'ranking': 2193, 'ferry': 2194, 'interviewed': 2195, 'portions': 2196, 'taylor': 2197, 'leave': 2198, 'lawsuits': 2199, 'shell': 2200, 'releases': 2201, 'metres': 2202, 'douglas': 2203, 'ucla': 2204, 'adventus': 2205, 'anonymity': 2206, 'concourse': 2207, 'racing': 2208, 'pose': 2209, 'generation': 2210, 'springs': 2211, 'sprint': 2212, 'approach': 2213, 'sell': 2214, 'sobig': 2215, 'objects': 2216, 'spoke': 2217, 'wholesaler': 2218, 'manhattan': 2219, 'creating': 2220, 'spike': 2221, 'tnn': 2222, 'expressed': 2223, 'extension': 2224, 'cord': 2225, 'colorado': 2226, 'argentina': 2227, 'imf': 2228, 'editor': 2229, 'cooperated': 2230, 'leaves': 2231, 'drops': 2232, 'rocket': 2233, 'change': 2234, 'paint': 2235, 'dean': 2236, 'hated': 2237, 'racicot': 2238, 'magnarelli': 2239, 'dividends': 2240, 'damaging': 2241, 'edged': 2242, 'semiconductors': 2243, 'voiced': 2244, 'criticism': 2245, 'tactic': 2246, 'scheme': 2247, 'dolphin': 2248, 'evangelism': 2249, 'agenda': 2250, 'deposited': 2251, 'vice': 2252, 'erbitux': 2253, 'whitney': 2254, 'penny': 2255, 'pinching': 2256, 'architect': 2257, 'credit': 2258, 'loy': 2259, 'supported': 2260, 'response': 2261, 'aug': 2262, 'shockey': 2263, 'countersued': 2264, 'solidarity': 2265, 'operators': 2266, 'complicates': 2267, 'seemed': 2268, 'byrd': 2269, 'landing': 2270, 'territories': 2271, 'continues': 2272, 'diving': 2273, 'entertainment': 2274, 'central': 2275, 'sliding': 2276, 'signals': 2277, 'seeking': 2278, 'grew': 2279, 'admission': 2280, 'train': 2281, 'sufferers': 2282, 'jet': 2283, 'infertility': 2284, 'cfo': 2285, 'press': 2286, 'guidelines': 2287, 'hoped': 2288, 'investigating': 2289, 'maria': 2290, 'equity': 2291, 'cleared': 2292, 'drivers': 2293, 'horse': 2294, 'extradite': 2295, 'villafranca': 2296, 'kosovo': 2297, 'ruling': 2298, 'protesters': 2299, 'promises': 2300, 'voucher': 2301, 'chanted': 2302, 'cleveland': 2303, 'upheld': 2304, 'skits': 2305, 'danced': 2306, 'countryside': 2307, 'haunted': 2308, 'aba': 2309, 'drumbeats': 2310, 'overplayed': 2311, 'intend': 2312, 'ual': 2313, 'informing': 2314, 'premier': 2315, 'wounded': 2316, 'stevens': 2317, 'shown': 2318, 'slitting': 2319, 'philanthropy': 2320, 'compared': 2321, 'financing': 2322, 'suspected': 2323, 'slashing': 2324, 'aiming': 2325, 'nokia': 2326, 'gateway': 2327, 'chapman': 2328, 'justices': 2329, 'goes': 2330, 'mccall': 2331, 'graves': 2332, 'targeted': 2333, 'need': 2334, 'rematch': 2335, 'lying': 2336, 'breaking': 2337, 'teaches': 2338, 'obstruct': 2339, 'wasted': 2340, 'equipment': 2341, 'begun': 2342, 'pollution': 2343, 'energy': 2344, 'moving': 2345, 'colonel': 2346, 'lieutenant': 2347, 'lungs': 2348, 'gain': 2349, 'sony': 2350, 'hewlett': 2351, 'packard': 2352, 'choice': 2353, 'machines': 2354, 'headquarters': 2355, 'suicide': 2356, 'citizens': 2357, 'doing': 2358, 'wrote': 2359, 'totaling': 2360, 'suffocated': 2361, 'leaders': 2362, 'heal': 2363, 'storefront': 2364, 'aung': 2365, 'nielsen': 2366, 'rock': 2367, 'threatening': 2368, 'burma': 2369, 'pools': 2370, 'floating': 2371, 'ceremonies': 2372, 'judicial': 2373, 'gulping': 2374, 'criss': 2375, 'nurse': 2376, 'infant': 2377, 'writer': 2378, 'struggle': 2379, 'succumbed': 2380, 'hypothermia': 2381, 'earth': 2382, 'touched': 2383, 'duque': 2384, 'morgenthau': 2385, 'waiting': 2386, 'relief': 2387, 'cross': 2388, 'third': 2389, 'notice': 2390, 'boyd': 2391, 'allen': 2392, 'losses': 2393, 'cities': 2394, 'age': 2395, 'halted': 2396, 'pages': 2397, 'ie': 2398, 'practice': 2399, 'uncovered': 2400, 'intended': 2401, 'situation': 2402, 'comprises': 2403, 'society': 2404, 'joked': 2405, 'proposals': 2406, 'uni': 2407, 'accepted': 2408, 'first': 2409, 'lady': 2410, 'takes': 2411, 'assist': 2412, 'makers': 2413, 'spreading': 2414, 'red': 2415, 'ate': 2416, 'owners': 2417, 'experiences': 2418, 'explorer': 2419, 'ong': 2420, 'subscription': 2421, 'cpu': 2422, 'scaling': 2423, 'ex': 2424, 'indicating': 2425, 'offices': 2426, 'complete': 2427, 'vowed': 2428, 'anticipated': 2429, 'extradited': 2430, 'authorization': 2431, 'abstain': 2432, 'guy': 2433, 'barber': 2434, 'yandarbiyev': 2435, 'forces': 2436, 'adopted': 2437, 'irs': 2438, 'posing': 2439, 'sound': 2440, 'plane': 2441, 'refuelling': 2442, 'kills': 2443, 'palace': 2444, 'pioneers': 2445, 'altria': 2446, 'reimbursement': 2447, 'aden': 2448, 'gulf': 2449, 'successor': 2450, 'sheikh': 2451, 'sharm': 2452, 'emails': 2453, 'types': 2454, 'investment': 2455, 'income': 2456, 'attachments': 2457, 'agree': 2458, 'computer': 2459, 'standoff': 2460, 'kgb': 2461, 'soviet': 2462, 'zones': 2463, 'requests': 2464, 'spots': 2465, 'affirmed': 2466, 'attempted': 2467, 'companion': 2468, 'academy': 2469, 'awards': 2470, 'chance': 2471, 'lexington': 2472, 'congressman': 2473, 'suggest': 2474, 'rejected': 2475, 'gen': 2476, 'dow': 2477, 'notified': 2478, 'losing': 2479, 'silicone': 2480, 'relatives': 2481, 'chased': 2482, 'represents': 2483, 'spotted': 2484, 'sooglossidae': 2485, 'calpers': 2486, 'dividend': 2487, 'exception': 2488, 'envoy': 2489, 'adds': 2490, 'implants': 2491, 'breast': 2492, 'decrease': 2493, 'rule': 2494, 'freed': 2495, 'lowering': 2496, 'conceive': 2497, 'fouling': 2498, 'gephardt': 2499, 'help': 2500, 'identified': 2501, 'described': 2502, 'authority': 2503, 'stayed': 2504, 'standards': 2505, 'sundwell': 2506, 'chemical': 2507, 'fitting': 2508, 'captain': 2509, 'cellphone': 2510, 'estimated': 2511, 'works': 2512, 'key': 2513, 'introduction': 2514, 'singer': 2515, 'brandy': 2516, 'producer': 2517, 'actor': 2518, 'ecusa': 2519, 'quits': 2520, 'hardware': 2521, 'smiley': 2522, 'haque': 2523, 'maryland': 2524, 'slip': 2525, 'continued': 2526, 'advent': 2527, 'pamphlet': 2528, 'immobilized': 2529, 'bolton': 2530, 'midafternoon': 2531, 'hyperthermia': 2532, 'cooperating': 2533, 'wholesalers': 2534, 'resume': 2535, 'description': 2536, 'contain': 2537, 'giving': 2538, 'headings': 2539, 'fcc': 2540, 'correctional': 2541, 'cfsb': 2542, 'pinpoint': 2543, 'missiles': 2544, 'rained': 2545, 'rockets': 2546, 'yards': 2547, 'fed': 2548, 'hidden': 2549, 'shipments': 2550, 'gamecocks': 2551, 'blanked': 2552, 'martial': 2553, 'elect': 2554, 'brown': 2555, 'mutilated': 2556, 'proceed': 2557, 'ari': 2558, 'grossed': 2559, 'prime': 2560, 'deteriorates': 2561, 'ukraine': 2562, 'wrangle': 2563, 'achievements': 2564, 'outperformed': 2565, 'weida': 2566, 'qanbar': 2567, 'settled': 2568, 'slipping': 2569, 'turned': 2570, 'flights': 2571, 'hung': 2572, 'teenagers': 2573, 'highlighting': 2574, 'enterprise': 2575, 'eae': 2576, 'mainframe': 2577, 'chatham': 2578, 'navy': 2579, 'editions': 2580, 'finds': 2581, 'terror': 2582, 'tagged': 2583, 'surpasses': 2584, 'tables': 2585, 'lock': 2586, 'sawmills': 2587, 'thursdays': 2588, 'bloomberg': 2589, 'survived': 2590, 'moment': 2591, 'reckoning': 2592, 'arrived': 2593, 'damaged': 2594, 'jump': 2595, 'hulk': 2596, 'neighbours': 2597, 'forsyth': 2598, 'shed': 2599, 'federal': 2600, 'kyran': 2601, 'consent': 2602, 'hackers': 2603, 'prefer': 2604, 'loss': 2605, 'aunt': 2606, 'agent': 2607, 'bassem': 2608, 'tries': 2609, 'youssef': 2610, 'answer': 2611, 'repatriated': 2612, 'rogers': 2613, 'atadero': 2614, 'grabbed': 2615, 'executives': 2616, 'threats': 2617, 'alter': 2618, 'escaped': 2619, 'followed': 2620, 'flies': 2621, 'teams': 2622, 'thank': 2623, 'detected': 2624, 'strom': 2625, 'picket': 2626, 'vanished': 2627, 'adm': 2628, 'analysis': 2629, 'chances': 2630, 'mosque': 2631, 'sermon': 2632, 'angeles': 2633, 'muqtada': 2634, 'snapped': 2635, 'los': 2636, 'saved': 2637, 'wondered': 2638, 'story': 2639, 'contributed': 2640, 'programs': 2641, 'increasing': 2642, 'binder': 2643, 'jaryd': 2644, 'medication': 2645, 'diffused': 2646, 'guangdong': 2647, 'numbers': 2648, 'listeners': 2649, 'kg': 2650, 'djihad': 2651, 'ligature': 2652, 'linking': 2653, 'interior': 2654, 'investigated': 2655, 'kennedy': 2656, 'warns': 2657, 'stake': 2658, 'treaty': 2659, 'marisa': 2660, 'skid': 2661, 'northeast': 2662, 'referring': 2663, 'declaring': 2664, 'bought': 2665, 'explosives': 2666, 'scandal': 2667, 'slough': 2668, 'hanging': 2669, 'rallied': 2670, 'benefit': 2671, 'xoma': 2672, 'endorsed': 2673, 'sole': 2674, 'heed': 2675, 'entity': 2676, 'mankiw': 2677, 'panther': 2678, 'navigation': 2679, 'folders': 2680, 'servers': 2681, 'idisk': 2682, 'jamaica': 2683, 'zuccarini': 2684, 'fla': 2685, 'longhorn': 2686, 'defined': 2687, 'currency': 2688, 'defeat': 2689, 'traveled': 2690, 'decliners': 2691, 'moved': 2692, 'girl': 2693, 'designed': 2694, 'pot': 2695, 'falsifying': 2696, 'aker': 2697, 'restart': 2698, 'advanced': 2699, 'infants': 2700, 'protein': 2701, 'palmone': 2702, 'southwest': 2703, 'reanalyzed': 2704, 'resisted': 2705, 'hoping': 2706, 'nights': 2707, 'exceeded': 2708, 'surrendered': 2709, 'roberson': 2710, 'shows': 2711, 'slump': 2712, 'shamika': 2713, 'mitsubishi': 2714, 'woumnm': 2715, 'dorchester': 2716, 'oklahoma': 2717, 'flames': 2718, 'fan': 2719, 'jpy': 2720, 'series': 2721, 'fallen': 2722, 'integrated': 2723, 'rational': 2724, 'delegates': 2725, 'visualbasic': 2726, 'crosby': 2727, 'pushing': 2728, 'opposition': 2729, 'ellison': 2730, 'contentions': 2731, 'subheading': 2732, 'parable': 2733, 'companys': 2734, 'review': 2735, 'sentencing': 2736, 'admissions': 2737, 'undergraduates': 2738, 'processor': 2739, 'unveiled': 2740, 'experience': 2741, 'calif': 2742, 'alleging': 2743, 'offenders': 2744, 'gases': 2745, 'armour': 2746, 'entry': 2747, 'status': 2748, 'electricity': 2749, 'sides': 2750, 'meetings': 2751, 'managed': 2752, 'invividuals': 2753, 'tunick': 2754, 'sinking': 2755, 'space': 2756, 'km': 2757, 'primaries': 2758, 'shanley': 2759, 'pleaded': 2760, 'indexes': 2761, 'suspended': 2762, 'stationed': 2763, 'begin': 2764, 'secretary': 2765, 'ohio': 2766, 'choices': 2767, 'ul': 2768, 'erny': 2769, 'range': 2770, 'armstrong': 2771, 'battled': 2772, 'pete': 2773, 'slover': 2774, 'gromer': 2775, 'jeffers': 2776, 'americas': 2777, 'orleans': 2778, 'teller': 2779, 'victory': 2780, 'pick': 2781, 'bout': 2782, 'emerged': 2783, 'lt': 2784, 'col': 2785, 'old': 2786, 'trouble': 2787, 'handling': 2788, 'victor': 2789, 'dunedin': 2790, 'niels': 2791, 'healing': 2792, 'allegation': 2793, 'chicago': 2794, 'flagged': 2795, 'tenet': 2796, 'nations': 2797, 'scrutiny': 2798, 'milwaukee': 2799, 'barbakow': 2800, 'trigger': 2801, 'kuo': 2802, 'contender': 2803, 'master': 2804, 'courthouse': 2805, 'surface': 2806, 'servings': 2807, 'intensify': 2808, 'entrepreneur': 2809, 'believing': 2810, 'youth': 2811, 'lie': 2812, 'avoid': 2813, 'manipulated': 2814, 'black': 2815, 'action': 2816, 'toa': 2817, 'lists': 2818, 'accepts': 2819, 'marking': 2820, 'panel': 2821, 'arts': 2822, 'slid': 2823, 'football': 2824, 'words': 2825, 'breaks': 2826, 'quarantine': 2827, 'broadcast': 2828, 'ceremony': 2829, 'desktop': 2830, 'windows': 2831, 'protecting': 2832, 'briefing': 2833, 'ritual': 2834, 'carrier': 2835, 'act': 2836, 'accusing': 2837, 'claiming': 2838, 'priest': 2839, 'swept': 2840, 'conflict': 2841, 'recovered': 2842, 'peachtree': 2843, 'dispatched': 2844, 'kathy': 2845, 'gregg': 2846, 'campus': 2847, 'brandeis': 2848, 'azn': 2849, 'drugmaker': 2850, 'earning': 2851, 'traffic': 2852, 'tour': 2853, 'cashing': 2854, 'reads': 2855, 'chipset': 2856, 'continuation': 2857, 'softening': 2858, 'warrior': 2859, 'image': 2860, 'lottery': 2861, 'blackout': 2862, 'vista': 2863, 'dearth': 2864, 'davis': 2865, 'ones': 2866, 'traps': 2867, 'lived': 2868, 'pray': 2869, 'took': 2870, 'capabilities': 2871, 'organization': 2872, 'th': 2873, 'fines': 2874, 'avenue': 2875, 'heights': 2876, 'connor': 2877, 'scalia': 2878, 'inched': 2879, 'scoring': 2880, 'eased': 2881, 'burke': 2882, 'clinton': 2883, 'writing': 2884, 'bodies': 2885, 'accept': 2886, 'holding': 2887, 'utilizing': 2888, 'tradition': 2889, 'iaea': 2890, 'kazemi': 2891, 'usage': 2892, 'bids': 2893, 'professor': 2894, 'cooperation': 2895, 'boilers': 2896, 'smog': 2897, 'resellers': 2898}\n"
     ]
    },
    {
     "data": {
      "text/plain": "[('altria', 0.4458131492137909),\n ('masters', 0.42778995633125305),\n ('groups', 0.42183011770248413),\n ('says', 0.4047095477581024),\n ('platinum', 0.4028638005256653),\n ('sentence', 0.40011686086654663),\n ('helicopter', 0.38941821455955505),\n ('hockey', 0.3876991271972656),\n ('deputies', 0.38709747791290283),\n ('suv', 0.3853173851966858)]"
     },
     "execution_count": 162,
     "metadata": {},
     "output_type": "execute_result"
    }
   ],
   "source": [
    "print(model)\n",
    "print(model.wv.key_to_index)\n",
    "\n",
    "model.wv.most_similar('president')\n",
    "\n",
    "# for index, word in enumerate(model.wv.index_to_key):\n",
    "#     if index == 120:\n",
    "#         break\n",
    "#     print(f\"word #{index}/{len(model.wv.index_to_key)} is {word}\")"
   ],
   "metadata": {
    "collapsed": false
   }
  },
  {
   "cell_type": "code",
   "execution_count": 462,
   "outputs": [
    {
     "name": "stdout",
     "output_type": "stream",
     "text": [
      "His : poss\n",
      "wife : nsubj\n",
      "said : ROOT\n",
      "he : nsubj\n",
      "was : ccomp\n",
      "\" : punct\n",
      "100 : nummod\n",
      "percent : npadvmod\n",
      "behind : prep\n",
      "George : compound\n",
      "Bush : pobj\n",
      "\" : punct\n",
      "and : cc\n",
      "looked : conj\n",
      "forward : advmod\n",
      "to : prep\n",
      "using : pcomp\n",
      "his : poss\n",
      "years : dobj\n",
      "of : prep\n",
      "training : pobj\n",
      "in : prep\n",
      "the : det\n",
      "war : pobj\n",
      ". : punct\n",
      "[wife, said, he, was, George, Bush, using, years, training, war]\n"
     ]
    }
   ],
   "source": [
    "# Testing the spacy library to extract spo\n",
    "# This is only test code and should not be uncommented.\n",
    "\n",
    "# import spacy\n",
    "#\n",
    "# def get_spacy_subject_phrase(doc):\n",
    "#     for token in doc:\n",
    "#         if (\"subj\" in token.dep_):\n",
    "#             return token\n",
    "#             # subtree = list(token.subtree)\n",
    "#             # start = subtree[0].i\n",
    "#             # end = subtree[-1].i + 1\n",
    "#             # return doc[start:end]\n",
    "#\n",
    "# def get_spacy_predicate_phrase(doc):\n",
    "#     for token in doc:\n",
    "#         if (\"ROOT\" in token.dep_):\n",
    "#             subtree = list(token.subtree)\n",
    "#             start = subtree[0].i\n",
    "#             end = subtree[-1].i + 1\n",
    "#             return token\n",
    "#             # return doc[start:end]\n",
    "#\n",
    "# def get_spacy_object_phrase(doc):\n",
    "#     for token in doc:\n",
    "#         if (\"dobj\" in token.dep_):\n",
    "#             return token\n",
    "#             # subtree = list(token.subtree)\n",
    "#             # start = subtree[0].i\n",
    "#             # end = subtree[-1].i + 1\n",
    "#             # return doc[start:end]\n",
    "#\n",
    "# def spacy_find_spo(str):\n",
    "#     nlp = spacy.load('en_core_web_sm')\n",
    "#     doc = nlp(str)\n",
    "#     sentence = next(doc.sents)\n",
    "#     previous = None\n",
    "#     new_sentence = []\n",
    "#     for word in sentence:\n",
    "#         print(f\"{word} : {word.dep_}\")\n",
    "#         add_word = None\n",
    "#         if \"subj\" in word.dep_:\n",
    "#             add_word = word\n",
    "#         if \"ROOT\" in word.dep_:\n",
    "#             add_word = word\n",
    "#         if \"pobj\" in word.dep_:\n",
    "#             add_word = word\n",
    "#         if \"dobj\" in word.dep_:\n",
    "#             add_word = word\n",
    "#         # if \"prep\" in word.dep_:\n",
    "#         #     add_word = word\n",
    "#         if \"ccomp\" in word.dep_:\n",
    "#             add_word = word\n",
    "#         if \"pcomp\" in word.dep_:\n",
    "#             add_word = word\n",
    "#         if add_word is not None:\n",
    "#             if previous is not None and \"compound\" in previous.dep_:\n",
    "#                 new_sentence.append(previous)\n",
    "#             new_sentence.append(add_word)\n",
    "#         previous = word\n",
    "#     return new_sentence\n",
    "#\n",
    "# def find_spacy_subject(str):\n",
    "#     nlp = spacy.load('en_core_web_sm')\n",
    "#     doc = nlp(str)\n",
    "#     for token in doc:\n",
    "#         # Check if the token is a verb and has a subject\n",
    "#         if token.dep_ == \"ROOT\":\n",
    "#             for child in token.children:\n",
    "#                 if child.dep_ == \"nsubj\":\n",
    "#                     #subject = child.text\n",
    "#                     predicate = ' '.join(child.text for child in token.children)\n",
    "#                 break\n",
    "#     return predicate\n",
    "#\n",
    "# def find_spacy_object(str):\n",
    "#     nlp = spacy.load('en_core_web_sm')\n",
    "#     doc = nlp(str)\n",
    "#     for token in doc:\n",
    "#         # Check if the token is a verb and has a subject\n",
    "#         if token.dep_ == \"ROOT\":\n",
    "#             for child in token.children:\n",
    "#                 if child.dep_ == \"nsubj\":\n",
    "#                     obj = child.text\n",
    "#                 break\n",
    "#     return obj\n",
    "#\n",
    "# #print(spacy_find_spo(\"Syrian forces launch new attack\"))\n",
    "# #print(spacy_find_spo(\"Shares of Genentech, a much larger company with several products on the market, rose more than 2 percent\"))\n",
    "# #print(spacy_find_spo(\"\"\"Gyorgy Heizler, head of the local disaster unit, said the coach was carrying 38 passengers.\"\"\"))\n",
    "# #print(spacy_find_spo(\"\"\"Referring to him as only \"the witness\", Amrozi accused his brother of deliberately distorting his evidence.\"\"\"))\n",
    "# #print(spacy_find_spo(\"\"\"Magnarelli said Racicot hated the Iraqi regime and looked forward to using his long years of training in the war.\"\"\"))\n",
    "# print(spacy_find_spo(\"\"\"His wife said he was \"100 percent behind George Bush\" and looked forward to using his years of training in the war.\"\"\"))"
   ],
   "metadata": {
    "collapsed": false
   }
  },
  {
   "cell_type": "markdown",
   "source": [
    "## Convolution Layers\n",
    "\n",
    "The model used 2 pooling layers I think"
   ],
   "metadata": {
    "collapsed": false
   }
  },
  {
   "cell_type": "code",
   "execution_count": null,
   "outputs": [],
   "source": [
    "#Code here\n",
    "pass"
   ],
   "metadata": {
    "collapsed": false
   }
  },
  {
   "cell_type": "markdown",
   "source": [
    "## Pooling Layers\n",
    "\n",
    "The original paper used a dynamic k-max pooling method in their model. The _k_ value is determine by equation (1).\n",
    "\n",
    "\\begin{equation*} k=\\max \\left({k_{top},\\left \\lceil{ \\frac {L-l}{L} \\left |{ s }\\right | }\\right \\rceil }\\right)\\end{equation*}\n",
    "\n",
    "__Implementation:__"
   ],
   "metadata": {
    "collapsed": false
   }
  },
  {
   "cell_type": "code",
   "execution_count": 31,
   "outputs": [],
   "source": [
    "class DynamicKMaxPool(nn.Module):\n",
    "    def __init__(self, k_top, L):\n",
    "        super().__init__()\n",
    "        # \"L is the total  number  of  convolutional  layers\n",
    "        # in  the  network;\n",
    "        # ktop is the fixed pooling parameter for the\n",
    "        # topmost  convolutional  layer\"\n",
    "        self.k_top = k_top\n",
    "        self.L = L\n",
    "\n",
    "    def forward(self, X, l):\n",
    "        s = X.size(dim=2)\n",
    "        dyn_k = ((self.L - l) / self.L) * s\n",
    "        k_max = max(self.k_top, np.ceil(dyn_k))\n",
    "        print(self.k_top, np.ceil(dyn_k))\n",
    "        out = F.adaptive_avg_pool1d(X, k_max)\n",
    "        return out"
   ],
   "metadata": {
    "collapsed": false,
    "ExecuteTime": {
     "start_time": "2023-04-03T09:43:26.318981Z",
     "end_time": "2023-04-03T09:43:26.535196Z"
    }
   }
  },
  {
   "cell_type": "markdown",
   "source": [
    "__Testing:__"
   ],
   "metadata": {
    "collapsed": false
   }
  },
  {
   "cell_type": "code",
   "execution_count": 30,
   "outputs": [
    {
     "name": "stdout",
     "output_type": "stream",
     "text": [
      "tensor([[[0.4414, 0.1711, 0.1116],\n",
      "         [0.3068, 0.9092, 0.3535],\n",
      "         [0.2447, 0.4120, 0.1908]],\n",
      "\n",
      "        [[0.9152, 0.8266, 0.0474],\n",
      "         [0.0749, 0.3115, 0.2892],\n",
      "         [0.0097, 0.6011, 0.7238]],\n",
      "\n",
      "        [[0.9302, 0.6493, 0.8912],\n",
      "         [0.0756, 0.8426, 0.9217],\n",
      "         [0.9185, 0.0433, 0.9925]]])\n",
      "3 0.0\n",
      "tensor([[[0.4414, 0.1711, 0.1116],\n",
      "         [0.3068, 0.9092, 0.3535],\n",
      "         [0.2447, 0.4120, 0.1908]],\n",
      "\n",
      "        [[0.9152, 0.8266, 0.0474],\n",
      "         [0.0749, 0.3115, 0.2892],\n",
      "         [0.0097, 0.6011, 0.7238]],\n",
      "\n",
      "        [[0.9302, 0.6493, 0.8912],\n",
      "         [0.0756, 0.8426, 0.9217],\n",
      "         [0.9185, 0.0433, 0.9925]]])\n"
     ]
    }
   ],
   "source": [
    "X = torch.rand((3,3,3))\n",
    "print(X)\n",
    "dynMaxPool = DynamicKMaxPool(3,1)\n",
    "print(dynMaxPool(X,1))"
   ],
   "metadata": {
    "collapsed": false,
    "ExecuteTime": {
     "start_time": "2023-04-03T09:40:43.385643Z",
     "end_time": "2023-04-03T09:40:43.484497Z"
    }
   }
  },
  {
   "cell_type": "code",
   "execution_count": null,
   "outputs": [],
   "source": [],
   "metadata": {
    "collapsed": false
   }
  }
 ],
 "metadata": {
  "kernelspec": {
   "display_name": "Python 3",
   "language": "python",
   "name": "python3"
  },
  "language_info": {
   "codemirror_mode": {
    "name": "ipython",
    "version": 2
   },
   "file_extension": ".py",
   "mimetype": "text/x-python",
   "name": "python",
   "nbconvert_exporter": "python",
   "pygments_lexer": "ipython2",
   "version": "2.7.6"
  }
 },
 "nbformat": 4,
 "nbformat_minor": 0
}
