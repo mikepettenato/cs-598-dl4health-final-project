{
 "cells": [
  {
   "cell_type": "code",
   "execution_count": 154,
   "metadata": {
    "collapsed": true
   },
   "outputs": [
    {
     "name": "stderr",
     "output_type": "stream",
     "text": [
      "2023-03-30 09:47:36 INFO: Loading these models for language: en (English):\n",
      "===========================\n",
      "| Processor    | Package  |\n",
      "---------------------------\n",
      "| tokenize     | combined |\n",
      "| pos          | combined |\n",
      "| constituency | wsj      |\n",
      "===========================\n",
      "\n",
      "2023-03-30 09:47:36 INFO: Using device: cpu\n",
      "2023-03-30 09:47:36 INFO: Loading: tokenize\n",
      "2023-03-30 09:47:36 INFO: Loading: pos\n",
      "2023-03-30 09:47:37 INFO: Loading: constituency\n",
      "2023-03-30 09:47:37 INFO: Done loading processors!\n"
     ]
    }
   ],
   "source": [
    "import stanza\n",
    "\n",
    "# set 'download_method = None' to not download the resources over and over\n",
    "nlp = stanza.Pipeline(lang='en', processors='tokenize,pos,constituency', download_method=None)\n"
   ]
  },
  {
   "cell_type": "code",
   "execution_count": 254,
   "outputs": [
    {
     "name": "stdout",
     "output_type": "stream",
     "text": [
      "(ROOT (S (NP (JJ Syrian) (NNS forces)) (VP (VBP launch) (NP (JJ new) (NNS attacks)))))\n"
     ]
    }
   ],
   "source": [
    "doc = nlp('Syrian forces launch new attacks')\n",
    "for sentence in doc.sentences:\n",
    "    print(sentence.constituency)"
   ],
   "metadata": {
    "collapsed": false
   }
  },
  {
   "cell_type": "code",
   "execution_count": 255,
   "outputs": [],
   "source": [
    "tree = doc.sentences[0].constituency"
   ],
   "metadata": {
    "collapsed": false
   }
  },
  {
   "cell_type": "code",
   "execution_count": 285,
   "outputs": [],
   "source": [
    "def equals(a, b):\n",
    "    return a == b\n",
    "\n",
    "def starts_with(a, b):\n",
    "    return a.startswith(b)\n",
    "\n",
    "def is_in(a, b):\n",
    "    return a in b\n",
    "\n",
    "def find_noun_phrase_verb_phrase(tree):\n",
    "    noun_phrase, verb_phrase = None, None\n",
    "    for child in tree.children:\n",
    "        if child.label == 'NP':\n",
    "            noun_phrase = child\n",
    "        if child.label == 'VP':\n",
    "            verb_phrase = child\n",
    "    if noun_phrase is not None and verb_phrase is not None:\n",
    "        return noun_phrase, verb_phrase\n",
    "    for child in tree.children:\n",
    "        return find_noun_phrase_verb_phrase(child)\n",
    "\n",
    "\n",
    "def find_pos(tree, comparator, labels, find_first=False):\n",
    "    # if tree.label in labels:\n",
    "    #print(f\"find_pos: {tree} : {tree.label} : {labels} : {comparator(tree.label, labels)}\")\n",
    "    if comparator(tree.label, labels):\n",
    "        return tree\n",
    "    pos = None\n",
    "    if not tree.is_leaf():\n",
    "        for child in tree.children:\n",
    "            candidate = find_pos(child, comparator, labels, find_first)\n",
    "            if candidate is not None:\n",
    "                pos = candidate\n",
    "                if find_first:\n",
    "                    return pos\n",
    "            #if pos is not None:\n",
    "            #    return pos\n",
    "\n",
    "    return pos\n",
    "\n",
    "def trunk_construction(tree):\n",
    "    subject, predicate, object = [], [], []\n",
    "\n",
    "    noun_phrase = find_pos(tree, equals, 'NP', True)\n",
    "    verb_phrase = find_pos(tree, equals, 'VP', True)\n",
    "    subject = find_pos(noun_phrase, starts_with, 'NN', find_first=True)\n",
    "    predicate = find_pos(verb_phrase, starts_with, 'VB')\n",
    "    for child in verb_phrase.children:\n",
    "        np_vp = find_pos(child, is_in, ['NP', 'VP'])\n",
    "        if np_vp is not None:\n",
    "            object = find_pos(np_vp, starts_with, 'NN')\n",
    "\n",
    "        object = find_pos(child, starts_with, 'NN')\n",
    "\n",
    "    return subject, predicate, object\n"
   ],
   "metadata": {
    "collapsed": false
   }
  },
  {
   "cell_type": "code",
   "execution_count": 286,
   "outputs": [],
   "source": [
    "def test_parser(str, subject_str, predicate_str, object_str):\n",
    "\n",
    "    doc = nlp(str)\n",
    "    tree = doc.sentences[0].constituency\n",
    "\n",
    "    subject, predicate, object =  trunk_construction(tree)\n",
    "\n",
    "    print(f\"initial sentence: {str}\")\n",
    "    print(f\"parse tree: {tree}\")\n",
    "    print(f\"subject: {subject}\")\n",
    "    print(f\"predicate: {predicate}\")\n",
    "    print(f\"object: {object}\")\n",
    "    print(\"---------\")\n",
    "\n",
    "    assert subject.label.startswith('NN')\n",
    "    assert subject.children[0].label == subject_str\n",
    "    assert predicate.label.startswith('VB')\n",
    "    assert predicate.children[0].label == predicate_str\n",
    "    assert object.label.startswith('NN')\n",
    "    assert object.children[0].label == object_str\n"
   ],
   "metadata": {
    "collapsed": false
   }
  },
  {
   "cell_type": "code",
   "execution_count": 287,
   "outputs": [
    {
     "name": "stdout",
     "output_type": "stream",
     "text": [
      "initial sentence: Syrian forces launch new attacks\n",
      "parse tree: (ROOT (S (NP (JJ Syrian) (NNS forces)) (VP (VBP launch) (NP (JJ new) (NNS attacks)))))\n",
      "subject: (NNS forces)\n",
      "predicate: (VBP launch)\n",
      "object: (NNS attacks)\n",
      "---------\n",
      "initial sentence: the flat tire was replaced by the driver\n",
      "parse tree: (ROOT (S (NP (DT the) (JJ flat) (NN tire)) (VP (VBD was) (VP (VBN replaced) (PP (IN by) (NP (DT the) (NN driver)))))))\n",
      "subject: (NN tire)\n",
      "predicate: (VBN replaced)\n",
      "object: (NN driver)\n",
      "---------\n",
      "initial sentence: Amrozi accused his brother, whom he called \"the witness\", of deliberately distorting his evidence.\n",
      "parse tree: (ROOT (S (NP (NNP Amrozi)) (VP (VBD accused) (NP (NP (NP (PRP$ his) (NN brother)) (, ,) (SBAR (WHNP (WP whom)) (S (NP (PRP he)) (VP (VBD called) (S (NP (`` \") (NP (DT the) (NN witness))))))) ('' \")) (, ,) (PP (IN of) (S (ADVP (RB deliberately)) (VP (VBG distorting) (NP (PRP$ his) (NN evidence))))))) (. .)))\n",
      "subject: (NNP Amrozi)\n",
      "predicate: (VBG distorting)\n",
      "object: (NN evidence)\n",
      "---------\n",
      "initial sentence: Shares of Genentech, a much larger company with several products on the market, rose more than 2 percent\n",
      "parse tree: (ROOT (S (NP (NP (NNS Shares)) (PP (IN of) (NP (NP (NNP Genentech)) (, ,) (NP (NP (DT a) (ADJP (RB much) (JJR larger)) (NN company)) (PP (IN with) (NP (NP (JJ several) (NNS products)) (PP (IN on) (NP (DT the) (NN market)))))) (, ,)))) (VP (VBD rose) (NP (QP (JJR more) (IN than) (CD 2)) (NN percent)))))\n",
      "subject: (NNS Shares)\n",
      "predicate: (VBD rose)\n",
      "object: (NN percent)\n",
      "---------\n",
      "initial sentence: Gyorgy Heizler, head of the local disaster unit, said the coach was carrying 38 passengers.\n",
      "parse tree: (ROOT (S (NP (NP (NNP Gyorgy) (NNP Heizler)) (, ,) (NP (NP (NN head)) (PP (IN of) (NP (DT the) (JJ local) (NN disaster) (NN unit)))) (, ,)) (VP (VBD said) (SBAR (S (NP (DT the) (NN coach)) (VP (VBD was) (VP (VBG carrying) (NP (CD 38) (NNS passengers))))))) (. .)))\n",
      "subject: (NNP Gyorgy)\n",
      "predicate: (VBG carrying)\n",
      "object: (NNS passengers)\n",
      "---------\n"
     ]
    }
   ],
   "source": [
    "test_parser('Syrian forces launch new attacks', 'forces', 'launch', 'attacks')\n",
    "test_parser(\"\"\"the flat tire was replaced by the driver\"\"\",\n",
    "             \"tire\", \"replaced\", \"driver\")\n",
    "test_parser(\"\"\"Amrozi accused his brother, whom he called \"the witness\", of deliberately distorting his evidence.\"\"\",\n",
    "            'Amrozi', 'distorting', 'evidence')\n",
    "test_parser(\"\"\"Shares of Genentech, a much larger company with several products on the market, rose more than 2 percent\"\"\",\n",
    "            'Shares', 'rose', 'percent')\n",
    "test_parser(\"\"\"Gyorgy Heizler, head of the local disaster unit, said the coach was carrying 38 passengers.\"\"\",\n",
    "             'Gyorgy', 'carrying', 'passengers')\n",
    "\n"
   ],
   "metadata": {
    "collapsed": false
   }
  },
  {
   "cell_type": "code",
   "execution_count": null,
   "outputs": [],
   "source": [],
   "metadata": {
    "collapsed": false
   }
  }
 ],
 "metadata": {
  "kernelspec": {
   "display_name": "Python 3",
   "language": "python",
   "name": "python3"
  },
  "language_info": {
   "codemirror_mode": {
    "name": "ipython",
    "version": 2
   },
   "file_extension": ".py",
   "mimetype": "text/x-python",
   "name": "python",
   "nbconvert_exporter": "python",
   "pygments_lexer": "ipython2",
   "version": "2.7.6"
  }
 },
 "nbformat": 4,
 "nbformat_minor": 0
}
