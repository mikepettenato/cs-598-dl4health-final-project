{
 "cells": [
  {
   "cell_type": "code",
   "execution_count": 154,
   "metadata": {
    "collapsed": true
   },
   "outputs": [
    {
     "name": "stderr",
     "output_type": "stream",
     "text": [
      "2023-03-30 09:47:36 INFO: Loading these models for language: en (English):\n",
      "===========================\n",
      "| Processor    | Package  |\n",
      "---------------------------\n",
      "| tokenize     | combined |\n",
      "| pos          | combined |\n",
      "| constituency | wsj      |\n",
      "===========================\n",
      "\n",
      "2023-03-30 09:47:36 INFO: Using device: cpu\n",
      "2023-03-30 09:47:36 INFO: Loading: tokenize\n",
      "2023-03-30 09:47:36 INFO: Loading: pos\n",
      "2023-03-30 09:47:37 INFO: Loading: constituency\n",
      "2023-03-30 09:47:37 INFO: Done loading processors!\n"
     ]
    }
   ],
   "source": [
    "import stanza\n",
    "\n",
    "# set 'download_method = None' to not download the resources over and over\n",
    "nlp = stanza.Pipeline(lang='en', processors='tokenize,pos,constituency', download_method=None)\n"
   ]
  },
  {
   "cell_type": "code",
   "execution_count": 155,
   "outputs": [
    {
     "name": "stdout",
     "output_type": "stream",
     "text": [
      "(ROOT (S (NP (JJ Syrian) (NNS forces)) (VP (VBP launch) (NP (JJ new) (NNS attacks)))))\n"
     ]
    }
   ],
   "source": [
    "doc = nlp('Syrian forces launch new attacks')\n",
    "for sentence in doc.sentences:\n",
    "    print(sentence.constituency)"
   ],
   "metadata": {
    "collapsed": false
   }
  },
  {
   "cell_type": "code",
   "execution_count": 156,
   "outputs": [],
   "source": [
    "tree = doc.sentences[0].constituency"
   ],
   "metadata": {
    "collapsed": false
   }
  },
  {
   "cell_type": "code",
   "execution_count": 157,
   "outputs": [],
   "source": [
    "def equals(a, b):\n",
    "    return a == b\n",
    "\n",
    "def starts_with(a, b):\n",
    "    return a.startswith(b)\n",
    "\n",
    "def is_in(a, b):\n",
    "    return a in b\n",
    "\n",
    "def find_pos(tree, comparator, labels):\n",
    "    # if tree.label in labels:\n",
    "    #print(f\"find_pos: {tree} : {tree.label} : {labels} : {comparator(tree.label, labels)}\")\n",
    "    if comparator(tree.label, labels):\n",
    "        return tree\n",
    "    if not tree.is_leaf():\n",
    "        for child in tree.children:\n",
    "            pos = find_pos(child, comparator, labels)\n",
    "            if pos is not None:\n",
    "                return pos\n",
    "\n",
    "    return None\n",
    "\n",
    "def trunk_construction(tree):\n",
    "    subject, predicate, object = [], [], []\n",
    "\n",
    "    noun_phrase = find_pos(tree, is_in, [\"NP\"])\n",
    "    verb_phrase = find_pos(tree, is_in, [\"VP\"])\n",
    "    subject = find_pos(noun_phrase, starts_with, 'NN')\n",
    "    predicate = find_pos(verb_phrase, starts_with, 'VB')\n",
    "    for child in verb_phrase.children:\n",
    "        np_vp = find_pos(child, is_in, ['NP', 'VP'])\n",
    "        if np_vp is not None:\n",
    "            object = find_pos(np_vp, starts_with, 'NN')\n",
    "\n",
    "        object = find_pos(child, starts_with, 'NN')\n",
    "\n",
    "    return subject, predicate, object\n"
   ],
   "metadata": {
    "collapsed": false
   }
  },
  {
   "cell_type": "code",
   "execution_count": 159,
   "outputs": [
    {
     "name": "stdout",
     "output_type": "stream",
     "text": [
      "subject: (NNS forces)\n",
      "predicate: (VBP launch)\n",
      "object: (NNS attacks)\n"
     ]
    }
   ],
   "source": [
    "def test_stanza_parser():\n",
    "\n",
    "    doc = nlp('Syrian forces launch new attacks')\n",
    "    tree = doc.sentences[0].constituency\n",
    "\n",
    "    subject, predicate, object =  trunk_construction(tree)\n",
    "\n",
    "    print(f\"subject: {subject}\")\n",
    "    print(f\"predicate: {predicate}\")\n",
    "    print(f\"object: {object}\")\n",
    "\n",
    "    assert subject.label == 'NNS'\n",
    "    assert subject.children[0].label == 'forces'\n",
    "    assert predicate.label == 'VBP'\n",
    "    assert predicate.children[0].label == 'launch'\n",
    "    assert object.label == 'NNS'\n",
    "    assert object.children[0].label == 'attacks'\n",
    "\n",
    "test_stanza_parser()"
   ],
   "metadata": {
    "collapsed": false
   }
  },
  {
   "cell_type": "code",
   "execution_count": 139,
   "outputs": [
    {
     "data": {
      "text/plain": "'forces'"
     },
     "execution_count": 139,
     "metadata": {},
     "output_type": "execute_result"
    }
   ],
   "source": [],
   "metadata": {
    "collapsed": false
   }
  }
 ],
 "metadata": {
  "kernelspec": {
   "display_name": "Python 3",
   "language": "python",
   "name": "python3"
  },
  "language_info": {
   "codemirror_mode": {
    "name": "ipython",
    "version": 2
   },
   "file_extension": ".py",
   "mimetype": "text/x-python",
   "name": "python",
   "nbconvert_exporter": "python",
   "pygments_lexer": "ipython2",
   "version": "2.7.6"
  }
 },
 "nbformat": 4,
 "nbformat_minor": 0
}
