{
 "cells": [
  {
   "cell_type": "code",
   "execution_count": 242,
   "outputs": [],
   "source": [
    "import datetime\n",
    "import gensim\n",
    "import numpy as np\n",
    "import os.path\n",
    "import pandas as pd\n",
    "import torch, stanza\n",
    "from torch import nn\n",
    "import torch.nn.functional as F\n",
    "import threading\n"
   ],
   "metadata": {
    "collapsed": false,
    "ExecuteTime": {
     "start_time": "2023-04-08T00:35:01.824854Z",
     "end_time": "2023-04-08T00:35:02.331708Z"
    }
   }
  },
  {
   "cell_type": "markdown",
   "source": [
    "# Data Processing\n",
    "\n",
    "This section can have stuff related to data prep.\n",
    "\n",
    "\n",
    "Should the MSPC Dataset be a part of this section? - Adam"
   ],
   "metadata": {
    "collapsed": false
   }
  },
  {
   "cell_type": "code",
   "execution_count": 243,
   "outputs": [],
   "source": [
    "def read_file(file_name):\n",
    "    # Note: Unable to use pd.read_csv... the function complained about an issue with the formatting of the tsv file\n",
    "    # train = pd.read_csv('data/msr_paraphrase_train.txt', sep='\\t', encoding='latin1')\n",
    "    # train\n",
    "\n",
    "    # opting to read file in and split columns manually to create a pandas dataframe\n",
    "    list = []\n",
    "    with open(file_name, encoding=\"utf8\") as f:\n",
    "        lines = f.readlines()\n",
    "        for i, line in enumerate(lines):\n",
    "            fields = line.split('\\t')\n",
    "            list.append(fields)\n",
    "\n",
    "    df = pd.DataFrame(list[1:], columns=['Quality', 'ID1', 'ID2', 'String1', 'String2'])\n",
    "    return df\n"
   ],
   "metadata": {
    "collapsed": false,
    "ExecuteTime": {
     "start_time": "2023-04-08T00:35:01.868489Z",
     "end_time": "2023-04-08T00:35:02.351344Z"
    }
   }
  },
  {
   "cell_type": "markdown",
   "source": [
    "# Model Definition\n",
    "\n",
    "![Model Overview](./images/overview.png)"
   ],
   "metadata": {
    "collapsed": false
   }
  },
  {
   "cell_type": "markdown",
   "source": [
    "\n",
    "## Input Layer\n",
    "\n",
    "In the input layer is made up of a Stanford Parser to provide a syntactic tree so that the model can extract significant words (mainly, subject, predicate, object) in the input corpus. Word2Vec is then used to map the words into vectors"
   ],
   "metadata": {
    "collapsed": false
   }
  },
  {
   "cell_type": "code",
   "execution_count": 358,
   "outputs": [
    {
     "name": "stderr",
     "output_type": "stream",
     "text": [
      "2023-04-18 19:54:42 INFO: Loading these models for language: en (English):\n",
      "===========================\n",
      "| Processor    | Package  |\n",
      "---------------------------\n",
      "| tokenize     | combined |\n",
      "| pos          | combined |\n",
      "| constituency | wsj      |\n",
      "===========================\n",
      "\n",
      "2023-04-18 19:54:42 INFO: Using device: cpu\n",
      "2023-04-18 19:54:42 INFO: Loading: tokenize\n",
      "2023-04-18 19:54:42 INFO: Loading: pos\n",
      "2023-04-18 19:54:43 INFO: Loading: constituency\n",
      "2023-04-18 19:54:43 INFO: Done loading processors!\n"
     ]
    }
   ],
   "source": [
    "# set 'download_method = None' to not download the resources over and over\n",
    "nlp = stanza.Pipeline(lang='en', processors='tokenize,pos,constituency', download_method=None, use_gpu=False)\n",
    "\n",
    "def trunk_construction(str, parent_label = None):\n",
    "    doc = nlp(str)\n",
    "    tree = doc.sentences[0].constituency\n",
    "\n",
    "    words = construct_sentence(tree, parent_label)\n",
    "    return ' '.join(words)\n",
    "\n",
    "def construct_sentence(tree, parent_label = None, leave_pos=False):\n",
    "\n",
    "    sentences = []\n",
    "    if 'NN' in tree.label:\n",
    "        if parent_label == 'NP':\n",
    "            # sentences.append(tree)\n",
    "            sentences = sentences + tree.leaf_labels()\n",
    "    if 'VB' in tree.label:\n",
    "        if parent_label == 'VP':\n",
    "            #sentences.append(tree)\n",
    "            sentences = sentences + tree.leaf_labels()\n",
    "    for child in tree.children:\n",
    "        sentences = sentences + construct_sentence(child, tree.label)\n",
    "\n",
    "    return sentences\n",
    "\n",
    "def find_branches(tree, label, not_in_label=None, ancestors=[]):\n",
    "    branches = []\n",
    "    # print(\"-------------\")\n",
    "    # print(ancestors)\n",
    "    # print(f\"{tree.label} == {label}\")\n",
    "    if tree.label == label and not_in_label not in ancestors:\n",
    "        # print(f\"adding {tree}\")\n",
    "        branches.append(tree)\n",
    "    for child in tree.children:\n",
    "        branches = branches + find_branches(child, label, not_in_label, ancestors + [tree.label])\n",
    "\n",
    "    return branches\n",
    "\n",
    "#\n",
    "# # According to the paper the subject is the first NN child of NP\n",
    "def find_subject(noun_phrase_for_subject):\n",
    "    subject = []\n",
    "    for child in noun_phrase_for_subject.children:\n",
    "        if 'NN' in child.label:\n",
    "            subject = subject + child.leaf_labels()\n",
    "\n",
    "    #print(f\"subject = {subject}\")\n",
    "    #if len(subject) > 0:\n",
    "    #    return ' '.join(subject)\n",
    "    return subject\n",
    "\n",
    "    return None\n",
    "\n",
    "def find_predicate(verb_phrase_for_predicate):\n",
    "    predicate = []\n",
    "    for child in verb_phrase_for_predicate.children:\n",
    "        if child.label.startswith('VB'):\n",
    "            predicate = predicate + child.leaf_labels()\n",
    "\n",
    "    if len(predicate) > 0:\n",
    "        return ' '.join(predicate)\n",
    "\n",
    "    return None\n",
    "\n",
    "def find_object(verb_phase_for_object, parent='VP'):\n",
    "    objects = []\n",
    "    for child in verb_phase_for_object.children:\n",
    "        if child.label == 'VP':\n",
    "            continue\n",
    "        if 'NN' in child.label and parent in ['NP', 'PP', 'ADJP']:\n",
    "            #objects = objects + child.leaf_labels()\n",
    "            new_objects = child.leaf_labels()\n",
    "            for new_object in new_objects:\n",
    "                if new_object not in objects:\n",
    "                    objects.append(new_object)\n",
    "        else:\n",
    "            new_objects = find_object(child, child.label)\n",
    "            #if new_objects not in objects and new_objects is not None:\n",
    "            for new_object in new_objects:\n",
    "                if new_object not in objects:\n",
    "                    objects.append(new_object)\n",
    "                #objects = objects + new_objects\n",
    "\n",
    "    return objects\n",
    "    # if len(objects) > 0:\n",
    "    #     #return ' '.join(objects)\n",
    "    #     return objects\n",
    "    # else:\n",
    "    #     return None\n",
    "\n",
    "def find_spo(tree):\n",
    "    noun_phrases_for_subject = find_branches(tree, label='NP', not_in_label='VP', ancestors=[])\n",
    "    subject_list = []\n",
    "    for noun_phrase_for_subject in noun_phrases_for_subject:\n",
    "        subject = find_subject(noun_phrase_for_subject)\n",
    "        #if subject is not None:\n",
    "        #   subject_list.append(subject)\n",
    "        subject_list = subject_list + subject\n",
    "\n",
    "    verb_phrases = find_branches(tree, label='VP')\n",
    "    predicate_list = []\n",
    "    object_list = []\n",
    "    for verb_phrase in verb_phrases:\n",
    "        predicate = find_predicate(verb_phrase)\n",
    "        if predicate is not None:\n",
    "            predicate_list.append(predicate)\n",
    "        object = find_object(verb_phrase)\n",
    "        object_list = object_list + object\n",
    "        #if object is not None:\n",
    "        #    object_list.append(object)\n",
    "\n",
    "    # dedupe list\n",
    "    subject_list = list(dict.fromkeys(subject_list))\n",
    "    predicate_list = list(dict.fromkeys(predicate_list))\n",
    "    object_list = list(dict.fromkeys(object_list))\n",
    "\n",
    "    return subject_list, predicate_list, object_list"
   ],
   "metadata": {
    "collapsed": false,
    "ExecuteTime": {
     "start_time": "2023-04-08T00:35:01.890215Z",
     "end_time": "2023-04-08T00:35:03.008883Z"
    }
   }
  },
  {
   "cell_type": "code",
   "execution_count": 359,
   "outputs": [],
   "source": [
    " def test_parser(str, valid_subject, valid_predicate, valid_object):\n",
    "\n",
    "    #new_sentence = trunk_construction(str)\n",
    "    #print(new_sentence)\n",
    "    #assert new_sentence == valid_sentence\n",
    "\n",
    "    doc = nlp(str)\n",
    "    tree = doc.sentences[0].constituency\n",
    "\n",
    "    subject_list, predicate_list, object_list = find_spo(tree)\n",
    "    print(f\"Subject = {' '.join(subject_list)}\")\n",
    "    print(f\"Predicate = {' '.join(predicate_list)}\")\n",
    "    print(f\"Object = {' '.join(object_list)}\")\n",
    "\n",
    "    print(f\"{subject_list} = {valid_subject}\")\n",
    "    print(f\"{predicate_list} = {valid_predicate}\")\n",
    "    print(f\"{object_list} = {valid_object}\")\n",
    "    assert subject_list == valid_subject\n",
    "    assert predicate_list == valid_predicate\n",
    "    assert object_list == valid_object\n",
    "\n"
   ],
   "metadata": {
    "collapsed": false,
    "ExecuteTime": {
     "start_time": "2023-04-08T00:35:03.013569Z",
     "end_time": "2023-04-08T00:35:03.015960Z"
    }
   }
  },
  {
   "cell_type": "markdown",
   "source": [
    "## Parser Test Cases\n",
    "Test the parser using some of the training data sentences as input and asserting the output sentence matches the algorithm defined in the paper."
   ],
   "metadata": {
    "collapsed": false
   }
  },
  {
   "cell_type": "code",
   "execution_count": 360,
   "outputs": [
    {
     "name": "stdout",
     "output_type": "stream",
     "text": [
      "Subject = \n",
      "Predicate = have do is designing\n",
      "Object = amount work set architectures\n",
      "[] = []\n",
      "['have', 'do', 'is', 'designing'] = ['have', 'do', 'is', 'designing']\n",
      "['amount', 'work', 'set', 'architectures'] = ['amount', 'work', 'set', 'architectures']\n",
      "Subject = instruction set\n",
      "Predicate = have got do said\n",
      "Object = amount work\n",
      "['instruction', 'set'] = ['instruction', 'set']\n",
      "['have', 'got', 'do', 'said'] = ['have', 'got', 'do', 'said']\n",
      "['amount', 'work'] = ['amount', 'work']\n",
      "Subject = forces\n",
      "Predicate = launch\n",
      "Object = attacks\n",
      "['forces'] = ['forces']\n",
      "['launch'] = ['launch']\n",
      "['attacks'] = ['attacks']\n",
      "Subject = tire\n",
      "Predicate = was replaced\n",
      "Object = driver\n",
      "['tire'] = ['tire']\n",
      "['was', 'replaced'] = ['was', 'replaced']\n",
      "['driver'] = ['driver']\n",
      "Subject = Amrozi\n",
      "Predicate = accused called distorting\n",
      "Object = brother witness evidence\n",
      "['Amrozi'] = ['Amrozi']\n",
      "['accused', 'called', 'distorting'] = ['accused', 'called', 'distorting']\n",
      "['brother', 'witness', 'evidence'] = ['brother', 'witness', 'evidence']\n",
      "Subject = Amrozi\n",
      "Predicate = Referring accused distorting\n",
      "Object = witness brother evidence\n",
      "['Amrozi'] = ['Amrozi']\n",
      "['Referring', 'accused', 'distorting'] = ['Referring', 'accused', 'distorting']\n",
      "['witness', 'brother', 'evidence'] = ['witness', 'brother', 'evidence']\n",
      "Subject = Shares Genentech company products market\n",
      "Predicate = rose\n",
      "Object = percent\n",
      "['Shares', 'Genentech', 'company', 'products', 'market'] = ['Shares', 'Genentech', 'company', 'products', 'market']\n",
      "['rose'] = ['rose']\n",
      "['percent'] = ['percent']\n",
      "Subject = Shares Xoma\n",
      "Predicate = fell were\n",
      "Object = percent trade shares Genentech company products market\n",
      "['Shares', 'Xoma'] = ['Shares', 'Xoma']\n",
      "['fell', 'were'] = ['fell', 'were']\n",
      "['percent', 'trade', 'shares', 'Genentech', 'company', 'products', 'market'] = ['percent', 'trade', 'shares', 'Genentech', 'company', 'products', 'market']\n",
      "Subject = Gyorgy Heizler head disaster unit\n",
      "Predicate = said was carrying\n",
      "Object = coach passengers\n",
      "['Gyorgy', 'Heizler', 'head', 'disaster', 'unit'] = ['Gyorgy', 'Heizler', 'head', 'disaster', 'unit']\n",
      "['said', 'was', 'carrying'] = ['said', 'was', 'carrying']\n",
      "['coach', 'passengers'] = ['coach', 'passengers']\n",
      "Subject = head disaster unit Gyorgy Heizler\n",
      "Predicate = said had failed heed\n",
      "Object = coach driver stop lights\n",
      "['head', 'disaster', 'unit', 'Gyorgy', 'Heizler'] = ['head', 'disaster', 'unit', 'Gyorgy', 'Heizler']\n",
      "['said', 'had', 'failed', 'heed'] = ['said', 'had', 'failed', 'heed']\n",
      "['coach', 'driver', 'stop', 'lights'] = ['coach', 'driver', 'stop', 'lights']\n",
      "Subject = Sheena Young Child network\n",
      "Predicate = hoped lead\n",
      "Object = guidelines service infertility sufferers\n",
      "['Sheena', 'Young', 'Child', 'network'] = ['Sheena', 'Young', 'Child', 'network']\n",
      "['hoped', 'lead'] = ['hoped', 'lead']\n",
      "['guidelines', 'service', 'infertility', 'sufferers'] = ['guidelines', 'service', 'infertility', 'sufferers']\n",
      "Subject = Sheena Young Child network\n",
      "Predicate = said lead\n",
      "Object = guidelines service infertility sufferers\n",
      "['Sheena', 'Young', 'Child', 'network'] = ['Sheena', 'Young', 'Child', 'network']\n",
      "['said', 'lead'] = ['said', 'lead']\n",
      "['guidelines', 'service', 'infertility', 'sufferers'] = ['guidelines', 'service', 'infertility', 'sufferers']\n"
     ]
    }
   ],
   "source": [
    "test_parser(\"\"\"\"We have an incredible amount of work to do, but it is not in [designing new] instruction set architectures.\"\"\", [], ['have', 'do', 'is', 'designing'], ['amount', 'work', 'set', 'architectures'])\n",
    "test_parser(\"\"\"We have got an incredible amount of work to do, but it ain't in the instruction set,\" he said.\"\"\",  ['instruction', 'set'], ['have', 'got', 'do', 'said'], ['amount', 'work'])\n",
    "test_parser('Syrian forces launch new attacks', ['forces'], ['launch'], ['attacks'])\n",
    "test_parser(\"\"\"the flat tire was replaced by the driver\"\"\", ['tire'], ['was', 'replaced'], ['driver'])\n",
    "test_parser(\"\"\"Amrozi accused his brother, whom he called \"the witness\", of deliberately distorting his evidence.\"\"\",\n",
    "            ['Amrozi'], ['accused', 'called', 'distorting'], ['brother',  'witness', 'evidence'])\n",
    "test_parser(\"\"\"Referring to him as only \"the witness\", Amrozi accused his brother of deliberately distorting his evidence.\"\"\",\n",
    "         ['Amrozi'], ['Referring', 'accused', 'distorting'], ['witness', 'brother', 'evidence'])\n",
    "test_parser(\"\"\"Shares of Genentech, a much larger company with several products on the market, rose more than 2 percent\"\"\",\n",
    "            ['Shares', 'Genentech', 'company', 'products', 'market'], ['rose'], ['percent'])\n",
    "\n",
    "test_parser(\"\"\"Shares of Xoma fell 16 percent in early trade, while shares of Genentech, a much larger company with several products on the market, were up 2 percent.\"\"\", ['Shares', 'Xoma'], ['fell', 'were'], ['percent', 'trade', 'shares', 'Genentech', 'company', 'products', 'market'])\n",
    "\n",
    "test_parser(\"\"\"Gyorgy Heizler, head of the local disaster unit, said the coach was carrying 38 passengers.\"\"\",\n",
    "              ['Gyorgy', 'Heizler', 'head', 'disaster', 'unit'], ['said', 'was', 'carrying'], ['coach', 'passengers'])\n",
    "test_parser(\"\"\"The head of the local disaster unit, Gyorgy Heizler, said the coach driver had failed to heed red stop lights.\"\"\",\n",
    "            ['head', 'disaster', 'unit', 'Gyorgy', 'Heizler'], ['said', 'had', 'failed', 'heed'], ['coach', 'driver', 'stop', 'lights'])\n",
    "# test_parser(\"\"\"His wife said he was \"100 percent behind George Bush\" and looked forward to using his years of training in the war.\"\"\",\n",
    "#             \"wife said was percent George Bush looked using years training war\")\n",
    "test_parser(\"\"\"Sheena Young of Child, the national infertility support network, hoped the guidelines would lead to a more \"fair and equitable\" service for infertility sufferers\"\"\", ['Sheena', 'Young', 'Child', 'network'], ['hoped', 'lead'], ['guidelines', 'service', 'infertility', 'sufferers'])\n",
    "test_parser(\"\"\"Sheena Young, for Child, the national infertility support network, said the proposed guidelines should lead to a more \"fair and equitable\" service for infertility sufferers.\"\"\", ['Sheena', 'Young', 'Child', 'network'], ['said', 'lead'], ['guidelines', 'service', 'infertility', 'sufferers'])\n",
    "#\n",
    "# test_parser(\"\"\"Among CNN viewers, 29 percent said they were Republicans and 36 percent called themselves conservatives.\"\"\",\n",
    "#             \"CNN viewers percent said were Republicans percent called conservatives\")\n",
    "# test_parser(\"\"\"Out of Fox viewers, 41 percent describe themselves as Republicans, 24 percent as Democrats and 30 percent as Independents\"\"\",\n",
    "#             \"Fox viewers percent describe Republicans percent Democrats percent Independents\")\n",
    "\n",
    "# Note: stanza parser has a problem with the below sentence.  It is unable to parse it correctly\n",
    "# test_parser(\"\"\"Sheena Young, for Child, the national infertility support network, said the proposed guidelines should lead to a more \"fair and equitable\" service for infertility sufferers.\"\"\", \"\")\n",
    "# test_parser(\"\"\"Among Fox viewers, 41 percent describe themselves as Republicans, 24 percent as Democrats and 30 percent as Independents\"\"\", \"Fox viewers percent describe Republicans percent Democrats percent Independents\")"
   ],
   "metadata": {
    "collapsed": false,
    "ExecuteTime": {
     "start_time": "2023-04-08T00:35:03.023262Z",
     "end_time": "2023-04-08T00:35:08.918548Z"
    }
   }
  },
  {
   "cell_type": "code",
   "execution_count": 361,
   "outputs": [],
   "source": [
    "import spacy\n",
    "\n",
    "spacy_nlp = spacy.load('en_core_web_sm')\n",
    "\n",
    "def find_spacy_spo(doc):\n",
    "    # Extract the subject, predicate, and object\n",
    "    subject = []\n",
    "    predicate = []\n",
    "    obj = []\n",
    "\n",
    "    for token in doc:\n",
    "        #print(f\"{token.dep_} : {token.text}\")\n",
    "        if \"subj\" in token.dep_:\n",
    "            subtree = list(token.subtree)\n",
    "            start = subtree[0].i\n",
    "            end = subtree[-1].i + 1\n",
    "            subject .append(doc[start:end])\n",
    "        elif \"obj\" in token.dep_ or \"pcomp\" in token.dep_:\n",
    "            obj.append(token.text)\n",
    "        elif \"ROOT\" in token.dep_ or \"pred\" in token.dep_:\n",
    "            predicate.append(token.text)\n",
    "\n",
    "    # Print the results\n",
    "    # print(\"Subject: \", subject)\n",
    "    # print(\"Predicate: \", predicate)\n",
    "    # print(\"Object: \", obj)\n",
    "    return subject, predicate, object"
   ],
   "metadata": {
    "collapsed": false
   }
  },
  {
   "cell_type": "code",
   "execution_count": 362,
   "outputs": [],
   "source": [
    "from enum import Enum\n",
    "class Parsing(Enum):\n",
    "    STANZA=1\n",
    "    SPACY=2\n",
    "    RAW=3"
   ],
   "metadata": {
    "collapsed": false
   }
  },
  {
   "cell_type": "markdown",
   "source": [
    "## Concurrency Parsing\n",
    "Added support for concurrent parsing.  This can help in the performance of the preprocessing"
   ],
   "metadata": {
    "collapsed": false
   }
  },
  {
   "cell_type": "code",
   "execution_count": 363,
   "outputs": [],
   "source": [
    "class SentenceProcessingThread(threading.Thread):\n",
    "    def __init__(self, sentences, output_list, begin, end, parsing_enum=Parsing.STANZA):\n",
    "        super(SentenceProcessingThread, self).__init__()\n",
    "        self.sentences = sentences\n",
    "        self.parsing_enum = parsing_enum\n",
    "\n",
    "        if parsing_enum == Parsing.STANZA:\n",
    "            self.nlp = stanza.Pipeline(lang='en', processors='tokenize,pos,constituency', download_method=None, use_gpu=True)\n",
    "        else:\n",
    "            self.nlp = spacy.load('en_core_web_sm')\n",
    "        self.output_list = output_list\n",
    "        self.begin = begin\n",
    "        self.end = end\n",
    "\n",
    "    def trunk_construction(self, str, parent_label = None):\n",
    "        doc = self.nlp(str)\n",
    "        tree = doc.sentences[0].constituency\n",
    "\n",
    "        #words = construct_sentence(tree, parent_label)\n",
    "        #return ' '.join(words)\n",
    "\n",
    "        if self.parsing_enum == Parsing.SPACY:\n",
    "            subjects, predicates, objects = find_spacy_spo(tree)\n",
    "        else:\n",
    "            subjects, predicates, objects = find_spo(tree)\n",
    "\n",
    "        return f\"{' '.join(subjects)},{' '.join(predicates)},{' '.join(objects)}\"\n",
    "\n",
    "    def run(self):\n",
    "        print(f\"going to process {self.begin} to {self.end}\")\n",
    "        for i, sentence in enumerate(self.sentences):\n",
    "            new_sentence = self.trunk_construction(sentence)\n",
    "            self.output_list[self.begin + i] = new_sentence\n",
    "\n",
    "def process_sentences_concurrently(sentences, output, p=2):\n",
    "    total = len(sentences)\n",
    "    interval = int(total / p)\n",
    "    threads = []\n",
    "    for i in range(p):\n",
    "        s = i*interval\n",
    "        if i == p-1:\n",
    "            e = total\n",
    "        else:\n",
    "            e = (i+1) * interval\n",
    "        sentences_slice = sentences[s:e]\n",
    "        sentence_thread = SentenceProcessingThread(sentences_slice, output, s, e)\n",
    "        sentence_thread.start()\n",
    "        threads.append(sentence_thread)\n",
    "\n",
    "    for thread in threads:\n",
    "        thread.join()\n",
    "\n",
    "def preprocess_corpus(input_file='data/msr_paraphrase_train.txt', output_file='data/msr_paraphrase_train_stanza.txt', N=None, parsing_enum=Parsing.STANZA):\n",
    "    print(output_file)\n",
    "    if os.path.exists(output_file):\n",
    "        print(f\"{output_file} already exists\")\n",
    "        return\n",
    "\n",
    "    starttime = datetime.datetime.now()\n",
    "    df = read_file(input_file)\n",
    "\n",
    "    if N is None:\n",
    "        N = len(df.String1)\n",
    "\n",
    "    output1 = [None] * N\n",
    "    output2 = [None] * N\n",
    "\n",
    "    # we can process with more threads if we only have CPU\n",
    "    p = 8\n",
    "\n",
    "    if torch.cuda.is_available():\n",
    "        # if cuda is available we don't need that many threads\n",
    "        # and if the number of threads is set too large using cuda\n",
    "        # we can get out of memory exceptions\n",
    "        p = 2\n",
    "        torch.cuda.empty_cache()\n",
    "\n",
    "    process_sentences_concurrently(df.String1[:N], output1, p)\n",
    "\n",
    "    # try and be careful with gpu memory\n",
    "    if torch.cuda.is_available():\n",
    "        torch.cuda.empty_cache()\n",
    "\n",
    "    process_sentences_concurrently(df.String2[:N], output2, p)\n",
    "\n",
    "    endtime = datetime.datetime.now()\n",
    "\n",
    "    print(f\"time to process {N*2} sentences is {endtime - starttime}\")\n",
    "\n",
    "    stanza_df = df[:N]\n",
    "\n",
    "    processed_string1 = pd.Series(output1)\n",
    "    # processed_string1.apply(gensim.utils.simple_preprocess)\n",
    "    processed_string2 = pd.Series(output2)\n",
    "    #processed_string2.apply(gensim.utils.simple_preprocess)\n",
    "\n",
    "    stanza_df.String1 = processed_string1\n",
    "    stanza_df.String2 = processed_string2\n",
    "\n",
    "    # write the file out.  This can help in the future\n",
    "    print(f\"about to write out {output_file}\")\n",
    "    stanza_df.to_csv(output_file, sep=\"\\t\")\n"
   ],
   "metadata": {
    "collapsed": false,
    "ExecuteTime": {
     "start_time": "2023-04-08T00:35:08.905455Z",
     "end_time": "2023-04-08T00:35:08.941546Z"
    }
   }
  },
  {
   "cell_type": "markdown",
   "source": [
    "## Sentence Preprocessing\n",
    "pass the input sentences from the training dataset through the stanford/stanza parser, extracting the relevant parts of speech and then tokenize the processed sentences using the gensim.utils.simple_preprocess utility"
   ],
   "metadata": {
    "collapsed": false
   }
  },
  {
   "cell_type": "markdown",
   "source": [
    "# Word2Vec Embeddings\n",
    "Take the preprocessed and tokenized sentences and use Word2Vec to get the word embeddings.  Take each word embedding in a sentence and find the mean which will represent the embedding for the sentence."
   ],
   "metadata": {
    "collapsed": false
   }
  },
  {
   "cell_type": "code",
   "execution_count": 250,
   "outputs": [],
   "source": [
    "from gensim.models import Word2Vec\n",
    "\n",
    "# Function is broken out for testing purposes\n",
    "def generate_word2vec_model(corpus):\n",
    "    # Creating the Word2Vec model\n",
    "    model = Word2Vec(sentences=corpus, min_count=1, window=2, vector_size=50)\n",
    "\n",
    "    return model\n"
   ],
   "metadata": {
    "collapsed": false,
    "ExecuteTime": {
     "start_time": "2023-04-08T00:35:08.908525Z",
     "end_time": "2023-04-08T00:35:08.942658Z"
    }
   }
  },
  {
   "cell_type": "code",
   "execution_count": 364,
   "outputs": [],
   "source": [
    "# Function is broken out for testing purposes\n",
    "def sentence_embeddings(w2v_model, sentence, size):\n",
    "    np_embedding = np.zeros(size)\n",
    "    for i, word in enumerate(sentence):\n",
    "        #print(word)\n",
    "        np_embedding[i] = w2v_model.wv.get_vector(word)\n",
    "\n",
    "    return np_embedding\n",
    "    # list = []\n",
    "    # for word in sentence:\n",
    "    #     list.append(w2v_model.wv.get_vector(word))\n",
    "    #\n",
    "    # word_matrix = np.row_stack(list)\n",
    "    # #return np.mean(word_matrix, axis=0)\n",
    "    # return word_matrix"
   ],
   "metadata": {
    "collapsed": false,
    "ExecuteTime": {
     "start_time": "2023-04-08T00:35:08.910846Z",
     "end_time": "2023-04-08T00:35:08.942887Z"
    }
   }
  },
  {
   "cell_type": "code",
   "execution_count": 365,
   "outputs": [],
   "source": [
    "def test_word2vec():\n",
    "\n",
    "    df = read_file('data/msr_paraphrase_train.txt')\n",
    "\n",
    "    sentences1 = df.String1[:5].apply(gensim.utils.simple_preprocess)\n",
    "    sentences2 = df.String2[:5].apply(gensim.utils.simple_preprocess)\n",
    "\n",
    "    corpus = pd.concat([sentences1, sentences2], ignore_index=True)\n",
    "\n",
    "    max_sentence_len = corpus.apply(len).max()\n",
    "\n",
    "    model = generate_word2vec_model(corpus)\n",
    "\n",
    "    embedding = sentence_embeddings(model, corpus[0], (max_sentence_len, 50))\n",
    "    assert embedding.shape == (max_sentence_len, 50)\n",
    "\n",
    "test_word2vec()"
   ],
   "metadata": {
    "collapsed": false,
    "ExecuteTime": {
     "start_time": "2023-04-08T00:35:08.911696Z",
     "end_time": "2023-04-08T00:35:09.477774Z"
    }
   }
  },
  {
   "cell_type": "code",
   "execution_count": 366,
   "outputs": [],
   "source": [
    "def init_word2vec(train_input_file, test_input_file, parsing_enum=Parsing.STANZA):\n",
    "\n",
    "    if parsing_enum == Parsing.RAW:\n",
    "        train_output_file = train_input_file\n",
    "        test_output_file = test_input_file\n",
    "        train_df = read_file(train_output_file)\n",
    "        test_df = read_file(test_output_file)\n",
    "\n",
    "    elif parsing_enum == Parsing.STANZA:\n",
    "        file_parts = os.path.splitext(train_input_file)\n",
    "        train_output_file = f\"{file_parts[0]}_stanza{file_parts[1]}\"\n",
    "        print(\"About to preprocess spacy data\")\n",
    "        preprocess_corpus(input_file=train_input_file, output_file=train_output_file, parsing_enum=parsing_enum)\n",
    "        print(\"Done preprocessing spacy data\")\n",
    "\n",
    "        file_parts = os.path.splitext(test_input_file)\n",
    "        test_output_file = f\"{file_parts[0]}_stanza{file_parts[1]}\"\n",
    "        print(\"About to preprocess data\")\n",
    "        preprocess_corpus(input_file=test_input_file, output_file=test_output_file, parsing_enum=parsing_enum)\n",
    "        print(\"Done preprocessing data\")\n",
    "        train_df = pd.read_csv(train_output_file, sep=\"\\t\")\n",
    "        test_df = pd.read_csv(test_output_file, sep=\"\\t\")\n",
    "    else:\n",
    "        file_parts = os.path.splitext(train_input_file)\n",
    "        train_output_file = f\"{file_parts[0]}_spacy{file_parts[1]}\"\n",
    "        print(\"About to preprocess spacy data\")\n",
    "        preprocess_corpus(input_file=train_input_file, output_file=train_output_file, parsing_enum=parsing_enum)\n",
    "        print(\"Done preprocessing spacy data\")\n",
    "\n",
    "        file_parts = os.path.splitext(test_input_file)\n",
    "        test_output_file = f\"{file_parts[0]}_spacy{file_parts[1]}\"\n",
    "        print(\"About to preprocess data\")\n",
    "        preprocess_corpus(input_file=test_input_file, output_file=test_output_file, parsing_enum=parsing_enum)\n",
    "        print(\"Done preprocessing data\")\n",
    "        train_df = pd.read_csv(train_output_file, sep=\"\\t\")\n",
    "        test_df = pd.read_csv(test_output_file, sep=\"\\t\")\n",
    "\n",
    "    # train_df = read_file(train)\n",
    "    # test_df = read_file(test)\n",
    "\n",
    "    train_sentences1 = train_df.String1.apply(gensim.utils.simple_preprocess)\n",
    "    train_sentences2 = train_df.String2.apply(gensim.utils.simple_preprocess)\n",
    "    test_sentences1 = test_df.String1.apply(gensim.utils.simple_preprocess)\n",
    "    test_sentences2 = test_df.String2.apply(gensim.utils.simple_preprocess)\n",
    "\n",
    "    corpus = pd.concat([train_sentences1, train_sentences2, test_sentences1, test_sentences2], ignore_index=True)\n",
    "    max_sentence_len = corpus.apply(len).max()\n",
    "\n",
    "    word2vec = generate_word2vec_model(corpus)\n",
    "\n",
    "\n",
    "    return word2vec, max_sentence_len\n"
   ],
   "metadata": {
    "collapsed": false
   }
  },
  {
   "cell_type": "code",
   "execution_count": 367,
   "outputs": [],
   "source": [
    "def corpus_embeddings(model, corpus, max_sentence_len):\n",
    "    corpus_size = len(corpus)\n",
    "    embeddings_list = []\n",
    "    embedding_matrix = np.zeros((corpus_size, max_sentence_len, 50))\n",
    "    for i, sentence in enumerate(corpus):\n",
    "        embeddings = sentence_embeddings(model, sentence, size=(max_sentence_len, 50))\n",
    "        embedding_matrix[i] = embeddings\n",
    "        embeddings_list.append(embeddings)\n",
    "\n",
    "    return embedding_matrix"
   ],
   "metadata": {
    "collapsed": false,
    "ExecuteTime": {
     "start_time": "2023-04-08T00:35:08.972122Z",
     "end_time": "2023-04-08T00:35:09.479438Z"
    }
   }
  },
  {
   "cell_type": "code",
   "execution_count": 369,
   "outputs": [],
   "source": [
    "from torch.utils.data import DataLoader, Dataset\n",
    "\n",
    "# Dataset for the MSPC dataset\n",
    "class MSPCDataset(Dataset):\n",
    "    \"\"\"\n",
    "    Arguments:\n",
    "        tsv_file (string): path to the tsv file with sentences to compare and associate quality score\n",
    "        num_records (int): number of records to load.  Defaults to None which is all\n",
    "    \"\"\"\n",
    "    def __init__(self, tsv_file, w2v_model, max_sentence_length, num_records=None, parsing_enum=Parsing.STANZA):\n",
    "\n",
    "        self.max_sentence_len = max_sentence_length\n",
    "        self.w2v_model = w2v_model\n",
    "\n",
    "        if parsing_enum == Parsing.STANZA:\n",
    "            file_parts = os.path.splitext(tsv_file)\n",
    "            output_file = f\"{file_parts[0]}_stanza{file_parts[1]}\"\n",
    "            print(\"About to preprocess stanza data\")\n",
    "            preprocess_corpus(input_file=tsv_file, output_file=output_file, parsing_enum=parsing_enum)\n",
    "            print(\"Done preprocessing stanza data\")\n",
    "            #df = read_file('data/msr_paraphrase_train.txt')\n",
    "            df = pd.read_csv(output_file, sep=\"\\t\")\n",
    "        elif parsing_enum == Parsing.SPACY:\n",
    "            file_parts = os.path.splitext(tsv_file)\n",
    "            output_file = f\"{file_parts[0]}_spacy{file_parts[1]}\"\n",
    "            print(\"About to preprocess spacy data\")\n",
    "            preprocess_corpus(input_file=tsv_file, output_file=output_file, parsing_enum=parsing_enum)\n",
    "            print(\"Done preprocessing spacy data\")\n",
    "            #df = read_file('data/msr_paraphrase_train.txt')\n",
    "            df = pd.read_csv(output_file, sep=\"\\t\")\n",
    "        else:\n",
    "            df = read_file(tsv_file)\n",
    "\n",
    "        if num_records is not None:\n",
    "            processed_string1 = df[:num_records].String1\n",
    "            processed_string2 = df[:num_records].String2\n",
    "            self.quality = df[:num_records].Quality\n",
    "        else:\n",
    "            processed_string1 = df.String1\n",
    "            processed_string2 = df.String2\n",
    "            self.quality = df.Quality\n",
    "\n",
    "        if parsing_enum == Parsing.RAW:\n",
    "            processed_string1 = processed_string1.apply(gensim.parsing.preprocessing.remove_stopwords)\n",
    "            processed_string2 = processed_string2.apply(gensim.parsing.preprocessing.remove_stopwords)\n",
    "            processed_string1 = processed_string1.apply(lambda x: gensim.parsing.preprocessing.strip_short(x, minsize=3))\n",
    "            processed_string2 = processed_string2.apply(lambda x: gensim.parsing.preprocessing.strip_short(x, minsize=3))\n",
    "\n",
    "        processed_string1 = processed_string1.apply(gensim.utils.simple_preprocess)\n",
    "        processed_string2 = processed_string2.apply(gensim.utils.simple_preprocess)\n",
    "\n",
    "\n",
    "        print(processed_string1)\n",
    "\n",
    "\n",
    "        #corpus = pd.concat([processed_string1, processed_string2], ignore_index=True)\n",
    "        #self.max_sentence_len = corpus.apply(len).max()\n",
    "        #w2v_model = generate_word2vec_model(corpus)\n",
    "\n",
    "        sentence_embeddings1 = corpus_embeddings(self.w2v_model, processed_string1, max_sentence_len=self.max_sentence_len)\n",
    "        sentence_embeddings2 = corpus_embeddings(self.w2v_model, processed_string2, max_sentence_len=self.max_sentence_len)\n",
    "\n",
    "        #self.w2v_model = w2v_model\n",
    "        self.sentences_embeddings1 = sentence_embeddings1\n",
    "        self.sentences_embeddings2 = sentence_embeddings2\n",
    "\n",
    "        # print (f\"Processing 200 sentences with gensim.utils.simple_preprocess took {end_time - start_time}\")\n",
    "        print(f\"Number of sentences processed in the String1 column: {len(processed_string1)}\")\n",
    "        print(f\"Number of sentences processed in the String2 column: {len(processed_string2)}\")\n",
    "        #print(self.sentences_embeddings1)\n",
    "\n",
    "    def __len__(self):\n",
    "        return len(self.sentences_embeddings1)\n",
    "\n",
    "    def __getitem__(self, i):\n",
    "        #return torch.FloatTensor(np.stack((self.sentences_embeddings1[i], self.sentences_embeddings2[i]))), self.quality[i]\n",
    "        return torch.FloatTensor(self.sentences_embeddings1[i]), torch.FloatTensor(self.sentences_embeddings2[i]), self.quality[i]\n",
    "\n",
    "    def get_max_sentence_length(self):\n",
    "        return self.max_sentence_len"
   ],
   "metadata": {
    "collapsed": false,
    "ExecuteTime": {
     "start_time": "2023-04-08T00:35:08.981724Z",
     "end_time": "2023-04-08T00:35:09.479637Z"
    }
   }
  },
  {
   "cell_type": "code",
   "execution_count": 370,
   "outputs": [
    {
     "name": "stdout",
     "output_type": "stream",
     "text": [
      "About to preprocess spacy data\n",
      "data/msr_paraphrase_train_stanza.txt\n",
      "data/msr_paraphrase_train_stanza.txt already exists\n",
      "Done preprocessing spacy data\n",
      "About to preprocess data\n",
      "data/msr_paraphrase_test_stanza.txt\n",
      "data/msr_paraphrase_test_stanza.txt already exists\n",
      "Done preprocessing data\n",
      "About to preprocess stanza data\n",
      "data/msr_paraphrase_train_stanza.txt\n",
      "data/msr_paraphrase_train_stanza.txt already exists\n",
      "Done preprocessing stanza data\n",
      "0    [amrozi, accused, called, distorting, brother,...\n",
      "1    [yucaipa, owned, selling, dominick, chain, saf...\n",
      "2    [had, published, offering, added, advertisemen...\n",
      "3    [gmt, tab, shares, were, having, set, cents, h...\n",
      "4    [stock, rose, close, percent, friday, stock, e...\n",
      "5    [revenue, quarter, year, dropped, percent, per...\n",
      "6        [nasdaq, had, closing, gain, percent, friday]\n",
      "7          [dvd, cca, appealed, state, supreme, court]\n",
      "8               [compared, cents, share, year, period]\n",
      "9    [said, does, fit, business, company, growth, s...\n",
      "Name: String1, dtype: object\n",
      "Number of sentences processed in the String1 column: 10\n",
      "Number of sentences processed in the String2 column: 10\n"
     ]
    }
   ],
   "source": [
    "def test_dataset():\n",
    "    word2vec, max_sentence_length = init_word2vec('data/msr_paraphrase_train.txt', 'data/msr_paraphrase_test.txt', parsing_enum=Parsing.STANZA)\n",
    "    dataset = MSPCDataset('data/msr_paraphrase_train.txt', word2vec, max_sentence_length, 10)\n",
    "    assert len(dataset) == 10\n",
    "\n",
    "    x1, y1, quality = dataset[0]\n",
    "    assert x1.shape[0] == max_sentence_length\n",
    "    assert x1.shape[1] == 50\n",
    "\n",
    "test_dataset()"
   ],
   "metadata": {
    "collapsed": false,
    "ExecuteTime": {
     "start_time": "2023-04-07T14:32:14.561411Z",
     "end_time": "2023-04-07T14:32:14.897963Z"
    }
   }
  },
  {
   "cell_type": "code",
   "execution_count": 372,
   "outputs": [
    {
     "name": "stdout",
     "output_type": "stream",
     "text": [
      "0    [amrozi, accused, brother, called, the, witnes...\n",
      "1    [yucaipa, owned, dominick, selling, chain, saf...\n",
      "2    [they, published, advertisement, internet, jun...\n",
      "3    [around, gmt, tab, shares, cents, having, earl...\n",
      "4    [the, stock, rose, percent, close, friday, new...\n",
      "5    [revenue, quarter, year, dropped, percent, per...\n",
      "6    [the, nasdaq, weekly, gain, percent, closing, ...\n",
      "7     [the, dvd, cca, appealed, state, supreme, court]\n",
      "8    [that, compared, million, cents, share, year, ...\n",
      "9    [said, foodservice, pie, business, doesn, fit,...\n",
      "Name: String1, dtype: object\n",
      "Number of sentences processed in the String1 column: 10\n",
      "Number of sentences processed in the String2 column: 10\n"
     ]
    }
   ],
   "source": [
    "def test_dataset_raw_sentences():\n",
    "    word2vec_raw, max_sentence_length_raw = init_word2vec('data/msr_paraphrase_train.txt', 'data/msr_paraphrase_test.txt', Parsing.RAW)\n",
    "    dataset = MSPCDataset('data/msr_paraphrase_train.txt', word2vec_raw, max_sentence_length_raw, 10, parsing_enum=Parsing.RAW)\n",
    "    assert len(dataset) == 10\n",
    "\n",
    "    x1, y1, quality = dataset[0]\n",
    "    assert x1.shape[0] == max_sentence_length_raw\n",
    "    assert x1.shape[1] == 50\n",
    "\n",
    "test_dataset_raw_sentences()"
   ],
   "metadata": {
    "collapsed": false
   }
  },
  {
   "cell_type": "code",
   "execution_count": 373,
   "outputs": [
    {
     "name": "stderr",
     "output_type": "stream",
     "text": [
      "2023-04-18 19:59:31 INFO: Loading these models for language: en (English):\n",
      "===========================\n",
      "| Processor    | Package  |\n",
      "---------------------------\n",
      "| tokenize     | combined |\n",
      "| pos          | combined |\n",
      "| constituency | wsj      |\n",
      "===========================\n",
      "\n",
      "2023-04-18 19:59:31 INFO: Using device: cuda\n",
      "2023-04-18 19:59:31 INFO: Loading: tokenize\n"
     ]
    },
    {
     "name": "stdout",
     "output_type": "stream",
     "text": [
      "About to preprocess spacy data\n",
      "data/msr_paraphrase_train_spacy.txt\n"
     ]
    },
    {
     "name": "stderr",
     "output_type": "stream",
     "text": [
      "2023-04-18 19:59:35 INFO: Loading: pos\n",
      "2023-04-18 19:59:35 INFO: Loading: constituency\n",
      "2023-04-18 19:59:36 INFO: Done loading processors!\n",
      "2023-04-18 19:59:36 INFO: Loading these models for language: en (English):\n",
      "===========================\n",
      "| Processor    | Package  |\n",
      "---------------------------\n",
      "| tokenize     | combined |\n",
      "| pos          | combined |\n",
      "| constituency | wsj      |\n",
      "===========================\n",
      "\n",
      "2023-04-18 19:59:36 INFO: Using device: cuda\n",
      "2023-04-18 19:59:36 INFO: Loading: tokenize\n",
      "2023-04-18 19:59:36 INFO: Loading: pos\n"
     ]
    },
    {
     "name": "stdout",
     "output_type": "stream",
     "text": [
      "going to process 0 to 2038\n"
     ]
    },
    {
     "name": "stderr",
     "output_type": "stream",
     "text": [
      "2023-04-18 19:59:36 INFO: Loading: constituency\n",
      "2023-04-18 19:59:37 INFO: Done loading processors!\n"
     ]
    },
    {
     "name": "stdout",
     "output_type": "stream",
     "text": [
      "going to process 2038 to 4076\n"
     ]
    },
    {
     "name": "stderr",
     "output_type": "stream",
     "text": [
      "2023-04-18 20:07:56 INFO: Loading these models for language: en (English):\n",
      "===========================\n",
      "| Processor    | Package  |\n",
      "---------------------------\n",
      "| tokenize     | combined |\n",
      "| pos          | combined |\n",
      "| constituency | wsj      |\n",
      "===========================\n",
      "\n",
      "2023-04-18 20:07:56 INFO: Using device: cuda\n",
      "2023-04-18 20:07:56 INFO: Loading: tokenize\n",
      "2023-04-18 20:07:56 INFO: Loading: pos\n",
      "2023-04-18 20:07:57 INFO: Loading: constituency\n",
      "2023-04-18 20:07:57 INFO: Done loading processors!\n",
      "2023-04-18 20:07:57 INFO: Loading these models for language: en (English):\n",
      "===========================\n",
      "| Processor    | Package  |\n",
      "---------------------------\n",
      "| tokenize     | combined |\n",
      "| pos          | combined |\n",
      "| constituency | wsj      |\n",
      "===========================\n",
      "\n",
      "2023-04-18 20:07:57 INFO: Using device: cuda\n",
      "2023-04-18 20:07:57 INFO: Loading: tokenize\n",
      "2023-04-18 20:07:57 INFO: Loading: pos\n"
     ]
    },
    {
     "name": "stdout",
     "output_type": "stream",
     "text": [
      "going to process 0 to 2038\n"
     ]
    },
    {
     "name": "stderr",
     "output_type": "stream",
     "text": [
      "2023-04-18 20:07:58 INFO: Loading: constituency\n",
      "2023-04-18 20:07:58 INFO: Done loading processors!\n"
     ]
    },
    {
     "name": "stdout",
     "output_type": "stream",
     "text": [
      "going to process 2038 to 4076\n"
     ]
    },
    {
     "name": "stderr",
     "output_type": "stream",
     "text": [
      "2023-04-18 20:16:23 INFO: Loading these models for language: en (English):\n",
      "===========================\n",
      "| Processor    | Package  |\n",
      "---------------------------\n",
      "| tokenize     | combined |\n",
      "| pos          | combined |\n",
      "| constituency | wsj      |\n",
      "===========================\n",
      "\n",
      "2023-04-18 20:16:23 INFO: Using device: cuda\n",
      "2023-04-18 20:16:23 INFO: Loading: tokenize\n",
      "2023-04-18 20:16:23 INFO: Loading: pos\n"
     ]
    },
    {
     "name": "stdout",
     "output_type": "stream",
     "text": [
      "time to process 8152 sentences is 0:16:51.955237\n",
      "about to write out data/msr_paraphrase_train_spacy.txt\n",
      "Done preprocessing spacy data\n",
      "About to preprocess data\n",
      "data/msr_paraphrase_test_spacy.txt\n"
     ]
    },
    {
     "name": "stderr",
     "output_type": "stream",
     "text": [
      "2023-04-18 20:16:23 INFO: Loading: constituency\n",
      "2023-04-18 20:16:23 INFO: Done loading processors!\n",
      "2023-04-18 20:16:23 INFO: Loading these models for language: en (English):\n",
      "===========================\n",
      "| Processor    | Package  |\n",
      "---------------------------\n",
      "| tokenize     | combined |\n",
      "| pos          | combined |\n",
      "| constituency | wsj      |\n",
      "===========================\n",
      "\n",
      "2023-04-18 20:16:23 INFO: Using device: cuda\n",
      "2023-04-18 20:16:23 INFO: Loading: tokenize\n",
      "2023-04-18 20:16:24 INFO: Loading: pos\n"
     ]
    },
    {
     "name": "stdout",
     "output_type": "stream",
     "text": [
      "going to process 0 to 862\n"
     ]
    },
    {
     "name": "stderr",
     "output_type": "stream",
     "text": [
      "2023-04-18 20:16:24 INFO: Loading: constituency\n",
      "2023-04-18 20:16:25 INFO: Done loading processors!\n"
     ]
    },
    {
     "name": "stdout",
     "output_type": "stream",
     "text": [
      "going to process 862 to 1725\n"
     ]
    },
    {
     "name": "stderr",
     "output_type": "stream",
     "text": [
      "2023-04-18 20:20:16 INFO: Loading these models for language: en (English):\n",
      "===========================\n",
      "| Processor    | Package  |\n",
      "---------------------------\n",
      "| tokenize     | combined |\n",
      "| pos          | combined |\n",
      "| constituency | wsj      |\n",
      "===========================\n",
      "\n",
      "2023-04-18 20:20:16 INFO: Using device: cuda\n",
      "2023-04-18 20:20:16 INFO: Loading: tokenize\n",
      "2023-04-18 20:20:16 INFO: Loading: pos\n",
      "2023-04-18 20:20:17 INFO: Loading: constituency\n",
      "2023-04-18 20:20:17 INFO: Done loading processors!\n",
      "2023-04-18 20:20:17 INFO: Loading these models for language: en (English):\n",
      "===========================\n",
      "| Processor    | Package  |\n",
      "---------------------------\n",
      "| tokenize     | combined |\n",
      "| pos          | combined |\n",
      "| constituency | wsj      |\n",
      "===========================\n",
      "\n",
      "2023-04-18 20:20:17 INFO: Using device: cuda\n",
      "2023-04-18 20:20:17 INFO: Loading: tokenize\n",
      "2023-04-18 20:20:17 INFO: Loading: pos\n"
     ]
    },
    {
     "name": "stdout",
     "output_type": "stream",
     "text": [
      "going to process 0 to 862\n"
     ]
    },
    {
     "name": "stderr",
     "output_type": "stream",
     "text": [
      "2023-04-18 20:20:18 INFO: Loading: constituency\n",
      "2023-04-18 20:20:18 INFO: Done loading processors!\n"
     ]
    },
    {
     "name": "stdout",
     "output_type": "stream",
     "text": [
      "going to process 862 to 1725\n",
      "time to process 3450 sentences is 0:07:27.730531\n",
      "about to write out data/msr_paraphrase_test_spacy.txt\n",
      "Done preprocessing data\n",
      "About to preprocess spacy data\n",
      "data/msr_paraphrase_train_spacy.txt\n",
      "data/msr_paraphrase_train_spacy.txt already exists\n",
      "Done preprocessing spacy data\n",
      "0    [amrozi, accused, called, distorting, brother,...\n",
      "1    [yucaipa, owned, selling, dominick, chain, saf...\n",
      "2    [had, published, offering, added, advertisemen...\n",
      "3    [gmt, tab, shares, were, having, set, cents, h...\n",
      "4    [stock, rose, close, percent, friday, stock, e...\n",
      "5    [revenue, quarter, year, dropped, percent, per...\n",
      "6        [nasdaq, had, closing, gain, percent, friday]\n",
      "7          [dvd, cca, appealed, state, supreme, court]\n",
      "8               [compared, cents, share, year, period]\n",
      "9    [said, does, fit, business, company, growth, s...\n",
      "Name: String1, dtype: object\n",
      "Number of sentences processed in the String1 column: 10\n",
      "Number of sentences processed in the String2 column: 10\n"
     ]
    }
   ],
   "source": [
    "def test_dataset_spacy_sentences():\n",
    "    word2vec_spacy, max_sentence_length_spacy = init_word2vec('data/msr_paraphrase_train.txt', 'data/msr_paraphrase_test.txt', parsing_enum=Parsing.SPACY)\n",
    "    dataset = MSPCDataset('data/msr_paraphrase_train.txt', word2vec_spacy, max_sentence_length_spacy, 10, parsing_enum=Parsing.SPACY)\n",
    "    assert len(dataset) == 10\n",
    "\n",
    "    x1, y1, quality = dataset[0]\n",
    "    assert x1.shape[0] == max_sentence_length_spacy\n",
    "    assert x1.shape[1] == 50\n",
    "\n",
    "test_dataset_spacy_sentences()"
   ],
   "metadata": {
    "collapsed": false
   }
  },
  {
   "cell_type": "markdown",
   "source": [
    "## Dataloaders\n",
    "Create training and test dataloaders for sentences parsed with parts-of-speech parser"
   ],
   "metadata": {
    "collapsed": false
   }
  },
  {
   "cell_type": "code",
   "execution_count": 374,
   "outputs": [
    {
     "name": "stdout",
     "output_type": "stream",
     "text": [
      "About to preprocess spacy data\n",
      "data/msr_paraphrase_train_stanza.txt\n",
      "data/msr_paraphrase_train_stanza.txt already exists\n",
      "Done preprocessing spacy data\n",
      "About to preprocess data\n",
      "data/msr_paraphrase_test_stanza.txt\n",
      "data/msr_paraphrase_test_stanza.txt already exists\n",
      "Done preprocessing data\n",
      "About to preprocess stanza data\n",
      "data/msr_paraphrase_train_stanza.txt\n",
      "data/msr_paraphrase_train_stanza.txt already exists\n",
      "Done preprocessing stanza data\n",
      "0       [amrozi, accused, called, distorting, brother,...\n",
      "1       [yucaipa, owned, selling, dominick, chain, saf...\n",
      "2       [had, published, offering, added, advertisemen...\n",
      "3       [gmt, tab, shares, were, having, set, cents, h...\n",
      "4       [stock, rose, close, percent, friday, stock, e...\n",
      "                              ...                        \n",
      "4071    [point, mr, brando, announced, put, continued,...\n",
      "4072    [martin, be, freed, serving, today, thirds, se...\n",
      "4073    [duisenberg, have, concluded, has, improved, l...\n",
      "4074         [notification, was, reported, friday, msnbc]\n",
      "4075    [bond, us, yt, rr, rose, yield, percent, wedne...\n",
      "Name: String1, Length: 4076, dtype: object\n",
      "Number of sentences processed in the String1 column: 4076\n",
      "Number of sentences processed in the String2 column: 4076\n",
      "About to preprocess stanza data\n",
      "data/msr_paraphrase_test_stanza.txt\n",
      "data/msr_paraphrase_test_stanza.txt already exists\n",
      "Done preprocessing stanza data\n",
      "0       [operating, officer, pccw, mike, butcher, alex...\n",
      "1       [automakers, world, said, declined, predicted,...\n",
      "2       [federal, centers, disease, control, preventio...\n",
      "3       [storm, developed, was, expected, hit, gulf, m...\n",
      "4       [company, did, detail, costs, replacement, rep...\n",
      "                              ...                        \n",
      "1720    [hughes, refused, rehire, complained, hernande...\n",
      "1721              [are, democrats, assembly, republicans]\n",
      "1722    [bethany, hamilton, remained, condition, satur...\n",
      "1723    [week, power, station, aes, corp, walked, refu...\n",
      "1724                                              [sobig]\n",
      "Name: String1, Length: 1725, dtype: object\n",
      "Number of sentences processed in the String1 column: 1725\n",
      "Number of sentences processed in the String2 column: 1725\n"
     ]
    }
   ],
   "source": [
    "word2vec, max_sentence_length = init_word2vec('data/msr_paraphrase_train.txt', 'data/msr_paraphrase_test.txt')\n",
    "train_dataset = MSPCDataset('data/msr_paraphrase_train.txt', word2vec, max_sentence_length)\n",
    "test_dataset = MSPCDataset('data/msr_paraphrase_test.txt', word2vec, max_sentence_length)\n",
    "\n",
    "train_dataloader = DataLoader(train_dataset, batch_size=64, shuffle=False)\n",
    "test_dataloader = DataLoader(test_dataset, batch_size=64, shuffle=False)"
   ],
   "metadata": {
    "collapsed": false
   }
  },
  {
   "cell_type": "code",
   "execution_count": 375,
   "outputs": [
    {
     "name": "stdout",
     "output_type": "stream",
     "text": [
      "About to preprocess spacy data\n",
      "data/msr_paraphrase_train_stanza.txt\n",
      "data/msr_paraphrase_train_stanza.txt already exists\n",
      "Done preprocessing spacy data\n",
      "About to preprocess data\n",
      "data/msr_paraphrase_test_stanza.txt\n",
      "data/msr_paraphrase_test_stanza.txt already exists\n",
      "Done preprocessing data\n",
      "About to preprocess stanza data\n",
      "data/msr_paraphrase_train_stanza.txt\n",
      "data/msr_paraphrase_train_stanza.txt already exists\n",
      "Done preprocessing stanza data\n",
      "0       [amrozi, accused, called, distorting, brother,...\n",
      "1       [yucaipa, owned, selling, dominick, chain, saf...\n",
      "2       [had, published, offering, added, advertisemen...\n",
      "3       [gmt, tab, shares, were, having, set, cents, h...\n",
      "4       [stock, rose, close, percent, friday, stock, e...\n",
      "                              ...                        \n",
      "4071    [point, mr, brando, announced, put, continued,...\n",
      "4072    [martin, be, freed, serving, today, thirds, se...\n",
      "4073    [duisenberg, have, concluded, has, improved, l...\n",
      "4074         [notification, was, reported, friday, msnbc]\n",
      "4075    [bond, us, yt, rr, rose, yield, percent, wedne...\n",
      "Name: String1, Length: 4076, dtype: object\n",
      "Number of sentences processed in the String1 column: 4076\n",
      "Number of sentences processed in the String2 column: 4076\n",
      "About to preprocess stanza data\n",
      "data/msr_paraphrase_test_stanza.txt\n",
      "data/msr_paraphrase_test_stanza.txt already exists\n",
      "Done preprocessing stanza data\n",
      "0       [operating, officer, pccw, mike, butcher, alex...\n",
      "1       [automakers, world, said, declined, predicted,...\n",
      "2       [federal, centers, disease, control, preventio...\n",
      "3       [storm, developed, was, expected, hit, gulf, m...\n",
      "4       [company, did, detail, costs, replacement, rep...\n",
      "                              ...                        \n",
      "1720    [hughes, refused, rehire, complained, hernande...\n",
      "1721              [are, democrats, assembly, republicans]\n",
      "1722    [bethany, hamilton, remained, condition, satur...\n",
      "1723    [week, power, station, aes, corp, walked, refu...\n",
      "1724                                              [sobig]\n",
      "Name: String1, Length: 1725, dtype: object\n",
      "Number of sentences processed in the String1 column: 1725\n",
      "Number of sentences processed in the String2 column: 1725\n"
     ]
    }
   ],
   "source": [
    "word2vec_raw_sentences, max_sentence_length_raw_sentences = init_word2vec('data/msr_paraphrase_train.txt', 'data/msr_paraphrase_test.txt')\n",
    "train_dataset_raw_sentences = MSPCDataset('data/msr_paraphrase_train.txt', word2vec_raw_sentences, max_sentence_length_raw_sentences)\n",
    "test_dataset_raw_sentences = MSPCDataset('data/msr_paraphrase_test.txt', word2vec_raw_sentences, max_sentence_length_raw_sentences)\n",
    "\n",
    "train_dataloader_raw_sentences = DataLoader(train_dataset_raw_sentences, batch_size=64, shuffle=False)\n",
    "test_dataloader_raw_sentences = DataLoader(test_dataset_raw_sentences, batch_size=64, shuffle=False)"
   ],
   "metadata": {
    "collapsed": false
   }
  },
  {
   "cell_type": "code",
   "execution_count": 376,
   "outputs": [
    {
     "name": "stdout",
     "output_type": "stream",
     "text": [
      "About to preprocess spacy data\n",
      "data/msr_paraphrase_train_stanza.txt\n",
      "data/msr_paraphrase_train_stanza.txt already exists\n",
      "Done preprocessing spacy data\n",
      "About to preprocess data\n",
      "data/msr_paraphrase_test_stanza.txt\n",
      "data/msr_paraphrase_test_stanza.txt already exists\n",
      "Done preprocessing data\n",
      "About to preprocess stanza data\n",
      "data/msr_paraphrase_train_stanza.txt\n",
      "data/msr_paraphrase_train_stanza.txt already exists\n",
      "Done preprocessing stanza data\n",
      "0       [amrozi, accused, called, distorting, brother,...\n",
      "1       [yucaipa, owned, selling, dominick, chain, saf...\n",
      "2       [had, published, offering, added, advertisemen...\n",
      "3       [gmt, tab, shares, were, having, set, cents, h...\n",
      "4       [stock, rose, close, percent, friday, stock, e...\n",
      "                              ...                        \n",
      "4071    [point, mr, brando, announced, put, continued,...\n",
      "4072    [martin, be, freed, serving, today, thirds, se...\n",
      "4073    [duisenberg, have, concluded, has, improved, l...\n",
      "4074         [notification, was, reported, friday, msnbc]\n",
      "4075    [bond, us, yt, rr, rose, yield, percent, wedne...\n",
      "Name: String1, Length: 4076, dtype: object\n",
      "Number of sentences processed in the String1 column: 4076\n",
      "Number of sentences processed in the String2 column: 4076\n",
      "About to preprocess stanza data\n",
      "data/msr_paraphrase_test_stanza.txt\n",
      "data/msr_paraphrase_test_stanza.txt already exists\n",
      "Done preprocessing stanza data\n",
      "0       [operating, officer, pccw, mike, butcher, alex...\n",
      "1       [automakers, world, said, declined, predicted,...\n",
      "2       [federal, centers, disease, control, preventio...\n",
      "3       [storm, developed, was, expected, hit, gulf, m...\n",
      "4       [company, did, detail, costs, replacement, rep...\n",
      "                              ...                        \n",
      "1720    [hughes, refused, rehire, complained, hernande...\n",
      "1721              [are, democrats, assembly, republicans]\n",
      "1722    [bethany, hamilton, remained, condition, satur...\n",
      "1723    [week, power, station, aes, corp, walked, refu...\n",
      "1724                                              [sobig]\n",
      "Name: String1, Length: 1725, dtype: object\n",
      "Number of sentences processed in the String1 column: 1725\n",
      "Number of sentences processed in the String2 column: 1725\n"
     ]
    }
   ],
   "source": [
    "word2vec_spacy_sentences, max_sentence_length_spacy_sentences = init_word2vec('data/msr_paraphrase_train.txt', 'data/msr_paraphrase_test.txt')\n",
    "train_dataset_spacy_sentences = MSPCDataset('data/msr_paraphrase_train.txt', word2vec_spacy_sentences, max_sentence_length_spacy_sentences)\n",
    "test_dataset_spacy_sentences = MSPCDataset('data/msr_paraphrase_test.txt', word2vec_spacy_sentences, max_sentence_length_spacy_sentences)\n",
    "\n",
    "train_dataloader_spacy_sentences = DataLoader(train_dataset_spacy_sentences, batch_size=64, shuffle=False)\n",
    "test_dataloader_spacy_sentences = DataLoader(test_dataset_spacy_sentences, batch_size=64, shuffle=False)"
   ],
   "metadata": {
    "collapsed": false
   }
  },
  {
   "cell_type": "code",
   "execution_count": 377,
   "outputs": [],
   "source": [
    "def conv_output_volume(W, F, S, P):\n",
    "\n",
    "    \"\"\"\n",
    "    TODO: Given the input volume size $W$, the kernel/filter size $F$,\n",
    "    the stride $S$, and the amount of zero padding $P$ used on the border,\n",
    "    calculate the output volume size.\n",
    "    Note the output should a integer.\n",
    "    \"\"\"\n",
    "\n",
    "    # your code here\n",
    "    #https://cs231n.github.io/convolutional-networks/\n",
    "\n",
    "    return int((W-F+2*P)/S+1)"
   ],
   "metadata": {
    "collapsed": false,
    "ExecuteTime": {
     "start_time": "2023-04-07T14:32:15.557166Z",
     "end_time": "2023-04-07T14:32:15.560063Z"
    }
   }
  },
  {
   "cell_type": "code",
   "execution_count": 378,
   "outputs": [
    {
     "name": "stdout",
     "output_type": "stream",
     "text": [
      "50\n"
     ]
    }
   ],
   "source": [
    "print(conv_output_volume(50, 3, 1, 1))"
   ],
   "metadata": {
    "collapsed": false,
    "ExecuteTime": {
     "start_time": "2023-04-07T14:32:18.231576Z",
     "end_time": "2023-04-07T14:32:18.377984Z"
    }
   }
  },
  {
   "cell_type": "markdown",
   "source": [
    "## Pooling Layers\n",
    "\n",
    "The original paper used a dynamic k-max pooling method in their model. The _k_ value is determine by equation (1).\n",
    "\n",
    "\\begin{equation*} k=\\max \\left({k_{top},\\left \\lceil{ \\frac {L-l}{L} \\left |{ s }\\right | }\\right \\rceil }\\right)\\end{equation*}\n",
    "\n",
    "__Dynamic K-Max Pooling Implementation:__"
   ],
   "metadata": {
    "collapsed": false
   }
  },
  {
   "cell_type": "code",
   "execution_count": 379,
   "outputs": [],
   "source": [
    "# #https://gist.github.com/anna-hope/7a2b2e66c3645aa8e4f94dbf06aed8dc\n",
    "# \"\"\"\n",
    "# TODO: Remove hardcoded values and max it dynamic.\n",
    "# \"\"\"\n",
    "# class DynamicKMaxPooling(nn.Module):\n",
    "#     def __init__(self, k_init, conv_layers, layer):\n",
    "#         super().__init__()\n",
    "#         # \"L is the total  number  of  convolutional  layers\n",
    "#         # in  the  network;\n",
    "#         # ktop is the fixed pooling parameter for the\n",
    "#         # topmost  convolutional  layer\"\n",
    "#         self.k_init = k_init\n",
    "#         self.conv_layers = conv_layers\n",
    "#         self.layer = layer\n",
    "#\n",
    "#     def forward(self, X):\n",
    "#         s = 50\n",
    "#         dyn_k = ((self.conv_layers - self.layer) / self.conv_layers) * 3\n",
    "#         k_max = int(round(max(self.k_init, np.ceil(dyn_k))))\n",
    "#         print(k_max)\n",
    "#         out = F.max_pool1d(X, kernel_size=k_max)\n",
    "#         return out"
   ],
   "metadata": {
    "collapsed": false,
    "ExecuteTime": {
     "start_time": "2023-04-07T15:50:59.023740Z",
     "end_time": "2023-04-07T15:50:59.325715Z"
    }
   }
  },
  {
   "cell_type": "markdown",
   "source": [
    "## Sentence Similarity Convolution Network (SSCN)"
   ],
   "metadata": {
    "collapsed": false
   }
  },
  {
   "cell_type": "markdown",
   "source": [
    "### Pooling Layers\n",
    "\n",
    "The original paper used a dynamic k-max pooling method in their model. The _k_ value is determine by equation (1).\n",
    "\n",
    "\\begin{equation*} k=\\max \\left({k_{top},\\left \\lceil{ \\frac {L-l}{L} \\left |{ s }\\right | }\\right \\rceil }\\right)\\end{equation*}\n",
    "\n",
    "__Dynamic K-Max Pooling Implementation:__"
   ],
   "metadata": {
    "collapsed": false
   }
  },
  {
   "cell_type": "code",
   "execution_count": 380,
   "outputs": [],
   "source": [
    "#https://gist.github.com/anna-hope/7a2b2e66c3645aa8e4f94dbf06aed8dc\n",
    "\"\"\"\n",
    "TODO: Remove hardcoded values and max it dynamic.\n",
    "\"\"\"\n",
    "class DynamicKMaxPooling(nn.Module):\n",
    "    def __init__(self, k_init, conv_layers):\n",
    "        super().__init__()\n",
    "        # \"L is the total  number  of  convolutional  layers\n",
    "        # in  the  network;\n",
    "        # ktop is the fixed pooling parameter for the\n",
    "        # topmost  convolutional  layer\"\n",
    "        self.k_init = k_init\n",
    "        self.conv_layers = conv_layers\n",
    "\n",
    "    def pool(self, X, l):\n",
    "        # s is sequence length\n",
    "        # l is current layer in network\n",
    "        s = X.shape[2]\n",
    "        dyn_k = ((self.conv_layers - l) / self.conv_layers) * s\n",
    "        k_max = int(round(max(self.k_init, np.ceil(dyn_k))))\n",
    "        return F.max_pool1d(X, kernel_size=k_max)\n",
    "\n",
    "    def forward(self, X):\n",
    "        for layer_i in range(self.conv_layers,0,-1):\n",
    "            X = self.pool(X, layer_i)\n",
    "\n",
    "        return X"
   ],
   "metadata": {
    "collapsed": false,
    "ExecuteTime": {
     "start_time": "2023-04-08T00:35:09.384185Z",
     "end_time": "2023-04-08T00:35:09.528064Z"
    }
   }
  },
  {
   "cell_type": "markdown",
   "source": [
    "Testing Dynamic K-Max Pooling Layer"
   ],
   "metadata": {
    "collapsed": false
   }
  },
  {
   "cell_type": "code",
   "execution_count": 381,
   "outputs": [],
   "source": [
    "NUM_OF_SAMPLES = 20\n",
    "SAMPLE_SIZE = 2\n",
    "OUTPUT_SIZE = 15\n",
    "\n",
    "test_embedding = torch.rand((NUM_OF_SAMPLES, SAMPLE_SIZE, OUTPUT_SIZE))\n",
    "dyn_k_layer = DynamicKMaxPooling(3, SAMPLE_SIZE)\n",
    "\n",
    "# Call forward with convolution layer index [2,1]\n",
    "out = dyn_k_layer(test_embedding)\n",
    "\n",
    "assert out.shape[2] == 1\n",
    "assert out.shape[1] == SAMPLE_SIZE\n",
    "assert out.shape[0] == NUM_OF_SAMPLES"
   ],
   "metadata": {
    "collapsed": false,
    "ExecuteTime": {
     "start_time": "2023-04-08T00:35:09.384376Z",
     "end_time": "2023-04-08T00:35:09.528155Z"
    }
   }
  },
  {
   "cell_type": "markdown",
   "source": [
    "### Sentence Similarity\n",
    "\n",
    " \\begin{align*} Man(\\vec V_{x}, \\vec V_{y})=&\\left |{ x_{1}-y_{1} }\\right |\\! +\\! \\left |{ x_{2}-y_{2} }\\right | \\!+ \\!\\ldots \\!+ \\!\\left |{ x_{n}-y_{n} }\\right |\n",
    " \\\\ score=&e^{-Man(\\vec V_{x}, \\vec V_{y})},\\quad score\\in [{0,1}] \\end{align*}"
   ],
   "metadata": {
    "collapsed": false
   }
  },
  {
   "cell_type": "code",
   "execution_count": 382,
   "outputs": [],
   "source": [
    "\"\"\"\n",
    "* X: Pooled output of SSCN model of shape (sample_size, -1)\n",
    "* For the purpose of this experiment sample_size = 2\n",
    "\"\"\"\n",
    "def manhattan_similarity_score(X):\n",
    "    sample_count, _, M = X.shape\n",
    "    Vx = X[:,0].reshape((sample_count,M))\n",
    "    Vy = X[:,1].reshape((sample_count,M))\n",
    "    mdist = torch.sum(torch.abs(Vx-Vy),dim=1).view(sample_count,-1)\n",
    "    score = torch.exp(-1*mdist)\n",
    "    return score"
   ],
   "metadata": {
    "collapsed": false,
    "ExecuteTime": {
     "start_time": "2023-04-08T00:35:09.385728Z",
     "end_time": "2023-04-08T00:35:09.528218Z"
    }
   }
  },
  {
   "cell_type": "code",
   "execution_count": 383,
   "outputs": [],
   "source": [
    "class KMaxPool1d(nn.Module):\n",
    "    def __init__(self, k):\n",
    "        super(KMaxPool1d, self).__init__()\n",
    "        self.k = k\n",
    "\n",
    "    def forward(self, x):\n",
    "        # input shape (batch_size, num_channels, sequence_length)\n",
    "        # output shape (batch_size num_channels, k)\n",
    "        k_max_values, k_max_indices  = torch.topk(x, self.k, dim=2)\n",
    "        return k_max_values"
   ],
   "metadata": {
    "collapsed": false
   }
  },
  {
   "cell_type": "code",
   "execution_count": 384,
   "outputs": [],
   "source": [
    "class DynamicKMaxPoolId(nn.Module):\n",
    "    def __init__(self, k, l, L):\n",
    "        super(DynamicKMaxPoolId, self).__init__()\n",
    "        self.k = k\n",
    "        self.l = l\n",
    "        self.L = L\n",
    "\n",
    "    def forward(self, x, sentence_length):\n",
    "        ktop = max(self.k, int((self.L - self.l)/self.L * sentence_length))\n",
    "        #print(f\"ktop: {ktop}\")\n",
    "        k_max_values, k_max_indices = torch.topk(x, ktop, dim=2)\n",
    "        return k_max_values\n"
   ],
   "metadata": {
    "collapsed": false
   }
  },
  {
   "cell_type": "code",
   "execution_count": 385,
   "outputs": [],
   "source": [
    "import torch\n",
    "import torch.nn as nn\n",
    "import torch.nn.functional as F\n",
    "\n",
    "class SentenceSimilarityCNN2(nn.Module):\n",
    "    def __init__(self, embedding_dim, num_filters, filter_size, hidden_dim, dropout_prob=0.5):\n",
    "        super(SentenceSimilarityCNN2, self).__init__()\n",
    "        #self.embedding = nn.Embedding(vocab_size, embedding_dim)\n",
    "        # self.conv_layers = nn.ModuleList([\n",
    "        #     nn.Conv1d(in_channels=embedding_dim, out_channels=num_filters, kernel_size=fs)\n",
    "        #     for fs in filter_sizes\n",
    "        # ])\n",
    "\n",
    "        self.conv1 = nn.Conv1d(in_channels=embedding_dim, out_channels=num_filters, kernel_size=filter_size)\n",
    "        self.conv2 = nn.Conv1d(in_channels= num_filters, out_channels=num_filters * 2, kernel_size=filter_size)\n",
    "\n",
    "        self.pool1 = DynamicKMaxPoolId(k=3, l=1, L=2)\n",
    "\n",
    "        self.k = 3\n",
    "        self.kmaxPool1d = KMaxPool1d(k=3)\n",
    "\n",
    "        #self.fc1 = nn.Linear(self.k * num_filters , hidden_dim)\n",
    "        self.fc1 = nn.Linear(self.k * num_filters * 2, hidden_dim)\n",
    "\n",
    "\n",
    "        #self.fc1 = nn.Linear(num_filters * len(filter_size), hidden_dim)\n",
    "        #self.dropout = nn.Dropout(dropout_prob)\n",
    "        #self.fc2 = nn.Linear(hidden_dim, 1)\n",
    "\n",
    "    def forward(self, input1_embedded, input2_embedded):\n",
    "\n",
    "        # input: input1_embedded is sentence1 and input2_embedding is sentence2\n",
    "        # input shape: (batch_size, max_sentence_length, embedding_size)\n",
    "        #output shap: (50) dimension vector that represents the sentence\n",
    "        # output: similarity score\n",
    "        sent_length1 = (torch.nonzero(input1_embedded).max(dim=0).values[1] + 1).item()\n",
    "        sent_length2 = (torch.nonzero(input2_embedded).max(dim=0).values[1] + 1).item()\n",
    "        #print(f\"sent length1: {sent_length1} AND sent length2: {sent_length2}\")\n",
    "\n",
    "        # Convolution\n",
    "        #input1_conv = [F.relu(conv(input1_embedded.permute(0, 2, 1))) for conv in self.conv_layers]\n",
    "        #input2_conv = [F.relu(conv(input2_embedded.permute(0, 2, 1))) for conv in self.conv_layers]\n",
    "\n",
    "        input1_embedded = self.conv1(input1_embedded.permute(0, 2, 1))\n",
    "        input2_embedded = self.conv1(input2_embedded.permute(0, 2, 1))\n",
    "        #print(f\"output of convolution: {input1_embedded.shape}\")\n",
    "\n",
    "        input1_embedded = torch.relu(input1_embedded)\n",
    "        input2_embedded = torch.relu(input2_embedded)\n",
    "\n",
    "        input1_embedded = self.pool1(input1_embedded, sent_length1)\n",
    "        input2_embedded = self.pool1(input2_embedded, sent_length2)\n",
    "        #print(f\"output of pool1: {input1_embedded.shape}\")\n",
    "\n",
    "        input1_embedded = self.conv2(input1_embedded)\n",
    "        input2_embedded = self.conv2(input2_embedded)\n",
    "\n",
    "        input1_embedded = torch.relu(input1_embedded)\n",
    "        input2_embedded = torch.relu(input2_embedded)\n",
    "\n",
    "        input1_embedded = self.kmaxPool1d(input1_embedded)\n",
    "        input2_embedded = self.kmaxPool1d(input2_embedded)\n",
    "        #print(f\"output of k-max pool: {input1_embedded.shape}\")\n",
    "\n",
    "\n",
    "        input1_embedded = input1_embedded.view(input1_embedded.shape[0], input1_embedded.shape[1] * input1_embedded.shape[2])\n",
    "        input2_embedded = input2_embedded.view(input2_embedded.shape[0], input2_embedded.shape[1] * input2_embedded.shape[2])\n",
    "\n",
    "        #kmax_input1_embedded = self.kmaxPool1d(input1_embedded)\n",
    "        #input1_embedded = F.max_pool1d(input1_embedded, input1_embedded.shape[2]).squeeze(2)\n",
    "        #nput2_embedded = F.max_pool1d(input2_embedded, input2_embedded.shape[2]).squeeze(2)\n",
    "        #print(f\"output of max pool: {input1_embedded.shape}\")\n",
    "        #print(f\"output of kmax pool: {kmax_input1_embedded.shape}\")\n",
    "\n",
    "        input1_embedded = self.fc1(input1_embedded)\n",
    "        input2_embedded = self.fc1(input2_embedded)\n",
    "        #print(input1_embedded.shape)\n",
    "\n",
    "        man_dist = torch.sum(torch.abs(input1_embedded - input2_embedded), axis=1)\n",
    "        # sentence1_mean = torch.mean(x1, axis=1)\n",
    "        # sentence2_mean = torch.mean(x2, axis=1)\n",
    "        # man_dist = torch.sum(torch.abs(sentence1_mean - sentence2_mean), axis=1)\n",
    "        # print(man_dist.shape)\n",
    "\n",
    "        return torch.exp(-man_dist)\n",
    "\n",
    "\n",
    "        #input2_embedded = self.conv1(input2_embedded.permute(0, 2, 1))\n",
    "\n",
    "\n",
    "        # Max pooling\n",
    "        # input1_pooled = [F.max_pool1d(conv, conv.shape[2]).squeeze(2) for conv in input1_conv]\n",
    "        # input2_pooled = [F.max_pool1d(conv, conv.shape[2]).squeeze(2) for conv in input2_conv]\n",
    "        #\n",
    "        # # Concatenate and flatten\n",
    "        # input1_concat = torch.cat(input1_pooled, dim=1)\n",
    "        # input2_concat = torch.cat(input2_pooled, dim=1)\n",
    "        #\n",
    "        # # Concatenate the two sentence representations\n",
    "        # sentence_similarity = torch.cat([input1_concat, input2_concat], dim=1)\n",
    "        #\n",
    "        # # Dense layers\n",
    "        # #sentence_similarity = self.dropout(F.relu(self.fc1(sentence_similarity)))\n",
    "        # #sentence_similarity = self.fc2(sentence_similarity)\n",
    "        #\n",
    "        # return torch.sigmoid(sentence_similarity)"
   ],
   "metadata": {
    "collapsed": false
   }
  },
  {
   "cell_type": "code",
   "execution_count": 387,
   "outputs": [
    {
     "name": "stdout",
     "output_type": "stream",
     "text": [
      "Epoch 0: curr_epoch_loss=0.2211795300245285\n",
      "Epoch 1: curr_epoch_loss=0.2160547375679016\n",
      "Epoch 2: curr_epoch_loss=0.2127160280942917\n",
      "Epoch 3: curr_epoch_loss=0.21092328429222107\n",
      "Epoch 4: curr_epoch_loss=0.20905838906764984\n",
      "Epoch 5: curr_epoch_loss=0.2082398235797882\n",
      "Epoch 6: curr_epoch_loss=0.20603428781032562\n",
      "Epoch 7: curr_epoch_loss=0.20533967018127441\n",
      "Epoch 8: curr_epoch_loss=0.2031565010547638\n",
      "Epoch 9: curr_epoch_loss=0.20231884717941284\n",
      "Epoch 10: curr_epoch_loss=0.20047424733638763\n",
      "Epoch 11: curr_epoch_loss=0.2002699226140976\n",
      "Epoch 12: curr_epoch_loss=0.19969266653060913\n",
      "Epoch 13: curr_epoch_loss=0.1986459493637085\n",
      "Epoch 14: curr_epoch_loss=0.1971549689769745\n",
      "Epoch 15: curr_epoch_loss=0.19617155194282532\n",
      "Epoch 16: curr_epoch_loss=0.19549560546875\n",
      "Epoch 17: curr_epoch_loss=0.19503742456436157\n",
      "Epoch 18: curr_epoch_loss=0.19341272115707397\n",
      "Epoch 19: curr_epoch_loss=0.19196683168411255\n",
      "Epoch 20: curr_epoch_loss=0.19134637713432312\n",
      "Epoch 21: curr_epoch_loss=0.19065362215042114\n",
      "Epoch 22: curr_epoch_loss=0.18969325721263885\n",
      "Epoch 23: curr_epoch_loss=0.18884935975074768\n",
      "Epoch 24: curr_epoch_loss=0.1880156248807907\n",
      "Epoch 25: curr_epoch_loss=0.18667104840278625\n",
      "Epoch 26: curr_epoch_loss=0.18611761927604675\n",
      "Epoch 27: curr_epoch_loss=0.18521589040756226\n",
      "Epoch 28: curr_epoch_loss=0.18449890613555908\n",
      "Epoch 29: curr_epoch_loss=0.18339979648590088\n",
      "Epoch 30: curr_epoch_loss=0.1824149191379547\n",
      "Epoch 31: curr_epoch_loss=0.18107369542121887\n",
      "Epoch 32: curr_epoch_loss=0.18115803599357605\n",
      "Epoch 33: curr_epoch_loss=0.17983807623386383\n",
      "Epoch 34: curr_epoch_loss=0.17930296063423157\n",
      "Epoch 35: curr_epoch_loss=0.17847348749637604\n",
      "Epoch 36: curr_epoch_loss=0.17784348130226135\n",
      "Epoch 37: curr_epoch_loss=0.17817887663841248\n",
      "Epoch 38: curr_epoch_loss=0.17757493257522583\n",
      "Epoch 39: curr_epoch_loss=0.1759372353553772\n",
      "Epoch 40: curr_epoch_loss=0.17537905275821686\n",
      "Epoch 41: curr_epoch_loss=0.17457884550094604\n",
      "Epoch 42: curr_epoch_loss=0.1738320291042328\n",
      "Epoch 43: curr_epoch_loss=0.17378011345863342\n",
      "Epoch 44: curr_epoch_loss=0.17324143648147583\n",
      "Epoch 45: curr_epoch_loss=0.1723003387451172\n",
      "Epoch 46: curr_epoch_loss=0.17266321182250977\n",
      "Epoch 47: curr_epoch_loss=0.17194515466690063\n",
      "Epoch 48: curr_epoch_loss=0.1717609167098999\n",
      "Epoch 49: curr_epoch_loss=0.1712350845336914\n",
      "Epoch 50: curr_epoch_loss=0.17067062854766846\n",
      "Epoch 51: curr_epoch_loss=0.1712142378091812\n",
      "Epoch 52: curr_epoch_loss=0.16859333217144012\n",
      "Epoch 53: curr_epoch_loss=0.17009630799293518\n",
      "Epoch 54: curr_epoch_loss=0.16866794228553772\n",
      "Epoch 55: curr_epoch_loss=0.1692773401737213\n",
      "Epoch 56: curr_epoch_loss=0.16799381375312805\n",
      "Epoch 57: curr_epoch_loss=0.16731306910514832\n",
      "Epoch 58: curr_epoch_loss=0.16629810631275177\n",
      "Epoch 59: curr_epoch_loss=0.16808325052261353\n",
      "Epoch 60: curr_epoch_loss=0.16670291125774384\n",
      "Epoch 61: curr_epoch_loss=0.16616190969944\n",
      "Epoch 62: curr_epoch_loss=0.16539885103702545\n",
      "Epoch 63: curr_epoch_loss=0.16693851351737976\n",
      "Epoch 64: curr_epoch_loss=0.16432732343673706\n",
      "Epoch 65: curr_epoch_loss=0.16559982299804688\n",
      "Epoch 66: curr_epoch_loss=0.16710086166858673\n",
      "Epoch 67: curr_epoch_loss=0.1667638123035431\n",
      "Epoch 68: curr_epoch_loss=0.16634692251682281\n",
      "Epoch 69: curr_epoch_loss=0.16555067896842957\n",
      "Epoch 70: curr_epoch_loss=0.16476738452911377\n",
      "Epoch 71: curr_epoch_loss=0.16361886262893677\n",
      "Epoch 72: curr_epoch_loss=0.16363607347011566\n",
      "Epoch 73: curr_epoch_loss=0.16358914971351624\n",
      "Epoch 74: curr_epoch_loss=0.16303175687789917\n",
      "Epoch 75: curr_epoch_loss=0.16449680924415588\n",
      "Epoch 76: curr_epoch_loss=0.16400915384292603\n",
      "Epoch 77: curr_epoch_loss=0.1626213788986206\n",
      "Epoch 78: curr_epoch_loss=0.16009071469306946\n",
      "Epoch 79: curr_epoch_loss=0.16003838181495667\n",
      "Epoch 80: curr_epoch_loss=0.16257314383983612\n",
      "Epoch 81: curr_epoch_loss=0.16062238812446594\n",
      "Epoch 82: curr_epoch_loss=0.16323168575763702\n",
      "Epoch 83: curr_epoch_loss=0.16522210836410522\n",
      "Epoch 84: curr_epoch_loss=0.16522900760173798\n",
      "Epoch 85: curr_epoch_loss=0.1673840880393982\n",
      "Epoch 86: curr_epoch_loss=0.1664411723613739\n",
      "Epoch 87: curr_epoch_loss=0.16598734259605408\n",
      "Epoch 88: curr_epoch_loss=0.16151881217956543\n",
      "Epoch 89: curr_epoch_loss=0.16158196330070496\n",
      "Epoch 90: curr_epoch_loss=0.1663776934146881\n",
      "Epoch 91: curr_epoch_loss=0.1624472588300705\n",
      "Epoch 92: curr_epoch_loss=0.1608564555644989\n",
      "Epoch 93: curr_epoch_loss=0.1602446436882019\n",
      "Epoch 94: curr_epoch_loss=0.15842768549919128\n",
      "Epoch 95: curr_epoch_loss=0.16194355487823486\n",
      "Epoch 96: curr_epoch_loss=0.15956050157546997\n",
      "Epoch 97: curr_epoch_loss=0.16233915090560913\n",
      "Epoch 98: curr_epoch_loss=0.16479283571243286\n",
      "Epoch 99: curr_epoch_loss=0.16212843358516693\n",
      "Number of epochs:  100\n",
      "Training dataset size 4076\n",
      "Training time:  0:01:04.810682\n",
      "Epoch 0: curr_epoch_loss=0.22131864726543427\n",
      "Epoch 1: curr_epoch_loss=0.215192049741745\n",
      "Epoch 2: curr_epoch_loss=0.2124996781349182\n",
      "Epoch 3: curr_epoch_loss=0.21070586144924164\n",
      "Epoch 4: curr_epoch_loss=0.2086050659418106\n",
      "Epoch 5: curr_epoch_loss=0.20732471346855164\n",
      "Epoch 6: curr_epoch_loss=0.20508790016174316\n",
      "Epoch 7: curr_epoch_loss=0.2042752504348755\n",
      "Epoch 8: curr_epoch_loss=0.20335818827152252\n",
      "Epoch 9: curr_epoch_loss=0.20195272564888\n",
      "Epoch 10: curr_epoch_loss=0.20072445273399353\n",
      "Epoch 11: curr_epoch_loss=0.19922566413879395\n",
      "Epoch 12: curr_epoch_loss=0.19880959391593933\n",
      "Epoch 13: curr_epoch_loss=0.19717255234718323\n",
      "Epoch 14: curr_epoch_loss=0.19640116393566132\n",
      "Epoch 15: curr_epoch_loss=0.19507786631584167\n",
      "Epoch 16: curr_epoch_loss=0.19502468407154083\n",
      "Epoch 17: curr_epoch_loss=0.19414125382900238\n",
      "Epoch 18: curr_epoch_loss=0.1929851472377777\n",
      "Epoch 19: curr_epoch_loss=0.19221365451812744\n",
      "Epoch 20: curr_epoch_loss=0.19148918986320496\n",
      "Epoch 21: curr_epoch_loss=0.19044137001037598\n",
      "Epoch 22: curr_epoch_loss=0.19010408222675323\n",
      "Epoch 23: curr_epoch_loss=0.18994995951652527\n",
      "Epoch 24: curr_epoch_loss=0.1882735788822174\n",
      "Epoch 25: curr_epoch_loss=0.1877100020647049\n",
      "Epoch 26: curr_epoch_loss=0.18660759925842285\n",
      "Epoch 27: curr_epoch_loss=0.18633505702018738\n",
      "Epoch 28: curr_epoch_loss=0.18545259535312653\n",
      "Epoch 29: curr_epoch_loss=0.1846054345369339\n",
      "Epoch 30: curr_epoch_loss=0.18505775928497314\n",
      "Epoch 31: curr_epoch_loss=0.18448075652122498\n",
      "Epoch 32: curr_epoch_loss=0.18361587822437286\n",
      "Epoch 33: curr_epoch_loss=0.18262511491775513\n",
      "Epoch 34: curr_epoch_loss=0.18147210776805878\n",
      "Epoch 35: curr_epoch_loss=0.1822674423456192\n",
      "Epoch 36: curr_epoch_loss=0.1817311942577362\n",
      "Epoch 37: curr_epoch_loss=0.18102413415908813\n",
      "Epoch 38: curr_epoch_loss=0.17893971502780914\n",
      "Epoch 39: curr_epoch_loss=0.17857715487480164\n",
      "Epoch 40: curr_epoch_loss=0.1790919154882431\n",
      "Epoch 41: curr_epoch_loss=0.180232435464859\n",
      "Epoch 42: curr_epoch_loss=0.17858795821666718\n",
      "Epoch 43: curr_epoch_loss=0.17820408940315247\n",
      "Epoch 44: curr_epoch_loss=0.17713534832000732\n",
      "Epoch 45: curr_epoch_loss=0.17701566219329834\n",
      "Epoch 46: curr_epoch_loss=0.1774066686630249\n",
      "Epoch 47: curr_epoch_loss=0.1761721670627594\n",
      "Epoch 48: curr_epoch_loss=0.17637956142425537\n",
      "Epoch 49: curr_epoch_loss=0.1760006695985794\n",
      "Epoch 50: curr_epoch_loss=0.17572319507598877\n",
      "Epoch 51: curr_epoch_loss=0.175313338637352\n",
      "Epoch 52: curr_epoch_loss=0.17568963766098022\n",
      "Epoch 53: curr_epoch_loss=0.17420721054077148\n",
      "Epoch 54: curr_epoch_loss=0.173518568277359\n",
      "Epoch 55: curr_epoch_loss=0.1740519106388092\n",
      "Epoch 56: curr_epoch_loss=0.17248022556304932\n",
      "Epoch 57: curr_epoch_loss=0.17008063197135925\n",
      "Epoch 58: curr_epoch_loss=0.17232224345207214\n",
      "Epoch 59: curr_epoch_loss=0.1702992022037506\n",
      "Epoch 60: curr_epoch_loss=0.16928383708000183\n",
      "Epoch 61: curr_epoch_loss=0.16886678338050842\n",
      "Epoch 62: curr_epoch_loss=0.16866350173950195\n",
      "Epoch 63: curr_epoch_loss=0.17002908885478973\n",
      "Epoch 64: curr_epoch_loss=0.17331311106681824\n",
      "Epoch 65: curr_epoch_loss=0.16896769404411316\n",
      "Epoch 66: curr_epoch_loss=0.169562429189682\n",
      "Epoch 67: curr_epoch_loss=0.168587327003479\n",
      "Epoch 68: curr_epoch_loss=0.16935116052627563\n",
      "Epoch 69: curr_epoch_loss=0.16676336526870728\n",
      "Epoch 70: curr_epoch_loss=0.1688787043094635\n",
      "Epoch 71: curr_epoch_loss=0.16534452140331268\n",
      "Epoch 72: curr_epoch_loss=0.16568535566329956\n",
      "Epoch 73: curr_epoch_loss=0.16703899204730988\n",
      "Epoch 74: curr_epoch_loss=0.1664639413356781\n",
      "Epoch 75: curr_epoch_loss=0.16986426711082458\n",
      "Epoch 76: curr_epoch_loss=0.167380228638649\n",
      "Epoch 77: curr_epoch_loss=0.16616970300674438\n",
      "Epoch 78: curr_epoch_loss=0.16672354936599731\n",
      "Epoch 79: curr_epoch_loss=0.16574090719223022\n",
      "Epoch 80: curr_epoch_loss=0.1627771109342575\n",
      "Epoch 81: curr_epoch_loss=0.16293573379516602\n",
      "Epoch 82: curr_epoch_loss=0.1671345829963684\n",
      "Epoch 83: curr_epoch_loss=0.16377097368240356\n",
      "Epoch 84: curr_epoch_loss=0.16380244493484497\n",
      "Epoch 85: curr_epoch_loss=0.161899596452713\n",
      "Epoch 86: curr_epoch_loss=0.16122373938560486\n",
      "Epoch 87: curr_epoch_loss=0.16352349519729614\n",
      "Epoch 88: curr_epoch_loss=0.1632184386253357\n",
      "Epoch 89: curr_epoch_loss=0.1587294638156891\n",
      "Epoch 90: curr_epoch_loss=0.16344769299030304\n",
      "Epoch 91: curr_epoch_loss=0.162069633603096\n",
      "Epoch 92: curr_epoch_loss=0.16149047017097473\n",
      "Epoch 93: curr_epoch_loss=0.16055521368980408\n",
      "Epoch 94: curr_epoch_loss=0.15925657749176025\n",
      "Epoch 95: curr_epoch_loss=0.1631423830986023\n",
      "Epoch 96: curr_epoch_loss=0.15947872400283813\n",
      "Epoch 97: curr_epoch_loss=0.16102071106433868\n",
      "Epoch 98: curr_epoch_loss=0.15896834433078766\n",
      "Epoch 99: curr_epoch_loss=0.16110996901988983\n",
      "Number of epochs:  100\n",
      "Training dataset size 4076\n",
      "Training time:  0:01:05.413042\n",
      "Epoch 0: curr_epoch_loss=0.2209521383047104\n",
      "Epoch 1: curr_epoch_loss=0.21467214822769165\n",
      "Epoch 2: curr_epoch_loss=0.2120722532272339\n",
      "Epoch 3: curr_epoch_loss=0.2093455195426941\n",
      "Epoch 4: curr_epoch_loss=0.20781446993350983\n",
      "Epoch 5: curr_epoch_loss=0.20611794292926788\n",
      "Epoch 6: curr_epoch_loss=0.20495353639125824\n",
      "Epoch 7: curr_epoch_loss=0.20310145616531372\n",
      "Epoch 8: curr_epoch_loss=0.2016509473323822\n",
      "Epoch 9: curr_epoch_loss=0.20053109526634216\n",
      "Epoch 10: curr_epoch_loss=0.20021682977676392\n",
      "Epoch 11: curr_epoch_loss=0.198745995759964\n",
      "Epoch 12: curr_epoch_loss=0.1980760544538498\n",
      "Epoch 13: curr_epoch_loss=0.19652266800403595\n",
      "Epoch 14: curr_epoch_loss=0.19596728682518005\n",
      "Epoch 15: curr_epoch_loss=0.19493736326694489\n",
      "Epoch 16: curr_epoch_loss=0.19318246841430664\n",
      "Epoch 17: curr_epoch_loss=0.19263695180416107\n",
      "Epoch 18: curr_epoch_loss=0.1913757473230362\n",
      "Epoch 19: curr_epoch_loss=0.19093821942806244\n",
      "Epoch 20: curr_epoch_loss=0.19197237491607666\n",
      "Epoch 21: curr_epoch_loss=0.1898992657661438\n",
      "Epoch 22: curr_epoch_loss=0.18914605677127838\n",
      "Epoch 23: curr_epoch_loss=0.18855339288711548\n",
      "Epoch 24: curr_epoch_loss=0.18876786530017853\n",
      "Epoch 25: curr_epoch_loss=0.18857482075691223\n",
      "Epoch 26: curr_epoch_loss=0.18682026863098145\n",
      "Epoch 27: curr_epoch_loss=0.18562200665473938\n",
      "Epoch 28: curr_epoch_loss=0.18445256352424622\n",
      "Epoch 29: curr_epoch_loss=0.18460164964199066\n",
      "Epoch 30: curr_epoch_loss=0.18435926735401154\n",
      "Epoch 31: curr_epoch_loss=0.1841151863336563\n",
      "Epoch 32: curr_epoch_loss=0.18283963203430176\n",
      "Epoch 33: curr_epoch_loss=0.18233001232147217\n",
      "Epoch 34: curr_epoch_loss=0.18206822872161865\n",
      "Epoch 35: curr_epoch_loss=0.183393657207489\n",
      "Epoch 36: curr_epoch_loss=0.18285349011421204\n",
      "Epoch 37: curr_epoch_loss=0.18154288828372955\n",
      "Epoch 38: curr_epoch_loss=0.17997536063194275\n",
      "Epoch 39: curr_epoch_loss=0.17990966141223907\n",
      "Epoch 40: curr_epoch_loss=0.1799599826335907\n",
      "Epoch 41: curr_epoch_loss=0.17822004854679108\n",
      "Epoch 42: curr_epoch_loss=0.1786433607339859\n",
      "Epoch 43: curr_epoch_loss=0.17776453495025635\n",
      "Epoch 44: curr_epoch_loss=0.17648760974407196\n",
      "Epoch 45: curr_epoch_loss=0.17775662243366241\n",
      "Epoch 46: curr_epoch_loss=0.1770719438791275\n",
      "Epoch 47: curr_epoch_loss=0.17527353763580322\n",
      "Epoch 48: curr_epoch_loss=0.17559604346752167\n",
      "Epoch 49: curr_epoch_loss=0.1753975749015808\n",
      "Epoch 50: curr_epoch_loss=0.1748586893081665\n",
      "Epoch 51: curr_epoch_loss=0.1759406477212906\n",
      "Epoch 52: curr_epoch_loss=0.17656949162483215\n",
      "Epoch 53: curr_epoch_loss=0.17541584372520447\n",
      "Epoch 54: curr_epoch_loss=0.17501628398895264\n",
      "Epoch 55: curr_epoch_loss=0.1762460321187973\n",
      "Epoch 56: curr_epoch_loss=0.1743917465209961\n",
      "Epoch 57: curr_epoch_loss=0.17497006058692932\n",
      "Epoch 58: curr_epoch_loss=0.17298147082328796\n",
      "Epoch 59: curr_epoch_loss=0.17611458897590637\n",
      "Epoch 60: curr_epoch_loss=0.17328524589538574\n",
      "Epoch 61: curr_epoch_loss=0.17086467146873474\n",
      "Epoch 62: curr_epoch_loss=0.17262443900108337\n",
      "Epoch 63: curr_epoch_loss=0.17395997047424316\n",
      "Epoch 64: curr_epoch_loss=0.1781425178050995\n",
      "Epoch 65: curr_epoch_loss=0.1768113076686859\n",
      "Epoch 66: curr_epoch_loss=0.1744917333126068\n",
      "Epoch 67: curr_epoch_loss=0.17228633165359497\n",
      "Epoch 68: curr_epoch_loss=0.17172136902809143\n",
      "Epoch 69: curr_epoch_loss=0.17339128255844116\n",
      "Epoch 70: curr_epoch_loss=0.17031016945838928\n",
      "Epoch 71: curr_epoch_loss=0.1714973896741867\n",
      "Epoch 72: curr_epoch_loss=0.16993048787117004\n",
      "Epoch 73: curr_epoch_loss=0.1693260371685028\n",
      "Epoch 74: curr_epoch_loss=0.16901056468486786\n",
      "Epoch 75: curr_epoch_loss=0.1689487099647522\n",
      "Epoch 76: curr_epoch_loss=0.17298808693885803\n",
      "Epoch 77: curr_epoch_loss=0.17475499212741852\n",
      "Epoch 78: curr_epoch_loss=0.17080974578857422\n",
      "Epoch 79: curr_epoch_loss=0.1707414984703064\n",
      "Epoch 80: curr_epoch_loss=0.17017680406570435\n",
      "Epoch 81: curr_epoch_loss=0.16893532872200012\n",
      "Epoch 82: curr_epoch_loss=0.17099407315254211\n",
      "Epoch 83: curr_epoch_loss=0.1713554859161377\n",
      "Epoch 84: curr_epoch_loss=0.16978491842746735\n",
      "Epoch 85: curr_epoch_loss=0.16791589558124542\n",
      "Epoch 86: curr_epoch_loss=0.16565710306167603\n",
      "Epoch 87: curr_epoch_loss=0.16754251718521118\n",
      "Epoch 88: curr_epoch_loss=0.16840454936027527\n",
      "Epoch 89: curr_epoch_loss=0.16841430962085724\n",
      "Epoch 90: curr_epoch_loss=0.1672273576259613\n",
      "Epoch 91: curr_epoch_loss=0.16593685746192932\n",
      "Epoch 92: curr_epoch_loss=0.16507849097251892\n",
      "Epoch 93: curr_epoch_loss=0.16515469551086426\n",
      "Epoch 94: curr_epoch_loss=0.17090824246406555\n",
      "Epoch 95: curr_epoch_loss=0.16618341207504272\n",
      "Epoch 96: curr_epoch_loss=0.16576090455055237\n",
      "Epoch 97: curr_epoch_loss=0.16402855515480042\n",
      "Epoch 98: curr_epoch_loss=0.16033652424812317\n",
      "Epoch 99: curr_epoch_loss=0.1627098172903061\n",
      "Number of epochs:  100\n",
      "Training dataset size 4076\n",
      "Training time:  0:01:04.230206\n"
     ]
    }
   ],
   "source": [
    "vocab_size = len(word2vec.wv)\n",
    "embedding_dim = 50\n",
    "num_filters = 64\n",
    "filter_size = 3\n",
    "hidden_dim = 50\n",
    "dropout = 0.5\n",
    "n_epochs=100\n",
    "\n",
    "def train(train_loader, n_epochs=n_epochs):\n",
    "    model = SentenceSimilarityCNN2(embedding_dim, num_filters, filter_size, hidden_dim)\n",
    "    criterion = nn.MSELoss()\n",
    "    optimizer = torch.optim.SGD(model.parameters(), lr=1e-1)\n",
    "    model.train()\n",
    "\n",
    "    for epoch in range(n_epochs):\n",
    "        curr_epoch_loss = []\n",
    "        for x1, x2, y in train_loader:\n",
    "            #print(x1.shape)\n",
    "            y_hat = model(x1, x2)\n",
    "            loss = criterion(y_hat, y.float())\n",
    "\n",
    "            optimizer.zero_grad()\n",
    "            loss.backward()\n",
    "            optimizer.step()\n",
    "\n",
    "            curr_epoch_loss.append(loss.cpu().data.numpy())\n",
    "\n",
    "        print(f\"Epoch {epoch}: curr_epoch_loss={np.mean(curr_epoch_loss)}\")\n",
    "\n",
    "    return model\n",
    "\n",
    "# Train stanza sentences\n",
    "start_time = datetime.datetime.now()\n",
    "model = train(train_dataloader)\n",
    "end_time = datetime.datetime.now()\n",
    "print(\"Number of epochs: \", n_epochs)\n",
    "print (\"Training dataset size\", len(train_dataset))\n",
    "print(\"Training time: \", (end_time - start_time))\n",
    "\n",
    "# Train the raw sentences\n",
    "start_time = datetime.datetime.now()\n",
    "model_raw_sentences = train(train_dataloader_raw_sentences)\n",
    "end_time = datetime.datetime.now()\n",
    "print(\"Number of epochs: \", n_epochs)\n",
    "print (\"Training dataset size\", len(train_dataset))\n",
    "print(\"Training time: \", (end_time - start_time))\n",
    "\n",
    "# Train spacy sentences\n",
    "start_time = datetime.datetime.now()\n",
    "model_spacy_sentences = train(train_dataloader_spacy_sentences)\n",
    "end_time = datetime.datetime.now()\n",
    "print(\"Number of epochs: \", n_epochs)\n",
    "print (\"Training dataset size\", len(train_dataset))\n",
    "print(\"Training time: \", (end_time - start_time))"
   ],
   "metadata": {
    "collapsed": false
   }
  },
  {
   "cell_type": "code",
   "execution_count": 389,
   "outputs": [
    {
     "name": "stdout",
     "output_type": "stream",
     "text": [
      "size of pos test corpus =  1725\n",
      "accuracy for pos test corpus =  0.6823188405797102\n",
      "size of raw test corpus =  1725\n",
      "accuracy for raw test corpus =  0.6817391304347826\n",
      "size of spacy test corpus =  1725\n",
      "accuracy for spacy test corpus =  0.6782608695652174\n"
     ]
    }
   ],
   "source": [
    "from sklearn.metrics import accuracy_score\n",
    "\n",
    "def eval_model(model, test_dataloader):\n",
    "    model.eval()\n",
    "    Y_pred = []\n",
    "    Y = []\n",
    "    for x1, x2, y in test_dataloader:\n",
    "        y_hat = model(x1, x2)\n",
    "        #print(y_hat)\n",
    "        y_pred = torch.zeros(y_hat.shape)\n",
    "        y_pred = (y_hat > 0.35).int()\n",
    "\n",
    "        Y_pred = np.concatenate((Y_pred, y_pred), axis=0)\n",
    "        Y = np.concatenate((Y, y), axis=0)\n",
    "\n",
    "        #print(y_pred)\n",
    "        #print(y)\n",
    "    return Y_pred, Y\n",
    "\n",
    "y_pred, y = eval_model(model, test_dataloader)\n",
    "y_pred_raw, y_raw = eval_model(model_raw_sentences, test_dataloader_raw_sentences)\n",
    "y_pred_spacy, y_spacy = eval_model(model_spacy_sentences, test_dataloader_spacy_sentences)\n",
    "print(\"size of pos test corpus = \", len(test_dataset))\n",
    "print(\"accuracy for pos test corpus = \", accuracy_score(y, y_pred))\n",
    "\n",
    "print(\"size of raw test corpus = \", len(test_dataset_raw_sentences))\n",
    "print(\"accuracy for raw test corpus = \", accuracy_score(y_raw, y_pred_raw))\n",
    "\n",
    "print(\"size of spacy test corpus = \", len(test_dataset_spacy_sentences))\n",
    "print(\"accuracy for spacy test corpus = \", accuracy_score(y_spacy, y_pred_spacy))"
   ],
   "metadata": {
    "collapsed": false
   }
  },
  {
   "cell_type": "markdown",
   "source": [
    " bn_Testing Similarity Scoring Function_"
   ],
   "metadata": {
    "collapsed": false
   }
  },
  {
   "cell_type": "code",
   "execution_count": 170,
   "outputs": [],
   "source": [
    "NUM_OF_SAMPLES = 20\n",
    "SAMPLE_SIZE = 2\n",
    "OUTPUT_SIZE = 6\n",
    "\n",
    "test_embedding = torch.rand((NUM_OF_SAMPLES, SAMPLE_SIZE, OUTPUT_SIZE))\n",
    "scores = manhattan_similarity_score(test_embedding)\n",
    "\n",
    "assert scores.shape == (NUM_OF_SAMPLES, 1)\n"
   ],
   "metadata": {
    "collapsed": false,
    "ExecuteTime": {
     "start_time": "2023-04-08T00:35:09.386951Z",
     "end_time": "2023-04-08T00:35:09.528280Z"
    }
   }
  },
  {
   "cell_type": "code",
   "execution_count": 171,
   "outputs": [],
   "source": [
    "class SSCN(nn.Module):\n",
    "    def __init__(self, sample_size, stride=1, kernel_size=3, padding=1):\n",
    "        super().__init__()\n",
    "        self.stride = stride\n",
    "        self.kernel_size = kernel_size\n",
    "        self.padding = padding\n",
    "        self.conv_layers =sample_size\n",
    "\n",
    "        #NN layers\n",
    "        self.conv1 = nn.Conv1d(in_channels=self.conv_layers, out_channels=self.conv_layers, \\\n",
    "                               kernel_size=self.kernel_size, padding=self.padding)\n",
    "        self.relu1 = nn.ReLU()\n",
    "        self.conv2 = nn.Conv1d(in_channels=self.conv_layers, out_channels=self.conv_layers, \\\n",
    "                               kernel_size=self.kernel_size, padding=self.padding)\n",
    "        self.relu2 = nn.ReLU()\n",
    "        self.pool1 = DynamicKMaxPooling(self.kernel_size, self.conv_layers)\n",
    "\n",
    "        self.sscn = nn.Sequential(self.conv1, self.relu1, self.conv2, self.relu2, self.pool1)\n",
    "\n",
    "    \"\"\"\n",
    "    * X: Pooled output of SSCN model of shape (sample_size, -1)\n",
    "    * For the purpose of this experiment sample_size = 2\n",
    "    \"\"\"\n",
    "    def manhattan_similarity_score(self, X):\n",
    "        score = manhattan_similarity_score(X)\n",
    "        return score\n",
    "\n",
    "    def forward(self, X):\n",
    "        # X = self.conv1(X)\n",
    "        # print(X.shape)\n",
    "        # X = self.relu1(X)\n",
    "        # print(X.shape)\n",
    "        # X = self.conv1(X)\n",
    "        # print(X.shape)\n",
    "        # X = self.relu2(X)\n",
    "        # print(X.shape)\n",
    "        # X = self.pool1(X)\n",
    "        # print(X.shape)\n",
    "        # X = self.manhattan_similarity_score(X)\n",
    "        # print(X.shape)\n",
    "        X = self.manhattan_similarity_score(self.sscn(X))\n",
    "        return X"
   ],
   "metadata": {
    "collapsed": false,
    "ExecuteTime": {
     "start_time": "2023-04-08T00:35:09.387486Z",
     "end_time": "2023-04-08T00:35:09.528347Z"
    }
   }
  },
  {
   "cell_type": "markdown",
   "source": [
    "__Testing:__"
   ],
   "metadata": {
    "collapsed": false
   }
  },
  {
   "cell_type": "code",
   "execution_count": 172,
   "outputs": [
    {
     "name": "stdout",
     "output_type": "stream",
     "text": [
      "SSCN(\n",
      "  (conv1): Conv1d(2, 2, kernel_size=(3,), stride=(1,), padding=(1,))\n",
      "  (relu1): ReLU()\n",
      "  (conv2): Conv1d(2, 2, kernel_size=(3,), stride=(1,), padding=(1,))\n",
      "  (relu2): ReLU()\n",
      "  (pool1): DynamicKMaxPooling()\n",
      "  (sscn): Sequential(\n",
      "    (0): Conv1d(2, 2, kernel_size=(3,), stride=(1,), padding=(1,))\n",
      "    (1): ReLU()\n",
      "    (2): Conv1d(2, 2, kernel_size=(3,), stride=(1,), padding=(1,))\n",
      "    (3): ReLU()\n",
      "    (4): DynamicKMaxPooling()\n",
      "  )\n",
      ")\n",
      "torch.Size([20, 1])\n"
     ]
    }
   ],
   "source": [
    "NUM_OF_SAMPLES = 20\n",
    "SAMPLE_SIZE = 2\n",
    "UNIQUE_FEATURES = 18\n",
    "\n",
    "test_embedding = torch.rand((NUM_OF_SAMPLES, SAMPLE_SIZE, UNIQUE_FEATURES))\n",
    "\n",
    "model = SSCN(SAMPLE_SIZE)\n",
    "# shape (batch,sample,sentence,word)?\n",
    "print(model)\n",
    "\n",
    "out = model(test_embedding)\n",
    "\n",
    "assert out.shape[0] == NUM_OF_SAMPLES\n",
    "assert out.shape[1] == 1\n",
    "print(out.shape)\n"
   ],
   "metadata": {
    "collapsed": false,
    "ExecuteTime": {
     "start_time": "2023-04-08T00:35:09.388774Z",
     "end_time": "2023-04-08T00:35:09.528518Z"
    }
   }
  }
 ],
 "metadata": {
  "kernelspec": {
   "display_name": "Python 3",
   "language": "python",
   "name": "python3"
  },
  "language_info": {
   "codemirror_mode": {
    "name": "ipython",
    "version": 2
   },
   "file_extension": ".py",
   "mimetype": "text/x-python",
   "name": "python",
   "nbconvert_exporter": "python",
   "pygments_lexer": "ipython2",
   "version": "2.7.6"
  }
 },
 "nbformat": 4,
 "nbformat_minor": 0
}
