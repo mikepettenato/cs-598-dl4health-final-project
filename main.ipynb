{
 "cells": [
  {
   "cell_type": "code",
   "execution_count": 4,
   "outputs": [],
   "source": [
    "import datetime\n",
    "import gensim\n",
    "import numpy as np\n",
    "import os.path\n",
    "import pandas as pd\n",
    "import torch, stanza\n",
    "from torch import nn\n",
    "import torch.nn.functional as F\n",
    "import threading\n"
   ],
   "metadata": {
    "collapsed": false,
    "ExecuteTime": {
     "start_time": "2023-04-07T10:27:17.259590Z",
     "end_time": "2023-04-07T10:27:22.967678Z"
    }
   }
  },
  {
   "cell_type": "markdown",
   "source": [
    "# Data Processing\n",
    "\n",
    "This section can have stuff related to data prep.\n",
    "\n",
    "\n",
    "Should the MSPC Dataset be a part of this section? - Adam"
   ],
   "metadata": {
    "collapsed": false
   }
  },
  {
   "cell_type": "code",
   "execution_count": 5,
   "outputs": [],
   "source": [
    "def read_file(file_name):\n",
    "    # Note: Unable to use pd.read_csv... the function complained about an issue with the formatting of the tsv file\n",
    "    # train = pd.read_csv('data/msr_paraphrase_train.txt', sep='\\t', encoding='latin1')\n",
    "    # train\n",
    "\n",
    "    # opting to read file in and split columns manually to create a pandas dataframe\n",
    "    list = []\n",
    "    with open(file_name, encoding=\"utf8\") as f:\n",
    "        lines = f.readlines()\n",
    "        for i, line in enumerate(lines):\n",
    "            fields = line.split('\\t')\n",
    "            list.append(fields)\n",
    "\n",
    "    df = pd.DataFrame(list[1:], columns=['Quality', 'ID1', 'ID2', 'String1', 'String2'])\n",
    "    return df\n"
   ],
   "metadata": {
    "collapsed": false,
    "ExecuteTime": {
     "start_time": "2023-04-07T10:27:26.951375Z",
     "end_time": "2023-04-07T10:27:27.824663Z"
    }
   }
  },
  {
   "cell_type": "markdown",
   "source": [
    "# Model Definition\n",
    "\n",
    "![Model Overview](./images/overview.png)"
   ],
   "metadata": {
    "collapsed": false
   }
  },
  {
   "cell_type": "markdown",
   "source": [
    "\n",
    "## Input Layer\n",
    "\n",
    "In the input layer is made up of a Stanford Parser to provide a syntactic tree so that the model can extract significant words (mainly, subject, predicate, object) in the input corpus. Word2Vec is then used to map the words into vectors"
   ],
   "metadata": {
    "collapsed": false
   }
  },
  {
   "cell_type": "code",
   "execution_count": 6,
   "outputs": [
    {
     "name": "stderr",
     "output_type": "stream",
     "text": [
      "2023-04-07 10:27:31 INFO: Loading these models for language: en (English):\n",
      "===========================\n",
      "| Processor    | Package  |\n",
      "---------------------------\n",
      "| tokenize     | combined |\n",
      "| pos          | combined |\n",
      "| constituency | wsj      |\n",
      "===========================\n",
      "\n",
      "2023-04-07 10:27:31 INFO: Using device: cpu\n",
      "2023-04-07 10:27:31 INFO: Loading: tokenize\n",
      "2023-04-07 10:27:31 INFO: Loading: pos\n",
      "2023-04-07 10:27:32 INFO: Loading: constituency\n",
      "2023-04-07 10:27:32 INFO: Done loading processors!\n"
     ]
    }
   ],
   "source": [
    "# set 'download_method = None' to not download the resources over and over\n",
    "nlp = stanza.Pipeline(lang='en', processors='tokenize,pos,constituency', download_method=None)\n",
    "\n",
    "def trunk_construction(str, parent_label = None):\n",
    "    doc = nlp(str)\n",
    "    tree = doc.sentences[0].constituency\n",
    "\n",
    "    words = construct_sentence(tree, parent_label)\n",
    "    return ' '.join(words)\n",
    "\n",
    "def construct_sentence(tree, parent_label = None, leave_pos=False):\n",
    "\n",
    "    sentences = []\n",
    "    if 'NN' in tree.label:\n",
    "        if parent_label == 'NP':\n",
    "            # sentences.append(tree)\n",
    "            sentences = sentences + tree.leaf_labels()\n",
    "    if 'VB' in tree.label:\n",
    "        if parent_label == 'VP':\n",
    "            #sentences.append(tree)\n",
    "            sentences = sentences + tree.leaf_labels()\n",
    "    for child in tree.children:\n",
    "        sentences = sentences + construct_sentence(child, tree.label)\n",
    "\n",
    "    return sentences"
   ],
   "metadata": {
    "collapsed": false,
    "ExecuteTime": {
     "start_time": "2023-04-07T10:27:31.418918Z",
     "end_time": "2023-04-07T10:27:32.924174Z"
    }
   }
  },
  {
   "cell_type": "code",
   "execution_count": 7,
   "outputs": [],
   "source": [
    "def test_parser(str, valid_sentence):\n",
    "\n",
    "    new_sentence = trunk_construction(str)\n",
    "    #new_sentence = ' '.join(words)\n",
    "    assert new_sentence == valid_sentence"
   ],
   "metadata": {
    "collapsed": false,
    "ExecuteTime": {
     "start_time": "2023-04-07T10:27:35.938841Z",
     "end_time": "2023-04-07T10:27:36.290044Z"
    }
   }
  },
  {
   "cell_type": "markdown",
   "source": [
    "## Parser Test Cases\n",
    "Test the parser using some of the training data sentences as input and asserting the output sentence matches the algorithm defined in the paper."
   ],
   "metadata": {
    "collapsed": false
   }
  },
  {
   "cell_type": "code",
   "execution_count": 8,
   "outputs": [],
   "source": [
    "test_parser('Syrian forces launch new attacks', \"forces launch attacks\")\n",
    "test_parser(\"\"\"the flat tire was replaced by the driver\"\"\",\"tire was replaced driver\")\n",
    "test_parser(\"\"\"Amrozi accused his brother, whom he called \"the witness\", of deliberately distorting his evidence.\"\"\",\n",
    "           \"Amrozi accused brother called witness distorting evidence\")\n",
    "test_parser(\"\"\"Shares of Genentech, a much larger company with several products on the market, rose more than 2 percent\"\"\",\n",
    "            \"Shares Genentech company products market rose percent\")\n",
    "test_parser(\"\"\"Gyorgy Heizler, head of the local disaster unit, said the coach was carrying 38 passengers.\"\"\",\n",
    "             \"Gyorgy Heizler head disaster unit said coach was carrying passengers\")\n",
    "test_parser(\"\"\"Referring to him as only \"the witness\", Amrozi accused his brother of deliberately distorting his evidence.\"\"\",\n",
    "           \"Referring witness Amrozi accused brother distorting evidence\")\n",
    "test_parser(\"\"\"His wife said he was \"100 percent behind George Bush\" and looked forward to using his years of training in the war.\"\"\",\n",
    "            \"wife said was percent George Bush looked using years training war\")"
   ],
   "metadata": {
    "collapsed": false,
    "ExecuteTime": {
     "start_time": "2023-04-07T10:27:42.653054Z",
     "end_time": "2023-04-07T10:27:48.795723Z"
    }
   }
  },
  {
   "cell_type": "markdown",
   "source": [
    "## Concurrency Parsing\n",
    "Added support for concurrent parsing.  This can help in the performance of the preprocessing"
   ],
   "metadata": {
    "collapsed": false
   }
  },
  {
   "cell_type": "code",
   "execution_count": 9,
   "outputs": [],
   "source": [
    "class SentenceProcessingThread(threading.Thread):\n",
    "    def __init__(self, sentences, output_list, begin, end):\n",
    "        super(SentenceProcessingThread, self).__init__()\n",
    "        self.sentences = sentences\n",
    "        self.nlp = stanza.Pipeline(lang='en', processors='tokenize,pos,constituency', download_method=None, use_gpu=True)\n",
    "        self.output_list = output_list\n",
    "        self.begin = begin\n",
    "        self.end = end\n",
    "\n",
    "    def trunk_construction(self, str, parent_label = None):\n",
    "        doc = self.nlp(str)\n",
    "        tree = doc.sentences[0].constituency\n",
    "\n",
    "        words = construct_sentence(tree, parent_label)\n",
    "        return ' '.join(words)\n",
    "\n",
    "    def run(self):\n",
    "        print(f\"going to process {self.begin} to {self.end}\")\n",
    "        for i, sentence in enumerate(self.sentences):\n",
    "            new_sentence = trunk_construction(sentence)\n",
    "            self.output_list[self.begin + i] = new_sentence\n",
    "\n",
    "def process_sentences_concurrently(sentences, output, p=2):\n",
    "    total = len(sentences)\n",
    "    interval = int(total / p)\n",
    "    threads = []\n",
    "    for i in range(p):\n",
    "        s = i*interval\n",
    "        if i == p-1:\n",
    "            e = total\n",
    "        else:\n",
    "            e = (i+1) * interval\n",
    "        sentences_slice = sentences[s:e]\n",
    "        sentence_thread = SentenceProcessingThread(sentences_slice, output, s, e)\n",
    "        sentence_thread.start()\n",
    "        threads.append(sentence_thread)\n",
    "\n",
    "    for thread in threads:\n",
    "        thread.join()\n",
    "\n",
    "def preprocess_corpus(input_file='data/msr_paraphrase_train.txt', output_file='data/msr_paraphrase_train_stanza.txt', N=None):\n",
    "    if os.path.exists(output_file):\n",
    "        print(f\"{output_file} already exists\")\n",
    "        return\n",
    "\n",
    "    starttime = datetime.datetime.now()\n",
    "    df = read_file(input_file)\n",
    "\n",
    "    if N is None:\n",
    "        N = len(df.String1)\n",
    "\n",
    "    output1 = [None] * N\n",
    "    output2 = [None] * N\n",
    "\n",
    "    # we can process with more threads if we only have CPU\n",
    "    p = 8\n",
    "\n",
    "    if torch.cuda.is_available():\n",
    "        # if cuda is available we don't need that many threads\n",
    "        # and if the number of threads is set too large using cuda\n",
    "        # we can get out of memory exceptions\n",
    "        p = 2\n",
    "        torch.cuda.empty_cache()\n",
    "\n",
    "    process_sentences_concurrently(df.String1[:N], output1, p)\n",
    "\n",
    "    # try and be careful with gpu memory\n",
    "    if torch.cuda.is_available():\n",
    "        torch.cuda.empty_cache()\n",
    "\n",
    "    process_sentences_concurrently(df.String2[:N], output2, p)\n",
    "\n",
    "    endtime = datetime.datetime.now()\n",
    "\n",
    "    print(f\"time to process {N*2} sentences is {endtime - starttime}\")\n",
    "\n",
    "    stanza_df = df[:N]\n",
    "\n",
    "    processed_string1 = pd.Series(output1)\n",
    "    processed_string1.apply(gensim.utils.simple_preprocess)\n",
    "    processed_string2 = pd.Series(output2)\n",
    "    processed_string2.apply(gensim.utils.simple_preprocess)\n",
    "\n",
    "    stanza_df.String1 = processed_string1\n",
    "    stanza_df.String2 = processed_string2\n",
    "\n",
    "    # write the file out.  This can help in the future\n",
    "    stanza_df.to_csv(output_file, sep=\"\\t\")\n"
   ],
   "metadata": {
    "collapsed": false,
    "ExecuteTime": {
     "start_time": "2023-04-07T10:27:51.070988Z",
     "end_time": "2023-04-07T10:27:51.286932Z"
    }
   }
  },
  {
   "cell_type": "markdown",
   "source": [
    "## Sentence Preprocessing\n",
    "pass the input sentences from the training dataset through the stanford/stanza parser, extracting the relevant parts of speech and then tokenize the processed sentences using the gensim.utils.simple_preprocess utility"
   ],
   "metadata": {
    "collapsed": false
   }
  },
  {
   "cell_type": "code",
   "execution_count": 10,
   "outputs": [],
   "source": [
    "# start_time = datetime.datetime.now()\n",
    "#\n",
    "# processed_string1 = df[:500].String1.apply(trunk_construction)\n",
    "# processed_string2 = df[:500].String2.apply(trunk_construction)\n",
    "#\n",
    "# end_time = datetime.datetime.now()\n",
    "#\n",
    "# print (f\"Processing 200 sentences with stanza library took {end_time - start_time}\")\n",
    "#\n",
    "# start_time = datetime.datetime.now()\n",
    "#\n",
    "# processed_string1 = processed_string1.apply(gensim.utils.simple_preprocess)\n",
    "# processed_string2 = processed_string2.apply(gensim.utils.simple_preprocess)\n",
    "#\n",
    "# end_time = datetime.datetime.now()\n",
    "#\n",
    "# print (f\"Processing 200 sentences with gensim.utils.simple_preprocess took {end_time - start_time}\")\n",
    "# print(f\"Number of sentences processed in the String1 column: len(processed_string1\")\n",
    "# print(f\"Number of sentences processed in the String2 column: len(processed_string2\")"
   ],
   "metadata": {
    "collapsed": false,
    "ExecuteTime": {
     "start_time": "2023-04-07T10:27:54.899892Z",
     "end_time": "2023-04-07T10:27:55.183772Z"
    }
   }
  },
  {
   "cell_type": "markdown",
   "source": [
    "# Word2Vec Embeddings\n",
    "Take the preprocessed and tokenized sentences and use Word2Vec to get the word embeddings.  Take each word embedding in a sentence and find the mean which will represent the embedding for the sentence."
   ],
   "metadata": {
    "collapsed": false
   }
  },
  {
   "cell_type": "code",
   "execution_count": 11,
   "outputs": [],
   "source": [
    "# from gensim.models import Word2Vec\n",
    "#\n",
    "# corpus = pd.concat([processed_string1, processed_string2], ignore_index=True)\n",
    "#\n",
    "# #model = Word2Vec(sentences=corpus, vector_size=(len(processed_string1) + len(processed_string2)), min_count=2)\n",
    "# # set vector size to reduce computational complexity\n",
    "# model = Word2Vec(sentences=corpus, min_count=1, window=2, vector_size=50)\n",
    "# #model.build_vocab(sentences=corpus)\n",
    "# #model.train(corpus, total_examples=model.corpus_count, epochs=5)\n",
    "#\n",
    "# print(model)\n",
    "# print(model.wv.key_to_index)\n",
    "#\n",
    "# model.wv.get_vector('president')\n",
    "#\n",
    "# # for index, word in enumerate(model.wv.index_to_key):\n",
    "# #     if index == 120:\n",
    "# #         break\n",
    "# #     print(f\"word #{index}/{len(model.wv.index_to_key)} is {word}\")"
   ],
   "metadata": {
    "collapsed": false,
    "ExecuteTime": {
     "start_time": "2023-04-07T10:27:59.431702Z",
     "end_time": "2023-04-07T10:27:59.448982Z"
    }
   }
  },
  {
   "cell_type": "code",
   "execution_count": 12,
   "outputs": [],
   "source": [
    "from gensim.models import Word2Vec\n",
    "\n",
    "# Function is broken out for testing purposes\n",
    "def generate_word2vec_model(corpus):\n",
    "    # Creating the Word2Vec model\n",
    "    model = Word2Vec(sentences=corpus, min_count=1, window=2, vector_size=50)\n",
    "\n",
    "    return model\n"
   ],
   "metadata": {
    "collapsed": false,
    "ExecuteTime": {
     "start_time": "2023-04-07T10:28:00.478453Z",
     "end_time": "2023-04-07T10:28:00.513705Z"
    }
   }
  },
  {
   "cell_type": "code",
   "execution_count": 13,
   "outputs": [],
   "source": [
    "# Function is broken out for testing purposes\n",
    "def sentence_embeddings(w2v_model, sentence):\n",
    "    list = []\n",
    "    for word in sentence:\n",
    "        list.append(w2v_model.wv.get_vector(word))\n",
    "\n",
    "    word_matrix = np.row_stack(list)\n",
    "    return np.mean(word_matrix, axis=0)"
   ],
   "metadata": {
    "collapsed": false,
    "ExecuteTime": {
     "start_time": "2023-04-07T10:28:03.836224Z",
     "end_time": "2023-04-07T10:28:04.085181Z"
    }
   }
  },
  {
   "cell_type": "code",
   "execution_count": 14,
   "outputs": [],
   "source": [
    "def test_word2vec():\n",
    "\n",
    "    df = read_file('data/msr_paraphrase_train.txt')\n",
    "\n",
    "    sentences1 = df.String1[:5].apply(gensim.utils.simple_preprocess)\n",
    "    sentences2 = df.String2[:5].apply(gensim.utils.simple_preprocess)\n",
    "\n",
    "    corpus = pd.concat([sentences1, sentences2], ignore_index=True)\n",
    "\n",
    "    model = generate_word2vec_model(corpus)\n",
    "\n",
    "    # Not sure if this will always generate the same embedding\n",
    "    test_embedding = np.array([-0.00113049, -0.00124808,  0.00252251,  0.00058141,  0.00187964,  0.00379025,\n",
    "              -0.00012356,  0.00347055, -0.00241507,  0.00545258, -0.00574078, -0.00489824,\n",
    "              -0.00224492,  0.00744946,  0.00350835, -0.00139295, -0.00081134,  0.00655962,\n",
    "              0.00244374, -0.00447209, -0.00124291, -0.00092616,  0.0021044,  -0.00092541,\n",
    "              0.00284307,  0.00367638,  0.00364716,  0.00519976, -0.00088121,  0.00109841,\n",
    "              -0.00219322, -0.00372483,  0.00078702, -0.00612309, -0.00312131,  0.00088071,\n",
    "              0.00503909, -0.0009484,  -0.00068209, -0.0004782,   0.00367015,  0.00314679,\n",
    "              -0.00302592,  0.00346377,  0.00151145, -0.00076442, -0.0012528,  -0.00087095,\n",
    "              -0.00075365,  0.00468711])\n",
    "\n",
    "    embedding = sentence_embeddings(model, corpus[0])\n",
    "\n",
    "    assert embedding.shape == (50,)\n",
    "\n",
    "    # not sure if this will always be equal based on comment on test_embedding variable\n",
    "    assert np.allclose(embedding, test_embedding)\n",
    "\n",
    "test_word2vec()"
   ],
   "metadata": {
    "collapsed": false,
    "ExecuteTime": {
     "start_time": "2023-04-07T10:28:06.244815Z",
     "end_time": "2023-04-07T10:28:06.342537Z"
    }
   }
  },
  {
   "cell_type": "code",
   "execution_count": 15,
   "outputs": [],
   "source": [
    "def corpus_embeddings(model, corpus):\n",
    "    embeddings_list = []\n",
    "    for sentence in corpus:\n",
    "        embeddings_list.append(sentence_embeddings(model, sentence))\n",
    "\n",
    "    return np.row_stack(embeddings_list)"
   ],
   "metadata": {
    "collapsed": false,
    "ExecuteTime": {
     "start_time": "2023-04-07T10:28:07.801888Z",
     "end_time": "2023-04-07T10:28:07.952024Z"
    }
   }
  },
  {
   "cell_type": "code",
   "execution_count": 16,
   "outputs": [],
   "source": [
    "from torch.utils.data import DataLoader, Dataset\n",
    "\n",
    "# Dataset for the MSPC dataset\n",
    "class MSPCDataset(Dataset):\n",
    "    \"\"\"\n",
    "    Arguments:\n",
    "        tsv_file (string): path to the tsv file with sentences to compare and associate quality score\n",
    "        num_records (int): number of records to load.  Defaults to None which is all\n",
    "    \"\"\"\n",
    "    def __init__(self, tsv_file, num_records=None):\n",
    "\n",
    "        file_parts = os.path.splitext(tsv_file)\n",
    "        output_file = f\"{file_parts[0]}_stanza{file_parts[1]}\"\n",
    "        preprocess_corpus(input_file=tsv_file, output_file=output_file)\n",
    "\n",
    "        #df = read_file('data/msr_paraphrase_train.txt')\n",
    "        df = pd.read_csv(output_file, sep=\"\\t\")\n",
    "\n",
    "        if num_records is not None:\n",
    "            processed_string1 = df[:num_records].String1\n",
    "            processed_string2 = df[:num_records].String2\n",
    "            self.quality = df[:num_records].Quality\n",
    "        else:\n",
    "            processed_string1 = df.String1\n",
    "            processed_string2 = df.String2\n",
    "            self.quality = df.Quality\n",
    "\n",
    "        # start_time = datetime.datetime.now()\n",
    "        #\n",
    "        # if num_records is not None:\n",
    "        #     processed_string1 = df[:num_records].String1.apply(trunk_construction)\n",
    "        #     processed_string2 = df[:num_records].String2.apply(trunk_construction)\n",
    "        #     self.quality = df[:num_records].Quality\n",
    "        # else:\n",
    "        #     processed_string1 = df.String1.apply(trunk_construction)\n",
    "        #     processed_string2 = df.String2.apply(trunk_construction)\n",
    "        #     self.quality = df.Quality\n",
    "        #\n",
    "        # end_time = datetime.datetime.now()\n",
    "        #\n",
    "        # print (f\"Processing 200 sentences with stanza library took {end_time - start_time}\")\n",
    "        #\n",
    "        # start_time = datetime.datetime.now()\n",
    "        #\n",
    "        # processed_string1 = processed_string1.apply(gensim.utils.simple_preprocess)\n",
    "        # processed_string2 = processed_string2.apply(gensim.utils.simple_preprocess)\n",
    "        #\n",
    "        # end_time = datetime.datetime.now()\n",
    "\n",
    "        corpus = pd.concat([processed_string1, processed_string2], ignore_index=True)\n",
    "\n",
    "        w2v_model = generate_word2vec_model(corpus)\n",
    "\n",
    "        sentence_embeddings1 = corpus_embeddings(w2v_model, processed_string1)\n",
    "        sentence_embeddings2 = corpus_embeddings(w2v_model, processed_string2)\n",
    "\n",
    "\n",
    "\n",
    "        self.sentences_embeddings1 = sentence_embeddings1\n",
    "        self.sentences_embeddings2 = sentence_embeddings2\n",
    "\n",
    "        # print (f\"Processing 200 sentences with gensim.utils.simple_preprocess took {end_time - start_time}\")\n",
    "        print(f\"Number of sentences processed in the String1 column: {len(processed_string1)}\")\n",
    "        print(f\"Number of sentences processed in the String2 column: {len(processed_string2)}\")\n",
    "        #print(self.sentences_embeddings1)\n",
    "\n",
    "\n",
    "\n",
    "    def __len__(self):\n",
    "        return len(self.sentences_embeddings1)\n",
    "\n",
    "    def __getitem__(self, i):\n",
    "        return self.sentences_embeddings1[i], self.sentences_embeddings2[i], self.quality[i]"
   ],
   "metadata": {
    "collapsed": false,
    "ExecuteTime": {
     "start_time": "2023-04-07T10:28:09.409735Z",
     "end_time": "2023-04-07T10:28:09.442214Z"
    }
   }
  },
  {
   "cell_type": "code",
   "execution_count": 27,
   "outputs": [
    {
     "name": "stdout",
     "output_type": "stream",
     "text": [
      "data/msr_paraphrase_train_stanza.txt already exists\n",
      "Number of sentences processed in the String1 column: 10\n",
      "Number of sentences processed in the String2 column: 10\n",
      "10\n"
     ]
    }
   ],
   "source": [
    "def test_dataset():\n",
    "    dataset = MSPCDataset('data/msr_paraphrase_train.txt', 10)\n",
    "    print(len(dataset))\n",
    "    assert len(dataset) == 10\n",
    "    # for set in dataset:\n",
    "    #     print(len(set[0]), len(set[1]))\n",
    "    # print(len(dataset[0][0]))\n",
    "    # print(dataset[0])\n",
    "test_dataset()"
   ],
   "metadata": {
    "collapsed": false,
    "ExecuteTime": {
     "start_time": "2023-04-07T14:32:14.561411Z",
     "end_time": "2023-04-07T14:32:14.897963Z"
    }
   }
  },
  {
   "cell_type": "code",
   "execution_count": 28,
   "outputs": [],
   "source": [
    "def conv_output_volume(W, F, S, P):\n",
    "\n",
    "    \"\"\"\n",
    "    TODO: Given the input volume size $W$, the kernel/filter size $F$,\n",
    "    the stride $S$, and the amount of zero padding $P$ used on the border,\n",
    "    calculate the output volume size.\n",
    "    Note the output should a integer.\n",
    "    \"\"\"\n",
    "\n",
    "    # your code here\n",
    "    #https://cs231n.github.io/convolutional-networks/\n",
    "\n",
    "    return int((W-F+2*P)/S+1)"
   ],
   "metadata": {
    "collapsed": false,
    "ExecuteTime": {
     "start_time": "2023-04-07T14:32:15.557166Z",
     "end_time": "2023-04-07T14:32:15.560063Z"
    }
   }
  },
  {
   "cell_type": "code",
   "execution_count": 29,
   "outputs": [
    {
     "name": "stdout",
     "output_type": "stream",
     "text": [
      "50\n"
     ]
    }
   ],
   "source": [
    "print(conv_output_volume(50, 3, 1, 1))"
   ],
   "metadata": {
    "collapsed": false,
    "ExecuteTime": {
     "start_time": "2023-04-07T14:32:18.231576Z",
     "end_time": "2023-04-07T14:32:18.377984Z"
    }
   }
  },
  {
   "cell_type": "markdown",
   "source": [
    "## Pooling Layers\n",
    "\n",
    "The original paper used a dynamic k-max pooling method in their model. The _k_ value is determine by equation (1).\n",
    "\n",
    "\\begin{equation*} k=\\max \\left({k_{top},\\left \\lceil{ \\frac {L-l}{L} \\left |{ s }\\right | }\\right \\rceil }\\right)\\end{equation*}\n",
    "\n",
    "__Dynamic K-Max Pooling Implementation:__"
   ],
   "metadata": {
    "collapsed": false
   }
  },
  {
   "cell_type": "code",
   "execution_count": 92,
   "outputs": [],
   "source": [
    "#https://gist.github.com/anna-hope/7a2b2e66c3645aa8e4f94dbf06aed8d\n",
    "\"\"\"\n",
    "TODO: Remove hardcoded values and max it dynamic.\n",
    "\"\"\"\n",
    "class DynamicKMaxPooling(nn.Module):\n",
    "    def __init__(self, k_init, conv_layers, layer):\n",
    "        super().__init__()\n",
    "        # \"L is the total  number  of  convolutional  layers\n",
    "        # in  the  network;\n",
    "        # ktop is the fixed pooling parameter for the\n",
    "        # topmost  convolutional  layer\"\n",
    "        self.k_init = k_init\n",
    "        self.conv_layers = conv_layers\n",
    "        self.layer = layer\n",
    "\n",
    "    def forward(self, X):\n",
    "        s = 50\n",
    "        dyn_k = ((self.conv_layers - self.layer) / self.conv_layers) * 3\n",
    "        k_max = int(round(max(self.k_init, np.ceil(dyn_k))))\n",
    "        print(k_max)\n",
    "        out = F.max_pool1d(X, kernel_size=k_max)\n",
    "        return out"
   ],
   "metadata": {
    "collapsed": false,
    "ExecuteTime": {
     "start_time": "2023-04-07T15:50:59.023740Z",
     "end_time": "2023-04-07T15:50:59.325715Z"
    }
   }
  },
  {
   "cell_type": "markdown",
   "source": [
    "## Sentence Similarity Convolution Network (SSCN)"
   ],
   "metadata": {
    "collapsed": false
   }
  },
  {
   "cell_type": "code",
   "execution_count": 101,
   "outputs": [],
   "source": [
    "class SSCN(nn.Module):\n",
    "    def __init__(self, max_words, stride, kernel_size=3, padding=1):\n",
    "        super().__init__()\n",
    "        self.stride = stride\n",
    "        self.kernel_size = kernel_size\n",
    "        self.padding = padding\n",
    "        self.max_words = max_words\n",
    "\n",
    "        out_channel = conv_output_volume(self.max_words,self.kernel_size, self.stride, self.padding)\n",
    "\n",
    "        #NN layers\n",
    "        layers = {}\n",
    "\n",
    "        self.conv1 = nn.Conv1d(in_channels=1, out_channels=1, kernel_size=self.kernel_size, padding=self.padding)\n",
    "        self.relu1 = nn.ReLU()\n",
    "        self.conv2 = nn.Conv1d(in_channels=1, out_channels=1, kernel_size=self.kernel_size, padding=self.padding)\n",
    "        self.relu2 = nn.ReLU()\n",
    "        self.pool1 = DynamicKMaxPooling(self.kernel_size, 2, 1)\n",
    "        self.pool2 = DynamicKMaxPooling(self.kernel_size, 2, 2)\n",
    "\n",
    "\n",
    "        #self.sscn = nn.Sequential(conv1, relu1, conv2, relu2)\n",
    "        # self.pool1  = DynamicKMaxPooling(self.kernel_size, 2, 1)\n",
    "        # self.pool2 = DynamicKMaxPooling(self.kernel_size, 2, 2)\n",
    "        self.sscn = nn.Sequential(self.conv1, self.relu1, self.conv2, self.relu2, self.pool1, self.pool2)\n",
    "\n",
    "    def forward(self, X):\n",
    "        # out = self.conv1(X)\n",
    "        # out = self.relu1(out)\n",
    "        # out = self.conv2(out)\n",
    "        # out = self.relu2(out)\n",
    "        # out = self.pool1(out)\n",
    "        # out = self.pool2(out)\n",
    "        out = self.sscn(X)\n",
    "        return out"
   ],
   "metadata": {
    "collapsed": false,
    "ExecuteTime": {
     "start_time": "2023-04-07T16:03:03.176345Z",
     "end_time": "2023-04-07T16:03:03.543128Z"
    }
   }
  },
  {
   "cell_type": "markdown",
   "source": [
    "__Testing:__"
   ],
   "metadata": {
    "collapsed": false
   }
  },
  {
   "cell_type": "code",
   "execution_count": 103,
   "outputs": [
    {
     "name": "stdout",
     "output_type": "stream",
     "text": [
      "********** X **********\n",
      "torch.Size([1, 50])\n",
      "tensor([[-0.0011, -0.0012,  0.0025,  0.0006,  0.0019,  0.0038, -0.0001,  0.0035,\n",
      "         -0.0024,  0.0055, -0.0057, -0.0049, -0.0022,  0.0074,  0.0035, -0.0014,\n",
      "         -0.0008,  0.0066,  0.0024, -0.0045, -0.0012, -0.0009,  0.0021, -0.0009,\n",
      "          0.0028,  0.0037,  0.0036,  0.0052, -0.0009,  0.0011, -0.0022, -0.0037,\n",
      "          0.0008, -0.0061, -0.0031,  0.0009,  0.0050, -0.0009, -0.0007, -0.0005,\n",
      "          0.0037,  0.0031, -0.0030,  0.0035,  0.0015, -0.0008, -0.0013, -0.0009,\n",
      "         -0.0008,  0.0047]])\n",
      "********** conv1 **********\n",
      "torch.Size([1, 50])\n",
      "tensor([[0.3850, 0.3860, 0.3867, 0.3871, 0.3879, 0.3875, 0.3876, 0.3862, 0.3873,\n",
      "         0.3855, 0.3829, 0.3823, 0.3867, 0.3893, 0.3879, 0.3856, 0.3875, 0.3889,\n",
      "         0.3863, 0.3841, 0.3843, 0.3860, 0.3861, 0.3868, 0.3879, 0.3889, 0.3895,\n",
      "         0.3880, 0.3867, 0.3853, 0.3839, 0.3843, 0.3834, 0.3826, 0.3839, 0.3873,\n",
      "         0.3875, 0.3861, 0.3852, 0.3868, 0.3881, 0.3865, 0.3864, 0.3871, 0.3867,\n",
      "         0.3853, 0.3849, 0.3850, 0.3870, 0.3874]], grad_fn=<SqueezeBackward1>)\n",
      "********** relu1 **********\n",
      "torch.Size([1, 50])\n",
      "tensor([[0.3850, 0.3860, 0.3867, 0.3871, 0.3879, 0.3875, 0.3876, 0.3862, 0.3873,\n",
      "         0.3855, 0.3829, 0.3823, 0.3867, 0.3893, 0.3879, 0.3856, 0.3875, 0.3889,\n",
      "         0.3863, 0.3841, 0.3843, 0.3860, 0.3861, 0.3868, 0.3879, 0.3889, 0.3895,\n",
      "         0.3880, 0.3867, 0.3853, 0.3839, 0.3843, 0.3834, 0.3826, 0.3839, 0.3873,\n",
      "         0.3875, 0.3861, 0.3852, 0.3868, 0.3881, 0.3865, 0.3864, 0.3871, 0.3867,\n",
      "         0.3853, 0.3849, 0.3850, 0.3870, 0.3874]], grad_fn=<ReluBackward0>)\n",
      "********** conv2 **********\n",
      "torch.Size([1, 50])\n",
      "tensor([[0.1882, 0.2042, 0.2040, 0.2039, 0.2035, 0.2038, 0.2035, 0.2043, 0.2035,\n",
      "         0.2041, 0.2052, 0.2059, 0.2041, 0.2028, 0.2034, 0.2047, 0.2038, 0.2029,\n",
      "         0.2040, 0.2049, 0.2049, 0.2042, 0.2042, 0.2041, 0.2037, 0.2033, 0.2029,\n",
      "         0.2035, 0.2039, 0.2043, 0.2050, 0.2046, 0.2050, 0.2055, 0.2052, 0.2037,\n",
      "         0.2036, 0.2041, 0.2047, 0.2041, 0.2033, 0.2041, 0.2042, 0.2038, 0.2038,\n",
      "         0.2044, 0.2046, 0.2047, 0.2039, 0.1565]], grad_fn=<SqueezeBackward1>)\n",
      "********** relu2 **********\n",
      "torch.Size([1, 50])\n",
      "tensor([[0.1882, 0.2042, 0.2040, 0.2039, 0.2035, 0.2038, 0.2035, 0.2043, 0.2035,\n",
      "         0.2041, 0.2052, 0.2059, 0.2041, 0.2028, 0.2034, 0.2047, 0.2038, 0.2029,\n",
      "         0.2040, 0.2049, 0.2049, 0.2042, 0.2042, 0.2041, 0.2037, 0.2033, 0.2029,\n",
      "         0.2035, 0.2039, 0.2043, 0.2050, 0.2046, 0.2050, 0.2055, 0.2052, 0.2037,\n",
      "         0.2036, 0.2041, 0.2047, 0.2041, 0.2033, 0.2041, 0.2042, 0.2038, 0.2038,\n",
      "         0.2044, 0.2046, 0.2047, 0.2039, 0.1565]], grad_fn=<ReluBackward0>)\n",
      "3\n",
      "********** pool1 **********\n",
      "torch.Size([1, 16])\n",
      "tensor([[0.2042, 0.2039, 0.2043, 0.2059, 0.2041, 0.2047, 0.2049, 0.2042, 0.2037,\n",
      "         0.2043, 0.2050, 0.2055, 0.2047, 0.2041, 0.2042, 0.2047]],\n",
      "       grad_fn=<SqueezeBackward1>)\n",
      "3\n",
      "********** pool2 **********\n",
      "torch.Size([1, 5])\n",
      "tensor([[0.2043, 0.2059, 0.2049, 0.2055, 0.2047]], grad_fn=<SqueezeBackward1>)\n",
      "torch.Size([1, 5])\n"
     ]
    }
   ],
   "source": [
    "model = SSCN(50,1)\n",
    "\n",
    "test_embedding = torch.FloatTensor([-0.00113049, -0.00124808,  0.00252251,  0.00058141,  0.00187964,  0.00379025,\n",
    "              -0.00012356,  0.00347055, -0.00241507,  0.00545258, -0.00574078, -0.00489824,\n",
    "              -0.00224492,  0.00744946,  0.00350835, -0.00139295, -0.00081134,  0.00655962,\n",
    "              0.00244374, -0.00447209, -0.00124291, -0.00092616,  0.0021044,  -0.00092541,\n",
    "              0.00284307,  0.00367638,  0.00364716,  0.00519976, -0.00088121,  0.00109841,\n",
    "              -0.00219322, -0.00372483,  0.00078702, -0.00612309, -0.00312131,  0.00088071,\n",
    "              0.00503909, -0.0009484,  -0.00068209, -0.0004782,   0.00367015,  0.00314679,\n",
    "              -0.00302592,  0.00346377,  0.00151145, -0.00076442, -0.0012528,  -0.00087095,\n",
    "              -0.00075365,  0.00468711]).reshape(1,50)\n",
    "\n",
    "out = model(test_embedding)\n",
    "\n",
    "print(out.shape)"
   ],
   "metadata": {
    "collapsed": false,
    "ExecuteTime": {
     "start_time": "2023-04-07T16:03:30.762627Z",
     "end_time": "2023-04-07T16:03:30.924411Z"
    }
   }
  },
  {
   "cell_type": "markdown",
   "source": [
    "### Sentence Similarity\n",
    "\n",
    " \\begin{align*} Man(\\vec V_{x}, \\vec V_{y})=&\\left |{ x_{1}-y_{1} }\\right |\\! +\\! \\left |{ x_{2}-y_{2} }\\right | \\!+ \\!\\ldots \\!+ \\!\\left |{ x_{n}-y_{n} }\\right |\n",
    " \\\\ score=&e^{-Man(\\vec V_{x}, \\vec V_{y})},\\quad score\\in [{0,1}] \\end{align*}"
   ],
   "metadata": {
    "collapsed": false
   }
  },
  {
   "cell_type": "code",
   "execution_count": null,
   "outputs": [],
   "source": [
    "from sklearn.metrics.pairwise import manhattan_distances\n",
    "\n",
    "def ManhattanSimilarity(S,T):\n",
    "    \n"
   ],
   "metadata": {
    "collapsed": false
   }
  },
  {
   "cell_type": "code",
   "execution_count": null,
   "outputs": [],
   "source": [],
   "metadata": {
    "collapsed": false
   }
  }
 ],
 "metadata": {
  "kernelspec": {
   "display_name": "Python 3",
   "language": "python",
   "name": "python3"
  },
  "language_info": {
   "codemirror_mode": {
    "name": "ipython",
    "version": 2
   },
   "file_extension": ".py",
   "mimetype": "text/x-python",
   "name": "python",
   "nbconvert_exporter": "python",
   "pygments_lexer": "ipython2",
   "version": "2.7.6"
  }
 },
 "nbformat": 4,
 "nbformat_minor": 0
}
